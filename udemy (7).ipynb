{
  "cells": [
    {
      "cell_type": "code",
      "execution_count": 2,
      "metadata": {
        "colab": {
          "base_uri": "https://localhost:8080/"
        },
        "id": "F9Pu0z-4jk7v",
        "outputId": "1a8809aa-c729-4f6c-f2a2-3e7623e40443"
      },
      "outputs": [
        {
          "output_type": "stream",
          "name": "stdout",
          "text": [
            "unzip:  cannot find or open /content/projectfile.zip, /content/projectfile.zip.zip or /content/projectfile.zip.ZIP.\n"
          ]
        }
      ],
      "source": [
        "!unzip '/content/projectfile.zip'"
      ]
    },
    {
      "cell_type": "code",
      "execution_count": 3,
      "metadata": {
        "id": "PaggotrnkHNn"
      },
      "outputs": [],
      "source": [
        "import numpy as np\n",
        "import pandas as pd"
      ]
    },
    {
      "cell_type": "code",
      "execution_count": 4,
      "metadata": {
        "id": "HAGfvHUEkPXo"
      },
      "outputs": [],
      "source": [
        "import matplotlib.pyplot as plt\n",
        "import seaborn as sns"
      ]
    },
    {
      "cell_type": "code",
      "execution_count": 5,
      "metadata": {
        "id": "UZax_ZmlkXZP"
      },
      "outputs": [],
      "source": [
        "df_c = pd.read_csv(\"/content/drive/MyDrive/Project_DBDA/courses.csv\")"
      ]
    },
    {
      "cell_type": "code",
      "execution_count": null,
      "metadata": {
        "colab": {
          "base_uri": "https://localhost:8080/",
          "height": 573
        },
        "id": "pTQAk3iMkiVQ",
        "outputId": "c4e47180-3406-44f0-ea11-6b3c6b15cdcf"
      },
      "outputs": [
        {
          "output_type": "execute_result",
          "data": {
            "text/plain": [
              "        id                                              title  \\\n",
              "0   567828  The Complete Python Bootcamp From Zero to Hero...   \n",
              "1  1565838         The Complete 2023 Web Development Bootcamp   \n",
              "2   625204                    The Web Developer Bootcamp 2023   \n",
              "3   756150        Angular - The Complete Guide (2023 Edition)   \n",
              "4  2776760  100 Days of Code: The Complete Python Pro Boot...   \n",
              "\n",
              "                                              url    rating  num_reviews  \\\n",
              "0               /course/complete-python-bootcamp/  4.592782       452973   \n",
              "1  /course/the-complete-web-development-bootcamp/  4.667258       263152   \n",
              "2             /course/the-web-developer-bootcamp/  4.696147       254711   \n",
              "3        /course/the-complete-guide-to-angular-2/  4.592692       180257   \n",
              "4                       /course/100-days-of-code/  4.695252       177568   \n",
              "\n",
              "   num_published_lectures               created last_update_date  \\\n",
              "0                     155  2015-07-29T00:12:23Z       2021-03-14   \n",
              "1                     490  2018-02-22T12:02:33Z       2023-01-20   \n",
              "2                     616  2015-09-28T21:32:19Z       2023-02-12   \n",
              "3                     472  2016-02-08T17:02:55Z       2023-02-06   \n",
              "4                     676  2020-01-24T10:47:21Z       2022-11-30   \n",
              "\n",
              "           duration  instructors_id  \\\n",
              "0    22 total hours         9685726   \n",
              "1  65.5 total hours        31334738   \n",
              "2    64 total hours         4466306   \n",
              "3  34.5 total hours        13952972   \n",
              "4    64 total hours        31334738   \n",
              "\n",
              "                                               image  \n",
              "0  https://img-c.udemycdn.com/course/750x422/5678...  \n",
              "1  https://img-c.udemycdn.com/course/750x422/1565...  \n",
              "2  https://img-c.udemycdn.com/course/750x422/6252...  \n",
              "3  https://img-c.udemycdn.com/course/750x422/7561...  \n",
              "4  https://img-c.udemycdn.com/course/750x422/2776...  "
            ],
            "text/html": [
              "\n",
              "  <div id=\"df-b8c350c9-660f-4fcc-8777-70f93572433d\" class=\"colab-df-container\">\n",
              "    <div>\n",
              "<style scoped>\n",
              "    .dataframe tbody tr th:only-of-type {\n",
              "        vertical-align: middle;\n",
              "    }\n",
              "\n",
              "    .dataframe tbody tr th {\n",
              "        vertical-align: top;\n",
              "    }\n",
              "\n",
              "    .dataframe thead th {\n",
              "        text-align: right;\n",
              "    }\n",
              "</style>\n",
              "<table border=\"1\" class=\"dataframe\">\n",
              "  <thead>\n",
              "    <tr style=\"text-align: right;\">\n",
              "      <th></th>\n",
              "      <th>id</th>\n",
              "      <th>title</th>\n",
              "      <th>url</th>\n",
              "      <th>rating</th>\n",
              "      <th>num_reviews</th>\n",
              "      <th>num_published_lectures</th>\n",
              "      <th>created</th>\n",
              "      <th>last_update_date</th>\n",
              "      <th>duration</th>\n",
              "      <th>instructors_id</th>\n",
              "      <th>image</th>\n",
              "    </tr>\n",
              "  </thead>\n",
              "  <tbody>\n",
              "    <tr>\n",
              "      <th>0</th>\n",
              "      <td>567828</td>\n",
              "      <td>The Complete Python Bootcamp From Zero to Hero...</td>\n",
              "      <td>/course/complete-python-bootcamp/</td>\n",
              "      <td>4.592782</td>\n",
              "      <td>452973</td>\n",
              "      <td>155</td>\n",
              "      <td>2015-07-29T00:12:23Z</td>\n",
              "      <td>2021-03-14</td>\n",
              "      <td>22 total hours</td>\n",
              "      <td>9685726</td>\n",
              "      <td>https://img-c.udemycdn.com/course/750x422/5678...</td>\n",
              "    </tr>\n",
              "    <tr>\n",
              "      <th>1</th>\n",
              "      <td>1565838</td>\n",
              "      <td>The Complete 2023 Web Development Bootcamp</td>\n",
              "      <td>/course/the-complete-web-development-bootcamp/</td>\n",
              "      <td>4.667258</td>\n",
              "      <td>263152</td>\n",
              "      <td>490</td>\n",
              "      <td>2018-02-22T12:02:33Z</td>\n",
              "      <td>2023-01-20</td>\n",
              "      <td>65.5 total hours</td>\n",
              "      <td>31334738</td>\n",
              "      <td>https://img-c.udemycdn.com/course/750x422/1565...</td>\n",
              "    </tr>\n",
              "    <tr>\n",
              "      <th>2</th>\n",
              "      <td>625204</td>\n",
              "      <td>The Web Developer Bootcamp 2023</td>\n",
              "      <td>/course/the-web-developer-bootcamp/</td>\n",
              "      <td>4.696147</td>\n",
              "      <td>254711</td>\n",
              "      <td>616</td>\n",
              "      <td>2015-09-28T21:32:19Z</td>\n",
              "      <td>2023-02-12</td>\n",
              "      <td>64 total hours</td>\n",
              "      <td>4466306</td>\n",
              "      <td>https://img-c.udemycdn.com/course/750x422/6252...</td>\n",
              "    </tr>\n",
              "    <tr>\n",
              "      <th>3</th>\n",
              "      <td>756150</td>\n",
              "      <td>Angular - The Complete Guide (2023 Edition)</td>\n",
              "      <td>/course/the-complete-guide-to-angular-2/</td>\n",
              "      <td>4.592692</td>\n",
              "      <td>180257</td>\n",
              "      <td>472</td>\n",
              "      <td>2016-02-08T17:02:55Z</td>\n",
              "      <td>2023-02-06</td>\n",
              "      <td>34.5 total hours</td>\n",
              "      <td>13952972</td>\n",
              "      <td>https://img-c.udemycdn.com/course/750x422/7561...</td>\n",
              "    </tr>\n",
              "    <tr>\n",
              "      <th>4</th>\n",
              "      <td>2776760</td>\n",
              "      <td>100 Days of Code: The Complete Python Pro Boot...</td>\n",
              "      <td>/course/100-days-of-code/</td>\n",
              "      <td>4.695252</td>\n",
              "      <td>177568</td>\n",
              "      <td>676</td>\n",
              "      <td>2020-01-24T10:47:21Z</td>\n",
              "      <td>2022-11-30</td>\n",
              "      <td>64 total hours</td>\n",
              "      <td>31334738</td>\n",
              "      <td>https://img-c.udemycdn.com/course/750x422/2776...</td>\n",
              "    </tr>\n",
              "  </tbody>\n",
              "</table>\n",
              "</div>\n",
              "    <div class=\"colab-df-buttons\">\n",
              "\n",
              "  <div class=\"colab-df-container\">\n",
              "    <button class=\"colab-df-convert\" onclick=\"convertToInteractive('df-b8c350c9-660f-4fcc-8777-70f93572433d')\"\n",
              "            title=\"Convert this dataframe to an interactive table.\"\n",
              "            style=\"display:none;\">\n",
              "\n",
              "  <svg xmlns=\"http://www.w3.org/2000/svg\" height=\"24px\" viewBox=\"0 -960 960 960\">\n",
              "    <path d=\"M120-120v-720h720v720H120Zm60-500h600v-160H180v160Zm220 220h160v-160H400v160Zm0 220h160v-160H400v160ZM180-400h160v-160H180v160Zm440 0h160v-160H620v160ZM180-180h160v-160H180v160Zm440 0h160v-160H620v160Z\"/>\n",
              "  </svg>\n",
              "    </button>\n",
              "\n",
              "  <style>\n",
              "    .colab-df-container {\n",
              "      display:flex;\n",
              "      gap: 12px;\n",
              "    }\n",
              "\n",
              "    .colab-df-convert {\n",
              "      background-color: #E8F0FE;\n",
              "      border: none;\n",
              "      border-radius: 50%;\n",
              "      cursor: pointer;\n",
              "      display: none;\n",
              "      fill: #1967D2;\n",
              "      height: 32px;\n",
              "      padding: 0 0 0 0;\n",
              "      width: 32px;\n",
              "    }\n",
              "\n",
              "    .colab-df-convert:hover {\n",
              "      background-color: #E2EBFA;\n",
              "      box-shadow: 0px 1px 2px rgba(60, 64, 67, 0.3), 0px 1px 3px 1px rgba(60, 64, 67, 0.15);\n",
              "      fill: #174EA6;\n",
              "    }\n",
              "\n",
              "    .colab-df-buttons div {\n",
              "      margin-bottom: 4px;\n",
              "    }\n",
              "\n",
              "    [theme=dark] .colab-df-convert {\n",
              "      background-color: #3B4455;\n",
              "      fill: #D2E3FC;\n",
              "    }\n",
              "\n",
              "    [theme=dark] .colab-df-convert:hover {\n",
              "      background-color: #434B5C;\n",
              "      box-shadow: 0px 1px 3px 1px rgba(0, 0, 0, 0.15);\n",
              "      filter: drop-shadow(0px 1px 2px rgba(0, 0, 0, 0.3));\n",
              "      fill: #FFFFFF;\n",
              "    }\n",
              "  </style>\n",
              "\n",
              "    <script>\n",
              "      const buttonEl =\n",
              "        document.querySelector('#df-b8c350c9-660f-4fcc-8777-70f93572433d button.colab-df-convert');\n",
              "      buttonEl.style.display =\n",
              "        google.colab.kernel.accessAllowed ? 'block' : 'none';\n",
              "\n",
              "      async function convertToInteractive(key) {\n",
              "        const element = document.querySelector('#df-b8c350c9-660f-4fcc-8777-70f93572433d');\n",
              "        const dataTable =\n",
              "          await google.colab.kernel.invokeFunction('convertToInteractive',\n",
              "                                                    [key], {});\n",
              "        if (!dataTable) return;\n",
              "\n",
              "        const docLinkHtml = 'Like what you see? Visit the ' +\n",
              "          '<a target=\"_blank\" href=https://colab.research.google.com/notebooks/data_table.ipynb>data table notebook</a>'\n",
              "          + ' to learn more about interactive tables.';\n",
              "        element.innerHTML = '';\n",
              "        dataTable['output_type'] = 'display_data';\n",
              "        await google.colab.output.renderOutput(dataTable, element);\n",
              "        const docLink = document.createElement('div');\n",
              "        docLink.innerHTML = docLinkHtml;\n",
              "        element.appendChild(docLink);\n",
              "      }\n",
              "    </script>\n",
              "  </div>\n",
              "\n",
              "\n",
              "<div id=\"df-61134d93-3962-4e56-996d-809b6910b515\">\n",
              "  <button class=\"colab-df-quickchart\" onclick=\"quickchart('df-61134d93-3962-4e56-996d-809b6910b515')\"\n",
              "            title=\"Suggest charts.\"\n",
              "            style=\"display:none;\">\n",
              "\n",
              "<svg xmlns=\"http://www.w3.org/2000/svg\" height=\"24px\"viewBox=\"0 0 24 24\"\n",
              "     width=\"24px\">\n",
              "    <g>\n",
              "        <path d=\"M19 3H5c-1.1 0-2 .9-2 2v14c0 1.1.9 2 2 2h14c1.1 0 2-.9 2-2V5c0-1.1-.9-2-2-2zM9 17H7v-7h2v7zm4 0h-2V7h2v10zm4 0h-2v-4h2v4z\"/>\n",
              "    </g>\n",
              "</svg>\n",
              "  </button>\n",
              "\n",
              "<style>\n",
              "  .colab-df-quickchart {\n",
              "    background-color: #E8F0FE;\n",
              "    border: none;\n",
              "    border-radius: 50%;\n",
              "    cursor: pointer;\n",
              "    display: none;\n",
              "    fill: #1967D2;\n",
              "    height: 32px;\n",
              "    padding: 0 0 0 0;\n",
              "    width: 32px;\n",
              "  }\n",
              "\n",
              "  .colab-df-quickchart:hover {\n",
              "    background-color: #E2EBFA;\n",
              "    box-shadow: 0px 1px 2px rgba(60, 64, 67, 0.3), 0px 1px 3px 1px rgba(60, 64, 67, 0.15);\n",
              "    fill: #174EA6;\n",
              "  }\n",
              "\n",
              "  [theme=dark] .colab-df-quickchart {\n",
              "    background-color: #3B4455;\n",
              "    fill: #D2E3FC;\n",
              "  }\n",
              "\n",
              "  [theme=dark] .colab-df-quickchart:hover {\n",
              "    background-color: #434B5C;\n",
              "    box-shadow: 0px 1px 3px 1px rgba(0, 0, 0, 0.15);\n",
              "    filter: drop-shadow(0px 1px 2px rgba(0, 0, 0, 0.3));\n",
              "    fill: #FFFFFF;\n",
              "  }\n",
              "</style>\n",
              "\n",
              "  <script>\n",
              "    async function quickchart(key) {\n",
              "      const charts = await google.colab.kernel.invokeFunction(\n",
              "          'suggestCharts', [key], {});\n",
              "    }\n",
              "    (() => {\n",
              "      let quickchartButtonEl =\n",
              "        document.querySelector('#df-61134d93-3962-4e56-996d-809b6910b515 button');\n",
              "      quickchartButtonEl.style.display =\n",
              "        google.colab.kernel.accessAllowed ? 'block' : 'none';\n",
              "    })();\n",
              "  </script>\n",
              "</div>\n",
              "    </div>\n",
              "  </div>\n"
            ]
          },
          "metadata": {},
          "execution_count": 6
        }
      ],
      "source": [
        "df_c.head()"
      ]
    },
    {
      "cell_type": "code",
      "execution_count": null,
      "metadata": {
        "colab": {
          "base_uri": "https://localhost:8080/"
        },
        "id": "fHlgkcyukpgN",
        "outputId": "b8d2806f-070c-4afd-f82d-72e890b6f99e"
      },
      "outputs": [
        {
          "output_type": "stream",
          "name": "stdout",
          "text": [
            "<class 'pandas.core.frame.DataFrame'>\n",
            "RangeIndex: 83104 entries, 0 to 83103\n",
            "Data columns (total 11 columns):\n",
            " #   Column                  Non-Null Count  Dtype  \n",
            "---  ------                  --------------  -----  \n",
            " 0   id                      83104 non-null  int64  \n",
            " 1   title                   83104 non-null  object \n",
            " 2   url                     83104 non-null  object \n",
            " 3   rating                  83104 non-null  float64\n",
            " 4   num_reviews             83104 non-null  int64  \n",
            " 5   num_published_lectures  83104 non-null  int64  \n",
            " 6   created                 83104 non-null  object \n",
            " 7   last_update_date        83026 non-null  object \n",
            " 8   duration                83104 non-null  object \n",
            " 9   instructors_id          83104 non-null  int64  \n",
            " 10  image                   83104 non-null  object \n",
            "dtypes: float64(1), int64(4), object(6)\n",
            "memory usage: 7.0+ MB\n"
          ]
        }
      ],
      "source": [
        "df_c.info()"
      ]
    },
    {
      "cell_type": "code",
      "execution_count": null,
      "metadata": {
        "id": "0BFwvkRGksQD"
      },
      "outputs": [],
      "source": [
        "numerical_features = ['rating', 'num_reviews', 'num_published_lectures', 'duration']\n",
        "df_cn = df_c[numerical_features]"
      ]
    },
    {
      "cell_type": "code",
      "execution_count": null,
      "metadata": {
        "colab": {
          "base_uri": "https://localhost:8080/",
          "height": 300
        },
        "id": "QkG-HMFFkvZ0",
        "outputId": "a3d627d4-6897-441f-ab56-ecf9a4fbdcea"
      },
      "outputs": [
        {
          "output_type": "execute_result",
          "data": {
            "text/plain": [
              "             rating    num_reviews  num_published_lectures\n",
              "count  83104.000000   83104.000000            83104.000000\n",
              "mean       4.024024     432.482131               41.189028\n",
              "std        1.165697    3959.906512               54.618540\n",
              "min        0.000000       0.000000                0.000000\n",
              "25%        3.954133       9.000000               13.000000\n",
              "50%        4.359388      36.000000               25.000000\n",
              "75%        4.623386     135.000000               48.000000\n",
              "max        5.000000  452973.000000              891.000000"
            ],
            "text/html": [
              "\n",
              "  <div id=\"df-a7c354d4-64ed-4a68-b311-040f876b9db7\" class=\"colab-df-container\">\n",
              "    <div>\n",
              "<style scoped>\n",
              "    .dataframe tbody tr th:only-of-type {\n",
              "        vertical-align: middle;\n",
              "    }\n",
              "\n",
              "    .dataframe tbody tr th {\n",
              "        vertical-align: top;\n",
              "    }\n",
              "\n",
              "    .dataframe thead th {\n",
              "        text-align: right;\n",
              "    }\n",
              "</style>\n",
              "<table border=\"1\" class=\"dataframe\">\n",
              "  <thead>\n",
              "    <tr style=\"text-align: right;\">\n",
              "      <th></th>\n",
              "      <th>rating</th>\n",
              "      <th>num_reviews</th>\n",
              "      <th>num_published_lectures</th>\n",
              "    </tr>\n",
              "  </thead>\n",
              "  <tbody>\n",
              "    <tr>\n",
              "      <th>count</th>\n",
              "      <td>83104.000000</td>\n",
              "      <td>83104.000000</td>\n",
              "      <td>83104.000000</td>\n",
              "    </tr>\n",
              "    <tr>\n",
              "      <th>mean</th>\n",
              "      <td>4.024024</td>\n",
              "      <td>432.482131</td>\n",
              "      <td>41.189028</td>\n",
              "    </tr>\n",
              "    <tr>\n",
              "      <th>std</th>\n",
              "      <td>1.165697</td>\n",
              "      <td>3959.906512</td>\n",
              "      <td>54.618540</td>\n",
              "    </tr>\n",
              "    <tr>\n",
              "      <th>min</th>\n",
              "      <td>0.000000</td>\n",
              "      <td>0.000000</td>\n",
              "      <td>0.000000</td>\n",
              "    </tr>\n",
              "    <tr>\n",
              "      <th>25%</th>\n",
              "      <td>3.954133</td>\n",
              "      <td>9.000000</td>\n",
              "      <td>13.000000</td>\n",
              "    </tr>\n",
              "    <tr>\n",
              "      <th>50%</th>\n",
              "      <td>4.359388</td>\n",
              "      <td>36.000000</td>\n",
              "      <td>25.000000</td>\n",
              "    </tr>\n",
              "    <tr>\n",
              "      <th>75%</th>\n",
              "      <td>4.623386</td>\n",
              "      <td>135.000000</td>\n",
              "      <td>48.000000</td>\n",
              "    </tr>\n",
              "    <tr>\n",
              "      <th>max</th>\n",
              "      <td>5.000000</td>\n",
              "      <td>452973.000000</td>\n",
              "      <td>891.000000</td>\n",
              "    </tr>\n",
              "  </tbody>\n",
              "</table>\n",
              "</div>\n",
              "    <div class=\"colab-df-buttons\">\n",
              "\n",
              "  <div class=\"colab-df-container\">\n",
              "    <button class=\"colab-df-convert\" onclick=\"convertToInteractive('df-a7c354d4-64ed-4a68-b311-040f876b9db7')\"\n",
              "            title=\"Convert this dataframe to an interactive table.\"\n",
              "            style=\"display:none;\">\n",
              "\n",
              "  <svg xmlns=\"http://www.w3.org/2000/svg\" height=\"24px\" viewBox=\"0 -960 960 960\">\n",
              "    <path d=\"M120-120v-720h720v720H120Zm60-500h600v-160H180v160Zm220 220h160v-160H400v160Zm0 220h160v-160H400v160ZM180-400h160v-160H180v160Zm440 0h160v-160H620v160ZM180-180h160v-160H180v160Zm440 0h160v-160H620v160Z\"/>\n",
              "  </svg>\n",
              "    </button>\n",
              "\n",
              "  <style>\n",
              "    .colab-df-container {\n",
              "      display:flex;\n",
              "      gap: 12px;\n",
              "    }\n",
              "\n",
              "    .colab-df-convert {\n",
              "      background-color: #E8F0FE;\n",
              "      border: none;\n",
              "      border-radius: 50%;\n",
              "      cursor: pointer;\n",
              "      display: none;\n",
              "      fill: #1967D2;\n",
              "      height: 32px;\n",
              "      padding: 0 0 0 0;\n",
              "      width: 32px;\n",
              "    }\n",
              "\n",
              "    .colab-df-convert:hover {\n",
              "      background-color: #E2EBFA;\n",
              "      box-shadow: 0px 1px 2px rgba(60, 64, 67, 0.3), 0px 1px 3px 1px rgba(60, 64, 67, 0.15);\n",
              "      fill: #174EA6;\n",
              "    }\n",
              "\n",
              "    .colab-df-buttons div {\n",
              "      margin-bottom: 4px;\n",
              "    }\n",
              "\n",
              "    [theme=dark] .colab-df-convert {\n",
              "      background-color: #3B4455;\n",
              "      fill: #D2E3FC;\n",
              "    }\n",
              "\n",
              "    [theme=dark] .colab-df-convert:hover {\n",
              "      background-color: #434B5C;\n",
              "      box-shadow: 0px 1px 3px 1px rgba(0, 0, 0, 0.15);\n",
              "      filter: drop-shadow(0px 1px 2px rgba(0, 0, 0, 0.3));\n",
              "      fill: #FFFFFF;\n",
              "    }\n",
              "  </style>\n",
              "\n",
              "    <script>\n",
              "      const buttonEl =\n",
              "        document.querySelector('#df-a7c354d4-64ed-4a68-b311-040f876b9db7 button.colab-df-convert');\n",
              "      buttonEl.style.display =\n",
              "        google.colab.kernel.accessAllowed ? 'block' : 'none';\n",
              "\n",
              "      async function convertToInteractive(key) {\n",
              "        const element = document.querySelector('#df-a7c354d4-64ed-4a68-b311-040f876b9db7');\n",
              "        const dataTable =\n",
              "          await google.colab.kernel.invokeFunction('convertToInteractive',\n",
              "                                                    [key], {});\n",
              "        if (!dataTable) return;\n",
              "\n",
              "        const docLinkHtml = 'Like what you see? Visit the ' +\n",
              "          '<a target=\"_blank\" href=https://colab.research.google.com/notebooks/data_table.ipynb>data table notebook</a>'\n",
              "          + ' to learn more about interactive tables.';\n",
              "        element.innerHTML = '';\n",
              "        dataTable['output_type'] = 'display_data';\n",
              "        await google.colab.output.renderOutput(dataTable, element);\n",
              "        const docLink = document.createElement('div');\n",
              "        docLink.innerHTML = docLinkHtml;\n",
              "        element.appendChild(docLink);\n",
              "      }\n",
              "    </script>\n",
              "  </div>\n",
              "\n",
              "\n",
              "<div id=\"df-66a3cb6b-5aa2-457d-8b48-89762efdd0e6\">\n",
              "  <button class=\"colab-df-quickchart\" onclick=\"quickchart('df-66a3cb6b-5aa2-457d-8b48-89762efdd0e6')\"\n",
              "            title=\"Suggest charts.\"\n",
              "            style=\"display:none;\">\n",
              "\n",
              "<svg xmlns=\"http://www.w3.org/2000/svg\" height=\"24px\"viewBox=\"0 0 24 24\"\n",
              "     width=\"24px\">\n",
              "    <g>\n",
              "        <path d=\"M19 3H5c-1.1 0-2 .9-2 2v14c0 1.1.9 2 2 2h14c1.1 0 2-.9 2-2V5c0-1.1-.9-2-2-2zM9 17H7v-7h2v7zm4 0h-2V7h2v10zm4 0h-2v-4h2v4z\"/>\n",
              "    </g>\n",
              "</svg>\n",
              "  </button>\n",
              "\n",
              "<style>\n",
              "  .colab-df-quickchart {\n",
              "    background-color: #E8F0FE;\n",
              "    border: none;\n",
              "    border-radius: 50%;\n",
              "    cursor: pointer;\n",
              "    display: none;\n",
              "    fill: #1967D2;\n",
              "    height: 32px;\n",
              "    padding: 0 0 0 0;\n",
              "    width: 32px;\n",
              "  }\n",
              "\n",
              "  .colab-df-quickchart:hover {\n",
              "    background-color: #E2EBFA;\n",
              "    box-shadow: 0px 1px 2px rgba(60, 64, 67, 0.3), 0px 1px 3px 1px rgba(60, 64, 67, 0.15);\n",
              "    fill: #174EA6;\n",
              "  }\n",
              "\n",
              "  [theme=dark] .colab-df-quickchart {\n",
              "    background-color: #3B4455;\n",
              "    fill: #D2E3FC;\n",
              "  }\n",
              "\n",
              "  [theme=dark] .colab-df-quickchart:hover {\n",
              "    background-color: #434B5C;\n",
              "    box-shadow: 0px 1px 3px 1px rgba(0, 0, 0, 0.15);\n",
              "    filter: drop-shadow(0px 1px 2px rgba(0, 0, 0, 0.3));\n",
              "    fill: #FFFFFF;\n",
              "  }\n",
              "</style>\n",
              "\n",
              "  <script>\n",
              "    async function quickchart(key) {\n",
              "      const charts = await google.colab.kernel.invokeFunction(\n",
              "          'suggestCharts', [key], {});\n",
              "    }\n",
              "    (() => {\n",
              "      let quickchartButtonEl =\n",
              "        document.querySelector('#df-66a3cb6b-5aa2-457d-8b48-89762efdd0e6 button');\n",
              "      quickchartButtonEl.style.display =\n",
              "        google.colab.kernel.accessAllowed ? 'block' : 'none';\n",
              "    })();\n",
              "  </script>\n",
              "</div>\n",
              "    </div>\n",
              "  </div>\n"
            ]
          },
          "metadata": {},
          "execution_count": 9
        }
      ],
      "source": [
        "df_cn.describe()"
      ]
    },
    {
      "cell_type": "code",
      "execution_count": null,
      "metadata": {
        "colab": {
          "base_uri": "https://localhost:8080/"
        },
        "id": "dBM1Dkc3kxyE",
        "outputId": "533d2289-10b4-4bf3-985c-56d9f9a9fb86"
      },
      "outputs": [
        {
          "output_type": "stream",
          "name": "stdout",
          "text": [
            "<class 'pandas.core.frame.DataFrame'>\n",
            "RangeIndex: 83104 entries, 0 to 83103\n",
            "Data columns (total 4 columns):\n",
            " #   Column                  Non-Null Count  Dtype  \n",
            "---  ------                  --------------  -----  \n",
            " 0   rating                  83104 non-null  float64\n",
            " 1   num_reviews             83104 non-null  int64  \n",
            " 2   num_published_lectures  83104 non-null  int64  \n",
            " 3   duration                83104 non-null  object \n",
            "dtypes: float64(1), int64(2), object(1)\n",
            "memory usage: 2.5+ MB\n"
          ]
        }
      ],
      "source": [
        "df_cn.info()"
      ]
    },
    {
      "cell_type": "code",
      "execution_count": null,
      "metadata": {
        "colab": {
          "base_uri": "https://localhost:8080/",
          "height": 423
        },
        "id": "LW9kiF_Nk0Ye",
        "outputId": "40de60e7-e1c7-47a9-94c7-d6cbab7261b9"
      },
      "outputs": [
        {
          "output_type": "execute_result",
          "data": {
            "text/plain": [
              "         rating  num_reviews  num_published_lectures       duration\n",
              "546    4.713131         3276                       0  335 questions\n",
              "557    4.619030         3190                       0  279 questions\n",
              "1249   4.497761         1218                       0  159 questions\n",
              "2141   4.541392          558                       0  239 questions\n",
              "2789   4.577136          364                       0  180 questions\n",
              "...         ...          ...                     ...            ...\n",
              "79384  4.658982            8                       0  157 questions\n",
              "79685  4.306122            4                       0  144 questions\n",
              "80378  0.000000            0                       0   25 questions\n",
              "82426  5.000000            2                       0  155 questions\n",
              "82888  0.000000            0                       0    4 questions\n",
              "\n",
              "[2212 rows x 4 columns]"
            ],
            "text/html": [
              "\n",
              "  <div id=\"df-fe3e3c02-bc20-4e8a-94ab-5bfb7f77b229\" class=\"colab-df-container\">\n",
              "    <div>\n",
              "<style scoped>\n",
              "    .dataframe tbody tr th:only-of-type {\n",
              "        vertical-align: middle;\n",
              "    }\n",
              "\n",
              "    .dataframe tbody tr th {\n",
              "        vertical-align: top;\n",
              "    }\n",
              "\n",
              "    .dataframe thead th {\n",
              "        text-align: right;\n",
              "    }\n",
              "</style>\n",
              "<table border=\"1\" class=\"dataframe\">\n",
              "  <thead>\n",
              "    <tr style=\"text-align: right;\">\n",
              "      <th></th>\n",
              "      <th>rating</th>\n",
              "      <th>num_reviews</th>\n",
              "      <th>num_published_lectures</th>\n",
              "      <th>duration</th>\n",
              "    </tr>\n",
              "  </thead>\n",
              "  <tbody>\n",
              "    <tr>\n",
              "      <th>546</th>\n",
              "      <td>4.713131</td>\n",
              "      <td>3276</td>\n",
              "      <td>0</td>\n",
              "      <td>335 questions</td>\n",
              "    </tr>\n",
              "    <tr>\n",
              "      <th>557</th>\n",
              "      <td>4.619030</td>\n",
              "      <td>3190</td>\n",
              "      <td>0</td>\n",
              "      <td>279 questions</td>\n",
              "    </tr>\n",
              "    <tr>\n",
              "      <th>1249</th>\n",
              "      <td>4.497761</td>\n",
              "      <td>1218</td>\n",
              "      <td>0</td>\n",
              "      <td>159 questions</td>\n",
              "    </tr>\n",
              "    <tr>\n",
              "      <th>2141</th>\n",
              "      <td>4.541392</td>\n",
              "      <td>558</td>\n",
              "      <td>0</td>\n",
              "      <td>239 questions</td>\n",
              "    </tr>\n",
              "    <tr>\n",
              "      <th>2789</th>\n",
              "      <td>4.577136</td>\n",
              "      <td>364</td>\n",
              "      <td>0</td>\n",
              "      <td>180 questions</td>\n",
              "    </tr>\n",
              "    <tr>\n",
              "      <th>...</th>\n",
              "      <td>...</td>\n",
              "      <td>...</td>\n",
              "      <td>...</td>\n",
              "      <td>...</td>\n",
              "    </tr>\n",
              "    <tr>\n",
              "      <th>79384</th>\n",
              "      <td>4.658982</td>\n",
              "      <td>8</td>\n",
              "      <td>0</td>\n",
              "      <td>157 questions</td>\n",
              "    </tr>\n",
              "    <tr>\n",
              "      <th>79685</th>\n",
              "      <td>4.306122</td>\n",
              "      <td>4</td>\n",
              "      <td>0</td>\n",
              "      <td>144 questions</td>\n",
              "    </tr>\n",
              "    <tr>\n",
              "      <th>80378</th>\n",
              "      <td>0.000000</td>\n",
              "      <td>0</td>\n",
              "      <td>0</td>\n",
              "      <td>25 questions</td>\n",
              "    </tr>\n",
              "    <tr>\n",
              "      <th>82426</th>\n",
              "      <td>5.000000</td>\n",
              "      <td>2</td>\n",
              "      <td>0</td>\n",
              "      <td>155 questions</td>\n",
              "    </tr>\n",
              "    <tr>\n",
              "      <th>82888</th>\n",
              "      <td>0.000000</td>\n",
              "      <td>0</td>\n",
              "      <td>0</td>\n",
              "      <td>4 questions</td>\n",
              "    </tr>\n",
              "  </tbody>\n",
              "</table>\n",
              "<p>2212 rows × 4 columns</p>\n",
              "</div>\n",
              "    <div class=\"colab-df-buttons\">\n",
              "\n",
              "  <div class=\"colab-df-container\">\n",
              "    <button class=\"colab-df-convert\" onclick=\"convertToInteractive('df-fe3e3c02-bc20-4e8a-94ab-5bfb7f77b229')\"\n",
              "            title=\"Convert this dataframe to an interactive table.\"\n",
              "            style=\"display:none;\">\n",
              "\n",
              "  <svg xmlns=\"http://www.w3.org/2000/svg\" height=\"24px\" viewBox=\"0 -960 960 960\">\n",
              "    <path d=\"M120-120v-720h720v720H120Zm60-500h600v-160H180v160Zm220 220h160v-160H400v160Zm0 220h160v-160H400v160ZM180-400h160v-160H180v160Zm440 0h160v-160H620v160ZM180-180h160v-160H180v160Zm440 0h160v-160H620v160Z\"/>\n",
              "  </svg>\n",
              "    </button>\n",
              "\n",
              "  <style>\n",
              "    .colab-df-container {\n",
              "      display:flex;\n",
              "      gap: 12px;\n",
              "    }\n",
              "\n",
              "    .colab-df-convert {\n",
              "      background-color: #E8F0FE;\n",
              "      border: none;\n",
              "      border-radius: 50%;\n",
              "      cursor: pointer;\n",
              "      display: none;\n",
              "      fill: #1967D2;\n",
              "      height: 32px;\n",
              "      padding: 0 0 0 0;\n",
              "      width: 32px;\n",
              "    }\n",
              "\n",
              "    .colab-df-convert:hover {\n",
              "      background-color: #E2EBFA;\n",
              "      box-shadow: 0px 1px 2px rgba(60, 64, 67, 0.3), 0px 1px 3px 1px rgba(60, 64, 67, 0.15);\n",
              "      fill: #174EA6;\n",
              "    }\n",
              "\n",
              "    .colab-df-buttons div {\n",
              "      margin-bottom: 4px;\n",
              "    }\n",
              "\n",
              "    [theme=dark] .colab-df-convert {\n",
              "      background-color: #3B4455;\n",
              "      fill: #D2E3FC;\n",
              "    }\n",
              "\n",
              "    [theme=dark] .colab-df-convert:hover {\n",
              "      background-color: #434B5C;\n",
              "      box-shadow: 0px 1px 3px 1px rgba(0, 0, 0, 0.15);\n",
              "      filter: drop-shadow(0px 1px 2px rgba(0, 0, 0, 0.3));\n",
              "      fill: #FFFFFF;\n",
              "    }\n",
              "  </style>\n",
              "\n",
              "    <script>\n",
              "      const buttonEl =\n",
              "        document.querySelector('#df-fe3e3c02-bc20-4e8a-94ab-5bfb7f77b229 button.colab-df-convert');\n",
              "      buttonEl.style.display =\n",
              "        google.colab.kernel.accessAllowed ? 'block' : 'none';\n",
              "\n",
              "      async function convertToInteractive(key) {\n",
              "        const element = document.querySelector('#df-fe3e3c02-bc20-4e8a-94ab-5bfb7f77b229');\n",
              "        const dataTable =\n",
              "          await google.colab.kernel.invokeFunction('convertToInteractive',\n",
              "                                                    [key], {});\n",
              "        if (!dataTable) return;\n",
              "\n",
              "        const docLinkHtml = 'Like what you see? Visit the ' +\n",
              "          '<a target=\"_blank\" href=https://colab.research.google.com/notebooks/data_table.ipynb>data table notebook</a>'\n",
              "          + ' to learn more about interactive tables.';\n",
              "        element.innerHTML = '';\n",
              "        dataTable['output_type'] = 'display_data';\n",
              "        await google.colab.output.renderOutput(dataTable, element);\n",
              "        const docLink = document.createElement('div');\n",
              "        docLink.innerHTML = docLinkHtml;\n",
              "        element.appendChild(docLink);\n",
              "      }\n",
              "    </script>\n",
              "  </div>\n",
              "\n",
              "\n",
              "<div id=\"df-a2f015e5-27c6-40ba-b357-a2a4729dc77f\">\n",
              "  <button class=\"colab-df-quickchart\" onclick=\"quickchart('df-a2f015e5-27c6-40ba-b357-a2a4729dc77f')\"\n",
              "            title=\"Suggest charts.\"\n",
              "            style=\"display:none;\">\n",
              "\n",
              "<svg xmlns=\"http://www.w3.org/2000/svg\" height=\"24px\"viewBox=\"0 0 24 24\"\n",
              "     width=\"24px\">\n",
              "    <g>\n",
              "        <path d=\"M19 3H5c-1.1 0-2 .9-2 2v14c0 1.1.9 2 2 2h14c1.1 0 2-.9 2-2V5c0-1.1-.9-2-2-2zM9 17H7v-7h2v7zm4 0h-2V7h2v10zm4 0h-2v-4h2v4z\"/>\n",
              "    </g>\n",
              "</svg>\n",
              "  </button>\n",
              "\n",
              "<style>\n",
              "  .colab-df-quickchart {\n",
              "    background-color: #E8F0FE;\n",
              "    border: none;\n",
              "    border-radius: 50%;\n",
              "    cursor: pointer;\n",
              "    display: none;\n",
              "    fill: #1967D2;\n",
              "    height: 32px;\n",
              "    padding: 0 0 0 0;\n",
              "    width: 32px;\n",
              "  }\n",
              "\n",
              "  .colab-df-quickchart:hover {\n",
              "    background-color: #E2EBFA;\n",
              "    box-shadow: 0px 1px 2px rgba(60, 64, 67, 0.3), 0px 1px 3px 1px rgba(60, 64, 67, 0.15);\n",
              "    fill: #174EA6;\n",
              "  }\n",
              "\n",
              "  [theme=dark] .colab-df-quickchart {\n",
              "    background-color: #3B4455;\n",
              "    fill: #D2E3FC;\n",
              "  }\n",
              "\n",
              "  [theme=dark] .colab-df-quickchart:hover {\n",
              "    background-color: #434B5C;\n",
              "    box-shadow: 0px 1px 3px 1px rgba(0, 0, 0, 0.15);\n",
              "    filter: drop-shadow(0px 1px 2px rgba(0, 0, 0, 0.3));\n",
              "    fill: #FFFFFF;\n",
              "  }\n",
              "</style>\n",
              "\n",
              "  <script>\n",
              "    async function quickchart(key) {\n",
              "      const charts = await google.colab.kernel.invokeFunction(\n",
              "          'suggestCharts', [key], {});\n",
              "    }\n",
              "    (() => {\n",
              "      let quickchartButtonEl =\n",
              "        document.querySelector('#df-a2f015e5-27c6-40ba-b357-a2a4729dc77f button');\n",
              "      quickchartButtonEl.style.display =\n",
              "        google.colab.kernel.accessAllowed ? 'block' : 'none';\n",
              "    })();\n",
              "  </script>\n",
              "</div>\n",
              "    </div>\n",
              "  </div>\n"
            ]
          },
          "metadata": {},
          "execution_count": 10
        }
      ],
      "source": [
        "df_cn[df_cn[\"duration\"].str.contains(\"questions\")]"
      ]
    },
    {
      "cell_type": "code",
      "execution_count": null,
      "metadata": {
        "colab": {
          "base_uri": "https://localhost:8080/"
        },
        "id": "GCNjm0Dgk3Sv",
        "outputId": "4313b6c5-5673-4b40-ac61-e820f126f6ae"
      },
      "outputs": [
        {
          "output_type": "stream",
          "name": "stdout",
          "text": [
            "2212\n",
            "63399\n",
            "6066\n"
          ]
        }
      ],
      "source": [
        "print(df_cn[df_cn[\"duration\"].str.contains(\"questions\")].value_counts().sum())\n",
        "print(df_cn[df_cn[\"duration\"].str.contains(\"total hours\")].value_counts().sum())\n",
        "print(df_cn[df_cn[\"duration\"].str.contains(\"total mins\")].value_counts().sum())"
      ]
    },
    {
      "cell_type": "code",
      "execution_count": null,
      "metadata": {
        "id": "W8xg-6dek7pw"
      },
      "outputs": [],
      "source": [
        "df_cn = df_cn[~df_cn[\"duration\"].str.contains(\"questions\")]"
      ]
    },
    {
      "cell_type": "code",
      "execution_count": null,
      "metadata": {
        "colab": {
          "base_uri": "https://localhost:8080/",
          "height": 394
        },
        "id": "QDj1u0uYk-pg",
        "outputId": "9f4e179f-a51d-4aed-ee42-52681004c657"
      },
      "outputs": [
        {
          "output_type": "execute_result",
          "data": {
            "text/plain": [
              "         rating  num_reviews  num_published_lectures duration\n",
              "14254  3.596311           63                       0        0\n",
              "19595  4.461828            7                       0        0\n",
              "22561  3.809053           22                       0        0\n",
              "24155  5.000000            3                       0        0\n",
              "29392  0.000000            0                       0        0\n",
              "52128  0.000000            0                       0        0\n",
              "59278  5.000000            1                       0        0\n",
              "63547  5.000000            1                       0        0\n",
              "63583  0.000000            0                       0        0\n",
              "73041  0.000000            0                       0        0\n",
              "82447  3.802083            2                       6        0"
            ],
            "text/html": [
              "\n",
              "  <div id=\"df-f9d1f86a-691f-47e7-a396-0fd8f5507a43\" class=\"colab-df-container\">\n",
              "    <div>\n",
              "<style scoped>\n",
              "    .dataframe tbody tr th:only-of-type {\n",
              "        vertical-align: middle;\n",
              "    }\n",
              "\n",
              "    .dataframe tbody tr th {\n",
              "        vertical-align: top;\n",
              "    }\n",
              "\n",
              "    .dataframe thead th {\n",
              "        text-align: right;\n",
              "    }\n",
              "</style>\n",
              "<table border=\"1\" class=\"dataframe\">\n",
              "  <thead>\n",
              "    <tr style=\"text-align: right;\">\n",
              "      <th></th>\n",
              "      <th>rating</th>\n",
              "      <th>num_reviews</th>\n",
              "      <th>num_published_lectures</th>\n",
              "      <th>duration</th>\n",
              "    </tr>\n",
              "  </thead>\n",
              "  <tbody>\n",
              "    <tr>\n",
              "      <th>14254</th>\n",
              "      <td>3.596311</td>\n",
              "      <td>63</td>\n",
              "      <td>0</td>\n",
              "      <td>0</td>\n",
              "    </tr>\n",
              "    <tr>\n",
              "      <th>19595</th>\n",
              "      <td>4.461828</td>\n",
              "      <td>7</td>\n",
              "      <td>0</td>\n",
              "      <td>0</td>\n",
              "    </tr>\n",
              "    <tr>\n",
              "      <th>22561</th>\n",
              "      <td>3.809053</td>\n",
              "      <td>22</td>\n",
              "      <td>0</td>\n",
              "      <td>0</td>\n",
              "    </tr>\n",
              "    <tr>\n",
              "      <th>24155</th>\n",
              "      <td>5.000000</td>\n",
              "      <td>3</td>\n",
              "      <td>0</td>\n",
              "      <td>0</td>\n",
              "    </tr>\n",
              "    <tr>\n",
              "      <th>29392</th>\n",
              "      <td>0.000000</td>\n",
              "      <td>0</td>\n",
              "      <td>0</td>\n",
              "      <td>0</td>\n",
              "    </tr>\n",
              "    <tr>\n",
              "      <th>52128</th>\n",
              "      <td>0.000000</td>\n",
              "      <td>0</td>\n",
              "      <td>0</td>\n",
              "      <td>0</td>\n",
              "    </tr>\n",
              "    <tr>\n",
              "      <th>59278</th>\n",
              "      <td>5.000000</td>\n",
              "      <td>1</td>\n",
              "      <td>0</td>\n",
              "      <td>0</td>\n",
              "    </tr>\n",
              "    <tr>\n",
              "      <th>63547</th>\n",
              "      <td>5.000000</td>\n",
              "      <td>1</td>\n",
              "      <td>0</td>\n",
              "      <td>0</td>\n",
              "    </tr>\n",
              "    <tr>\n",
              "      <th>63583</th>\n",
              "      <td>0.000000</td>\n",
              "      <td>0</td>\n",
              "      <td>0</td>\n",
              "      <td>0</td>\n",
              "    </tr>\n",
              "    <tr>\n",
              "      <th>73041</th>\n",
              "      <td>0.000000</td>\n",
              "      <td>0</td>\n",
              "      <td>0</td>\n",
              "      <td>0</td>\n",
              "    </tr>\n",
              "    <tr>\n",
              "      <th>82447</th>\n",
              "      <td>3.802083</td>\n",
              "      <td>2</td>\n",
              "      <td>6</td>\n",
              "      <td>0</td>\n",
              "    </tr>\n",
              "  </tbody>\n",
              "</table>\n",
              "</div>\n",
              "    <div class=\"colab-df-buttons\">\n",
              "\n",
              "  <div class=\"colab-df-container\">\n",
              "    <button class=\"colab-df-convert\" onclick=\"convertToInteractive('df-f9d1f86a-691f-47e7-a396-0fd8f5507a43')\"\n",
              "            title=\"Convert this dataframe to an interactive table.\"\n",
              "            style=\"display:none;\">\n",
              "\n",
              "  <svg xmlns=\"http://www.w3.org/2000/svg\" height=\"24px\" viewBox=\"0 -960 960 960\">\n",
              "    <path d=\"M120-120v-720h720v720H120Zm60-500h600v-160H180v160Zm220 220h160v-160H400v160Zm0 220h160v-160H400v160ZM180-400h160v-160H180v160Zm440 0h160v-160H620v160ZM180-180h160v-160H180v160Zm440 0h160v-160H620v160Z\"/>\n",
              "  </svg>\n",
              "    </button>\n",
              "\n",
              "  <style>\n",
              "    .colab-df-container {\n",
              "      display:flex;\n",
              "      gap: 12px;\n",
              "    }\n",
              "\n",
              "    .colab-df-convert {\n",
              "      background-color: #E8F0FE;\n",
              "      border: none;\n",
              "      border-radius: 50%;\n",
              "      cursor: pointer;\n",
              "      display: none;\n",
              "      fill: #1967D2;\n",
              "      height: 32px;\n",
              "      padding: 0 0 0 0;\n",
              "      width: 32px;\n",
              "    }\n",
              "\n",
              "    .colab-df-convert:hover {\n",
              "      background-color: #E2EBFA;\n",
              "      box-shadow: 0px 1px 2px rgba(60, 64, 67, 0.3), 0px 1px 3px 1px rgba(60, 64, 67, 0.15);\n",
              "      fill: #174EA6;\n",
              "    }\n",
              "\n",
              "    .colab-df-buttons div {\n",
              "      margin-bottom: 4px;\n",
              "    }\n",
              "\n",
              "    [theme=dark] .colab-df-convert {\n",
              "      background-color: #3B4455;\n",
              "      fill: #D2E3FC;\n",
              "    }\n",
              "\n",
              "    [theme=dark] .colab-df-convert:hover {\n",
              "      background-color: #434B5C;\n",
              "      box-shadow: 0px 1px 3px 1px rgba(0, 0, 0, 0.15);\n",
              "      filter: drop-shadow(0px 1px 2px rgba(0, 0, 0, 0.3));\n",
              "      fill: #FFFFFF;\n",
              "    }\n",
              "  </style>\n",
              "\n",
              "    <script>\n",
              "      const buttonEl =\n",
              "        document.querySelector('#df-f9d1f86a-691f-47e7-a396-0fd8f5507a43 button.colab-df-convert');\n",
              "      buttonEl.style.display =\n",
              "        google.colab.kernel.accessAllowed ? 'block' : 'none';\n",
              "\n",
              "      async function convertToInteractive(key) {\n",
              "        const element = document.querySelector('#df-f9d1f86a-691f-47e7-a396-0fd8f5507a43');\n",
              "        const dataTable =\n",
              "          await google.colab.kernel.invokeFunction('convertToInteractive',\n",
              "                                                    [key], {});\n",
              "        if (!dataTable) return;\n",
              "\n",
              "        const docLinkHtml = 'Like what you see? Visit the ' +\n",
              "          '<a target=\"_blank\" href=https://colab.research.google.com/notebooks/data_table.ipynb>data table notebook</a>'\n",
              "          + ' to learn more about interactive tables.';\n",
              "        element.innerHTML = '';\n",
              "        dataTable['output_type'] = 'display_data';\n",
              "        await google.colab.output.renderOutput(dataTable, element);\n",
              "        const docLink = document.createElement('div');\n",
              "        docLink.innerHTML = docLinkHtml;\n",
              "        element.appendChild(docLink);\n",
              "      }\n",
              "    </script>\n",
              "  </div>\n",
              "\n",
              "\n",
              "<div id=\"df-642c30bc-bd0b-4b71-8bcd-b489ba1c4767\">\n",
              "  <button class=\"colab-df-quickchart\" onclick=\"quickchart('df-642c30bc-bd0b-4b71-8bcd-b489ba1c4767')\"\n",
              "            title=\"Suggest charts.\"\n",
              "            style=\"display:none;\">\n",
              "\n",
              "<svg xmlns=\"http://www.w3.org/2000/svg\" height=\"24px\"viewBox=\"0 0 24 24\"\n",
              "     width=\"24px\">\n",
              "    <g>\n",
              "        <path d=\"M19 3H5c-1.1 0-2 .9-2 2v14c0 1.1.9 2 2 2h14c1.1 0 2-.9 2-2V5c0-1.1-.9-2-2-2zM9 17H7v-7h2v7zm4 0h-2V7h2v10zm4 0h-2v-4h2v4z\"/>\n",
              "    </g>\n",
              "</svg>\n",
              "  </button>\n",
              "\n",
              "<style>\n",
              "  .colab-df-quickchart {\n",
              "    background-color: #E8F0FE;\n",
              "    border: none;\n",
              "    border-radius: 50%;\n",
              "    cursor: pointer;\n",
              "    display: none;\n",
              "    fill: #1967D2;\n",
              "    height: 32px;\n",
              "    padding: 0 0 0 0;\n",
              "    width: 32px;\n",
              "  }\n",
              "\n",
              "  .colab-df-quickchart:hover {\n",
              "    background-color: #E2EBFA;\n",
              "    box-shadow: 0px 1px 2px rgba(60, 64, 67, 0.3), 0px 1px 3px 1px rgba(60, 64, 67, 0.15);\n",
              "    fill: #174EA6;\n",
              "  }\n",
              "\n",
              "  [theme=dark] .colab-df-quickchart {\n",
              "    background-color: #3B4455;\n",
              "    fill: #D2E3FC;\n",
              "  }\n",
              "\n",
              "  [theme=dark] .colab-df-quickchart:hover {\n",
              "    background-color: #434B5C;\n",
              "    box-shadow: 0px 1px 3px 1px rgba(0, 0, 0, 0.15);\n",
              "    filter: drop-shadow(0px 1px 2px rgba(0, 0, 0, 0.3));\n",
              "    fill: #FFFFFF;\n",
              "  }\n",
              "</style>\n",
              "\n",
              "  <script>\n",
              "    async function quickchart(key) {\n",
              "      const charts = await google.colab.kernel.invokeFunction(\n",
              "          'suggestCharts', [key], {});\n",
              "    }\n",
              "    (() => {\n",
              "      let quickchartButtonEl =\n",
              "        document.querySelector('#df-642c30bc-bd0b-4b71-8bcd-b489ba1c4767 button');\n",
              "      quickchartButtonEl.style.display =\n",
              "        google.colab.kernel.accessAllowed ? 'block' : 'none';\n",
              "    })();\n",
              "  </script>\n",
              "</div>\n",
              "    </div>\n",
              "  </div>\n"
            ]
          },
          "metadata": {},
          "execution_count": 13
        }
      ],
      "source": [
        "df_cn[df_cn[\"duration\"].str.split(\" \").str.len() <= 1]"
      ]
    },
    {
      "cell_type": "code",
      "execution_count": null,
      "metadata": {
        "id": "J5j1iTnUlBML"
      },
      "outputs": [],
      "source": [
        "df_cn = df_cn[df_cn[\"duration\"].str.split(\" \").str.len() > 1]"
      ]
    },
    {
      "cell_type": "code",
      "execution_count": null,
      "metadata": {
        "id": "Lg-3SeLelEJv"
      },
      "outputs": [],
      "source": [
        "df_cn.dropna(subset=['duration'], inplace=True)"
      ]
    },
    {
      "cell_type": "code",
      "execution_count": null,
      "metadata": {
        "colab": {
          "base_uri": "https://localhost:8080/"
        },
        "id": "F5mw-7x3lGuN",
        "outputId": "cc077c16-474b-4e48-9dbf-c8b7df193217"
      },
      "outputs": [
        {
          "output_type": "stream",
          "name": "stdout",
          "text": [
            "[' total hours' '.' ' total hour']\n"
          ]
        }
      ],
      "source": [
        "duration_strings = df_cn['duration'].str.extract(r'(\\D+)')\n",
        "print(duration_strings[0].unique())"
      ]
    },
    {
      "cell_type": "code",
      "execution_count": null,
      "metadata": {
        "id": "DwnG8YNilJbh"
      },
      "outputs": [],
      "source": [
        "duration_mins = (df_cn[df_cn[\"duration\"]\\\n",
        "      .str.contains(\"mins\")][\"duration\"]\\\n",
        "      .str.split(\" \").str[0].astype(\"float32\") / 60).astype(\"str\")\n",
        "\n",
        "dm_vals = duration_mins.values\n",
        "dm_ind = duration_mins.index\n",
        "\n",
        "df_cn.loc[dm_ind, 'duration'] = dm_vals"
      ]
    },
    {
      "cell_type": "code",
      "execution_count": null,
      "metadata": {
        "id": "AZjeJVPulMwl"
      },
      "outputs": [],
      "source": [
        "duration_hours = df_cn[df_cn[\"duration\"]\\\n",
        "      .str.contains(\"hour\")][\"duration\"]\\\n",
        "      .str.split(\" \").str[0]\n",
        "\n",
        "dh_vals = duration_hours.values\n",
        "dh_ind = duration_hours.index\n",
        "\n",
        "df_cn.loc[dh_ind, 'duration'] = dh_vals"
      ]
    },
    {
      "cell_type": "code",
      "execution_count": null,
      "metadata": {
        "colab": {
          "base_uri": "https://localhost:8080/"
        },
        "id": "Kc7m0aUwlPR_",
        "outputId": "68c7e78d-4f8f-4aff-c725-eec4abc920bb"
      },
      "outputs": [
        {
          "output_type": "execute_result",
          "data": {
            "text/plain": [
              "rating                    0.0\n",
              "num_reviews               0.0\n",
              "num_published_lectures    0.0\n",
              "duration                  0.0\n",
              "dtype: float64"
            ]
          },
          "metadata": {},
          "execution_count": 20
        }
      ],
      "source": [
        "df_cn[df_cn[\"duration\"].str.split(\" \").str.len() > 1].sum()\n"
      ]
    },
    {
      "cell_type": "code",
      "source": [
        "df_cn['duration'] = df_cn['duration'].astype(\"float64\")\n",
        "df_cn.rename(columns = {'duration':'duration_hr'}, inplace = True)"
      ],
      "metadata": {
        "id": "YhMkUy2JZmdD"
      },
      "execution_count": null,
      "outputs": []
    },
    {
      "cell_type": "code",
      "execution_count": null,
      "metadata": {
        "colab": {
          "base_uri": "https://localhost:8080/"
        },
        "id": "JULBl0b1lWUp",
        "outputId": "1952e8a3-1184-43af-e80a-5d6a3bc0066f"
      },
      "outputs": [
        {
          "output_type": "stream",
          "name": "stdout",
          "text": [
            "<class 'pandas.core.frame.DataFrame'>\n",
            "Int64Index: 80881 entries, 0 to 83103\n",
            "Data columns (total 4 columns):\n",
            " #   Column                  Non-Null Count  Dtype  \n",
            "---  ------                  --------------  -----  \n",
            " 0   rating                  80881 non-null  float64\n",
            " 1   num_reviews             80881 non-null  int64  \n",
            " 2   num_published_lectures  80881 non-null  int64  \n",
            " 3   duration_hr             80881 non-null  float64\n",
            "dtypes: float64(2), int64(2)\n",
            "memory usage: 5.1 MB\n"
          ]
        }
      ],
      "source": [
        "df_cn.info()"
      ]
    },
    {
      "cell_type": "markdown",
      "metadata": {
        "id": "hoaRwJyKleU0"
      },
      "source": [
        "feature engineering"
      ]
    },
    {
      "cell_type": "code",
      "execution_count": null,
      "metadata": {
        "id": "L4-Edi4zlZ2G"
      },
      "outputs": [],
      "source": [
        "df_cn[\"num_reviews_per_published_lecture\"] = df_cn[\"num_reviews\"] / df_cn[\"num_published_lectures\"]\n",
        "df_cn[\"num_reviews_per_hour\"] = df_cn[\"num_reviews\"] / df_cn[\"duration_hr\"]"
      ]
    },
    {
      "cell_type": "code",
      "execution_count": null,
      "metadata": {
        "id": "xrc3SVkhlda9"
      },
      "outputs": [],
      "source": [
        "X = df_cn.drop(\"rating\", axis = 1)\n",
        "y = df_cn[\"rating\"]"
      ]
    },
    {
      "cell_type": "code",
      "execution_count": null,
      "metadata": {
        "colab": {
          "base_uri": "https://localhost:8080/",
          "height": 206
        },
        "id": "kCqPolK9ljGe",
        "outputId": "1a6d9b6c-4a7f-4e26-e612-0959d4095439"
      },
      "outputs": [
        {
          "output_type": "execute_result",
          "data": {
            "text/plain": [
              "   num_reviews  num_published_lectures  duration_hr  \\\n",
              "0   112.888603                2.051343     2.215167   \n",
              "1    65.536046                8.150084     7.851492   \n",
              "2    63.430363               10.443939     7.657136   \n",
              "3    44.857142                7.822391     3.834801   \n",
              "4    44.186347               11.536251     7.657136   \n",
              "\n",
              "   num_reviews_per_published_lecture  num_reviews_per_hour  \n",
              "0                          56.476997             29.890329  \n",
              "1                          10.232128              5.709241  \n",
              "2                           7.836812              5.654190  \n",
              "3                           7.224351              7.470798  \n",
              "4                           4.912925              3.895396  "
            ],
            "text/html": [
              "\n",
              "  <div id=\"df-01b16bb6-6fbf-42e5-b610-445d646fd7bf\" class=\"colab-df-container\">\n",
              "    <div>\n",
              "<style scoped>\n",
              "    .dataframe tbody tr th:only-of-type {\n",
              "        vertical-align: middle;\n",
              "    }\n",
              "\n",
              "    .dataframe tbody tr th {\n",
              "        vertical-align: top;\n",
              "    }\n",
              "\n",
              "    .dataframe thead th {\n",
              "        text-align: right;\n",
              "    }\n",
              "</style>\n",
              "<table border=\"1\" class=\"dataframe\">\n",
              "  <thead>\n",
              "    <tr style=\"text-align: right;\">\n",
              "      <th></th>\n",
              "      <th>num_reviews</th>\n",
              "      <th>num_published_lectures</th>\n",
              "      <th>duration_hr</th>\n",
              "      <th>num_reviews_per_published_lecture</th>\n",
              "      <th>num_reviews_per_hour</th>\n",
              "    </tr>\n",
              "  </thead>\n",
              "  <tbody>\n",
              "    <tr>\n",
              "      <th>0</th>\n",
              "      <td>112.888603</td>\n",
              "      <td>2.051343</td>\n",
              "      <td>2.215167</td>\n",
              "      <td>56.476997</td>\n",
              "      <td>29.890329</td>\n",
              "    </tr>\n",
              "    <tr>\n",
              "      <th>1</th>\n",
              "      <td>65.536046</td>\n",
              "      <td>8.150084</td>\n",
              "      <td>7.851492</td>\n",
              "      <td>10.232128</td>\n",
              "      <td>5.709241</td>\n",
              "    </tr>\n",
              "    <tr>\n",
              "      <th>2</th>\n",
              "      <td>63.430363</td>\n",
              "      <td>10.443939</td>\n",
              "      <td>7.657136</td>\n",
              "      <td>7.836812</td>\n",
              "      <td>5.654190</td>\n",
              "    </tr>\n",
              "    <tr>\n",
              "      <th>3</th>\n",
              "      <td>44.857142</td>\n",
              "      <td>7.822391</td>\n",
              "      <td>3.834801</td>\n",
              "      <td>7.224351</td>\n",
              "      <td>7.470798</td>\n",
              "    </tr>\n",
              "    <tr>\n",
              "      <th>4</th>\n",
              "      <td>44.186347</td>\n",
              "      <td>11.536251</td>\n",
              "      <td>7.657136</td>\n",
              "      <td>4.912925</td>\n",
              "      <td>3.895396</td>\n",
              "    </tr>\n",
              "  </tbody>\n",
              "</table>\n",
              "</div>\n",
              "    <div class=\"colab-df-buttons\">\n",
              "\n",
              "  <div class=\"colab-df-container\">\n",
              "    <button class=\"colab-df-convert\" onclick=\"convertToInteractive('df-01b16bb6-6fbf-42e5-b610-445d646fd7bf')\"\n",
              "            title=\"Convert this dataframe to an interactive table.\"\n",
              "            style=\"display:none;\">\n",
              "\n",
              "  <svg xmlns=\"http://www.w3.org/2000/svg\" height=\"24px\" viewBox=\"0 -960 960 960\">\n",
              "    <path d=\"M120-120v-720h720v720H120Zm60-500h600v-160H180v160Zm220 220h160v-160H400v160Zm0 220h160v-160H400v160ZM180-400h160v-160H180v160Zm440 0h160v-160H620v160ZM180-180h160v-160H180v160Zm440 0h160v-160H620v160Z\"/>\n",
              "  </svg>\n",
              "    </button>\n",
              "\n",
              "  <style>\n",
              "    .colab-df-container {\n",
              "      display:flex;\n",
              "      gap: 12px;\n",
              "    }\n",
              "\n",
              "    .colab-df-convert {\n",
              "      background-color: #E8F0FE;\n",
              "      border: none;\n",
              "      border-radius: 50%;\n",
              "      cursor: pointer;\n",
              "      display: none;\n",
              "      fill: #1967D2;\n",
              "      height: 32px;\n",
              "      padding: 0 0 0 0;\n",
              "      width: 32px;\n",
              "    }\n",
              "\n",
              "    .colab-df-convert:hover {\n",
              "      background-color: #E2EBFA;\n",
              "      box-shadow: 0px 1px 2px rgba(60, 64, 67, 0.3), 0px 1px 3px 1px rgba(60, 64, 67, 0.15);\n",
              "      fill: #174EA6;\n",
              "    }\n",
              "\n",
              "    .colab-df-buttons div {\n",
              "      margin-bottom: 4px;\n",
              "    }\n",
              "\n",
              "    [theme=dark] .colab-df-convert {\n",
              "      background-color: #3B4455;\n",
              "      fill: #D2E3FC;\n",
              "    }\n",
              "\n",
              "    [theme=dark] .colab-df-convert:hover {\n",
              "      background-color: #434B5C;\n",
              "      box-shadow: 0px 1px 3px 1px rgba(0, 0, 0, 0.15);\n",
              "      filter: drop-shadow(0px 1px 2px rgba(0, 0, 0, 0.3));\n",
              "      fill: #FFFFFF;\n",
              "    }\n",
              "  </style>\n",
              "\n",
              "    <script>\n",
              "      const buttonEl =\n",
              "        document.querySelector('#df-01b16bb6-6fbf-42e5-b610-445d646fd7bf button.colab-df-convert');\n",
              "      buttonEl.style.display =\n",
              "        google.colab.kernel.accessAllowed ? 'block' : 'none';\n",
              "\n",
              "      async function convertToInteractive(key) {\n",
              "        const element = document.querySelector('#df-01b16bb6-6fbf-42e5-b610-445d646fd7bf');\n",
              "        const dataTable =\n",
              "          await google.colab.kernel.invokeFunction('convertToInteractive',\n",
              "                                                    [key], {});\n",
              "        if (!dataTable) return;\n",
              "\n",
              "        const docLinkHtml = 'Like what you see? Visit the ' +\n",
              "          '<a target=\"_blank\" href=https://colab.research.google.com/notebooks/data_table.ipynb>data table notebook</a>'\n",
              "          + ' to learn more about interactive tables.';\n",
              "        element.innerHTML = '';\n",
              "        dataTable['output_type'] = 'display_data';\n",
              "        await google.colab.output.renderOutput(dataTable, element);\n",
              "        const docLink = document.createElement('div');\n",
              "        docLink.innerHTML = docLinkHtml;\n",
              "        element.appendChild(docLink);\n",
              "      }\n",
              "    </script>\n",
              "  </div>\n",
              "\n",
              "\n",
              "<div id=\"df-759ea87d-0e42-42a8-9621-af8b0388f6fd\">\n",
              "  <button class=\"colab-df-quickchart\" onclick=\"quickchart('df-759ea87d-0e42-42a8-9621-af8b0388f6fd')\"\n",
              "            title=\"Suggest charts.\"\n",
              "            style=\"display:none;\">\n",
              "\n",
              "<svg xmlns=\"http://www.w3.org/2000/svg\" height=\"24px\"viewBox=\"0 0 24 24\"\n",
              "     width=\"24px\">\n",
              "    <g>\n",
              "        <path d=\"M19 3H5c-1.1 0-2 .9-2 2v14c0 1.1.9 2 2 2h14c1.1 0 2-.9 2-2V5c0-1.1-.9-2-2-2zM9 17H7v-7h2v7zm4 0h-2V7h2v10zm4 0h-2v-4h2v4z\"/>\n",
              "    </g>\n",
              "</svg>\n",
              "  </button>\n",
              "\n",
              "<style>\n",
              "  .colab-df-quickchart {\n",
              "    background-color: #E8F0FE;\n",
              "    border: none;\n",
              "    border-radius: 50%;\n",
              "    cursor: pointer;\n",
              "    display: none;\n",
              "    fill: #1967D2;\n",
              "    height: 32px;\n",
              "    padding: 0 0 0 0;\n",
              "    width: 32px;\n",
              "  }\n",
              "\n",
              "  .colab-df-quickchart:hover {\n",
              "    background-color: #E2EBFA;\n",
              "    box-shadow: 0px 1px 2px rgba(60, 64, 67, 0.3), 0px 1px 3px 1px rgba(60, 64, 67, 0.15);\n",
              "    fill: #174EA6;\n",
              "  }\n",
              "\n",
              "  [theme=dark] .colab-df-quickchart {\n",
              "    background-color: #3B4455;\n",
              "    fill: #D2E3FC;\n",
              "  }\n",
              "\n",
              "  [theme=dark] .colab-df-quickchart:hover {\n",
              "    background-color: #434B5C;\n",
              "    box-shadow: 0px 1px 3px 1px rgba(0, 0, 0, 0.15);\n",
              "    filter: drop-shadow(0px 1px 2px rgba(0, 0, 0, 0.3));\n",
              "    fill: #FFFFFF;\n",
              "  }\n",
              "</style>\n",
              "\n",
              "  <script>\n",
              "    async function quickchart(key) {\n",
              "      const charts = await google.colab.kernel.invokeFunction(\n",
              "          'suggestCharts', [key], {});\n",
              "    }\n",
              "    (() => {\n",
              "      let quickchartButtonEl =\n",
              "        document.querySelector('#df-759ea87d-0e42-42a8-9621-af8b0388f6fd button');\n",
              "      quickchartButtonEl.style.display =\n",
              "        google.colab.kernel.accessAllowed ? 'block' : 'none';\n",
              "    })();\n",
              "  </script>\n",
              "</div>\n",
              "    </div>\n",
              "  </div>\n"
            ]
          },
          "metadata": {},
          "execution_count": 25
        }
      ],
      "source": [
        "from sklearn.preprocessing import StandardScaler\n",
        "\n",
        "scaler = StandardScaler()\n",
        "X_scaled = scaler.fit_transform(X)\n",
        "X_col_names = list(X.columns)\n",
        "X_scaled = pd.DataFrame(X_scaled, columns=X_col_names)\n",
        "\n",
        "X_scaled.head()"
      ]
    },
    {
      "cell_type": "code",
      "execution_count": null,
      "metadata": {
        "id": "DhjTRsswlmkg"
      },
      "outputs": [],
      "source": [
        "from sklearn.model_selection import train_test_split\n",
        "X_train, X_test, y_train, y_test = train_test_split(X_scaled, y, train_size = 0.60, random_state = 26)"
      ]
    },
    {
      "cell_type": "markdown",
      "metadata": {
        "id": "_v_EvRAmqk7c"
      },
      "source": [
        "**XGBoost Regressor**"
      ]
    },
    {
      "cell_type": "code",
      "execution_count": null,
      "metadata": {
        "colab": {
          "base_uri": "https://localhost:8080/",
          "height": 248
        },
        "id": "q11GqTzelqAF",
        "outputId": "f45f840e-213c-4f2b-ef79-c03cb45fa815"
      },
      "outputs": [
        {
          "output_type": "execute_result",
          "data": {
            "text/plain": [
              "XGBRegressor(base_score=None, booster=None, callbacks=None,\n",
              "             colsample_bylevel=None, colsample_bynode=None,\n",
              "             colsample_bytree=None, early_stopping_rounds=None,\n",
              "             enable_categorical=False, eval_metric=None, feature_types=None,\n",
              "             gamma=None, gpu_id=None, grow_policy=None, importance_type=None,\n",
              "             interaction_constraints=None, learning_rate=None, max_bin=None,\n",
              "             max_cat_threshold=None, max_cat_to_onehot=None,\n",
              "             max_delta_step=None, max_depth=None, max_leaves=None,\n",
              "             min_child_weight=None, missing=nan, monotone_constraints=None,\n",
              "             n_estimators=100, n_jobs=None, num_parallel_tree=None,\n",
              "             predictor=None, random_state=26, ...)"
            ],
            "text/html": [
              "<style>#sk-container-id-1 {color: black;background-color: white;}#sk-container-id-1 pre{padding: 0;}#sk-container-id-1 div.sk-toggleable {background-color: white;}#sk-container-id-1 label.sk-toggleable__label {cursor: pointer;display: block;width: 100%;margin-bottom: 0;padding: 0.3em;box-sizing: border-box;text-align: center;}#sk-container-id-1 label.sk-toggleable__label-arrow:before {content: \"▸\";float: left;margin-right: 0.25em;color: #696969;}#sk-container-id-1 label.sk-toggleable__label-arrow:hover:before {color: black;}#sk-container-id-1 div.sk-estimator:hover label.sk-toggleable__label-arrow:before {color: black;}#sk-container-id-1 div.sk-toggleable__content {max-height: 0;max-width: 0;overflow: hidden;text-align: left;background-color: #f0f8ff;}#sk-container-id-1 div.sk-toggleable__content pre {margin: 0.2em;color: black;border-radius: 0.25em;background-color: #f0f8ff;}#sk-container-id-1 input.sk-toggleable__control:checked~div.sk-toggleable__content {max-height: 200px;max-width: 100%;overflow: auto;}#sk-container-id-1 input.sk-toggleable__control:checked~label.sk-toggleable__label-arrow:before {content: \"▾\";}#sk-container-id-1 div.sk-estimator input.sk-toggleable__control:checked~label.sk-toggleable__label {background-color: #d4ebff;}#sk-container-id-1 div.sk-label input.sk-toggleable__control:checked~label.sk-toggleable__label {background-color: #d4ebff;}#sk-container-id-1 input.sk-hidden--visually {border: 0;clip: rect(1px 1px 1px 1px);clip: rect(1px, 1px, 1px, 1px);height: 1px;margin: -1px;overflow: hidden;padding: 0;position: absolute;width: 1px;}#sk-container-id-1 div.sk-estimator {font-family: monospace;background-color: #f0f8ff;border: 1px dotted black;border-radius: 0.25em;box-sizing: border-box;margin-bottom: 0.5em;}#sk-container-id-1 div.sk-estimator:hover {background-color: #d4ebff;}#sk-container-id-1 div.sk-parallel-item::after {content: \"\";width: 100%;border-bottom: 1px solid gray;flex-grow: 1;}#sk-container-id-1 div.sk-label:hover label.sk-toggleable__label {background-color: #d4ebff;}#sk-container-id-1 div.sk-serial::before {content: \"\";position: absolute;border-left: 1px solid gray;box-sizing: border-box;top: 0;bottom: 0;left: 50%;z-index: 0;}#sk-container-id-1 div.sk-serial {display: flex;flex-direction: column;align-items: center;background-color: white;padding-right: 0.2em;padding-left: 0.2em;position: relative;}#sk-container-id-1 div.sk-item {position: relative;z-index: 1;}#sk-container-id-1 div.sk-parallel {display: flex;align-items: stretch;justify-content: center;background-color: white;position: relative;}#sk-container-id-1 div.sk-item::before, #sk-container-id-1 div.sk-parallel-item::before {content: \"\";position: absolute;border-left: 1px solid gray;box-sizing: border-box;top: 0;bottom: 0;left: 50%;z-index: -1;}#sk-container-id-1 div.sk-parallel-item {display: flex;flex-direction: column;z-index: 1;position: relative;background-color: white;}#sk-container-id-1 div.sk-parallel-item:first-child::after {align-self: flex-end;width: 50%;}#sk-container-id-1 div.sk-parallel-item:last-child::after {align-self: flex-start;width: 50%;}#sk-container-id-1 div.sk-parallel-item:only-child::after {width: 0;}#sk-container-id-1 div.sk-dashed-wrapped {border: 1px dashed gray;margin: 0 0.4em 0.5em 0.4em;box-sizing: border-box;padding-bottom: 0.4em;background-color: white;}#sk-container-id-1 div.sk-label label {font-family: monospace;font-weight: bold;display: inline-block;line-height: 1.2em;}#sk-container-id-1 div.sk-label-container {text-align: center;}#sk-container-id-1 div.sk-container {/* jupyter's `normalize.less` sets `[hidden] { display: none; }` but bootstrap.min.css set `[hidden] { display: none !important; }` so we also need the `!important` here to be able to override the default hidden behavior on the sphinx rendered scikit-learn.org. See: https://github.com/scikit-learn/scikit-learn/issues/21755 */display: inline-block !important;position: relative;}#sk-container-id-1 div.sk-text-repr-fallback {display: none;}</style><div id=\"sk-container-id-1\" class=\"sk-top-container\"><div class=\"sk-text-repr-fallback\"><pre>XGBRegressor(base_score=None, booster=None, callbacks=None,\n",
              "             colsample_bylevel=None, colsample_bynode=None,\n",
              "             colsample_bytree=None, early_stopping_rounds=None,\n",
              "             enable_categorical=False, eval_metric=None, feature_types=None,\n",
              "             gamma=None, gpu_id=None, grow_policy=None, importance_type=None,\n",
              "             interaction_constraints=None, learning_rate=None, max_bin=None,\n",
              "             max_cat_threshold=None, max_cat_to_onehot=None,\n",
              "             max_delta_step=None, max_depth=None, max_leaves=None,\n",
              "             min_child_weight=None, missing=nan, monotone_constraints=None,\n",
              "             n_estimators=100, n_jobs=None, num_parallel_tree=None,\n",
              "             predictor=None, random_state=26, ...)</pre><b>In a Jupyter environment, please rerun this cell to show the HTML representation or trust the notebook. <br />On GitHub, the HTML representation is unable to render, please try loading this page with nbviewer.org.</b></div><div class=\"sk-container\" hidden><div class=\"sk-item\"><div class=\"sk-estimator sk-toggleable\"><input class=\"sk-toggleable__control sk-hidden--visually\" id=\"sk-estimator-id-1\" type=\"checkbox\" checked><label for=\"sk-estimator-id-1\" class=\"sk-toggleable__label sk-toggleable__label-arrow\">XGBRegressor</label><div class=\"sk-toggleable__content\"><pre>XGBRegressor(base_score=None, booster=None, callbacks=None,\n",
              "             colsample_bylevel=None, colsample_bynode=None,\n",
              "             colsample_bytree=None, early_stopping_rounds=None,\n",
              "             enable_categorical=False, eval_metric=None, feature_types=None,\n",
              "             gamma=None, gpu_id=None, grow_policy=None, importance_type=None,\n",
              "             interaction_constraints=None, learning_rate=None, max_bin=None,\n",
              "             max_cat_threshold=None, max_cat_to_onehot=None,\n",
              "             max_delta_step=None, max_depth=None, max_leaves=None,\n",
              "             min_child_weight=None, missing=nan, monotone_constraints=None,\n",
              "             n_estimators=100, n_jobs=None, num_parallel_tree=None,\n",
              "             predictor=None, random_state=26, ...)</pre></div></div></div></div></div>"
            ]
          },
          "metadata": {},
          "execution_count": 27
        }
      ],
      "source": [
        "from xgboost import XGBRegressor\n",
        "\n",
        "\n",
        "model = XGBRegressor(n_estimators=100, random_state=26)\n",
        "model.fit(X_train, y_train)"
      ]
    },
    {
      "cell_type": "code",
      "execution_count": null,
      "metadata": {
        "id": "C-gx0hoBlvfS"
      },
      "outputs": [],
      "source": [
        "y_pred = model.predict(X_test)"
      ]
    },
    {
      "cell_type": "code",
      "execution_count": null,
      "metadata": {
        "colab": {
          "base_uri": "https://localhost:8080/"
        },
        "id": "gc-asuXJlzvE",
        "outputId": "3d6da003-bf75-4f62-df9c-bb5f8c5b03d0"
      },
      "outputs": [
        {
          "output_type": "stream",
          "name": "stdout",
          "text": [
            "Root Mean Squared Error 0.4803583222833158\n",
            "Mean Squared Error 0.2307441177868419\n",
            "Mean Absolute Error 0.3434606724214763\n"
          ]
        }
      ],
      "source": [
        "from sklearn.metrics import mean_squared_error, mean_absolute_error\n",
        "\n",
        "mse = mean_squared_error(y_test, y_pred)\n",
        "mae = mean_absolute_error(y_test, y_pred)\n",
        "rmse = mse ** 0.5\n",
        "\n",
        "print(\"Root Mean Squared Error\", rmse)\n",
        "print(\"Mean Squared Error\", mse)\n",
        "print(\"Mean Absolute Error\", mae)"
      ]
    },
    {
      "cell_type": "code",
      "execution_count": null,
      "metadata": {
        "colab": {
          "base_uri": "https://localhost:8080/"
        },
        "id": "Lv-_7jOAl29D",
        "outputId": "e2a9f9bd-8c1a-4acb-fd3d-654f0aab56f5"
      },
      "outputs": [
        {
          "output_type": "stream",
          "name": "stdout",
          "text": [
            "TRAIN SCORE: 0.8582332358479208\n"
          ]
        }
      ],
      "source": [
        "print(\"TRAIN SCORE:\", model.score(X_train, y_train))"
      ]
    },
    {
      "cell_type": "code",
      "execution_count": null,
      "metadata": {
        "colab": {
          "base_uri": "https://localhost:8080/"
        },
        "id": "P_doi4Tbl6PV",
        "outputId": "a14d1da2-508f-452f-c657-d15403d1f125"
      },
      "outputs": [
        {
          "output_type": "stream",
          "name": "stdout",
          "text": [
            "TEST SCORE: 0.8263548503160365\n"
          ]
        }
      ],
      "source": [
        "print(\"TEST SCORE:\", model.score(X_test, y_test))"
      ]
    },
    {
      "cell_type": "code",
      "execution_count": null,
      "metadata": {
        "colab": {
          "base_uri": "https://localhost:8080/",
          "height": 419
        },
        "id": "dWN8wH1Vl8yr",
        "outputId": "fe8b3d0c-c867-4b74-f2a8-61e6b02b514c"
      },
      "outputs": [
        {
          "output_type": "display_data",
          "data": {
            "text/plain": [
              "<Figure size 800x400 with 1 Axes>"
            ],
            "image/png": "[encoded data removed]"
          },
          "metadata": {}
        }
      ],
      "source": [
        "from xgboost import plot_importance\n",
        "import matplotlib.pyplot as plt\n",
        "plt.rcParams.update({'font.size': 12})\n",
        "\n",
        "fig, ax = plt.subplots(figsize=(8,4))\n",
        "plot_importance(model, max_num_features=8, ax=ax)\n",
        "plt.show();"
      ]
    },
    {
      "cell_type": "code",
      "execution_count": null,
      "metadata": {
        "id": "PnlzwrqNl_xT"
      },
      "outputs": [],
      "source": [
        "model.save_model('model.h5')"
      ]
    },
    {
      "cell_type": "markdown",
      "metadata": {
        "id": "LEr5ZnwuSr-a"
      },
      "source": [
        "**RandomForest Regressor**"
      ]
    },
    {
      "cell_type": "code",
      "execution_count": null,
      "metadata": {
        "id": "pNLR_3_sZBhR"
      },
      "outputs": [],
      "source": [
        "import pandas as pd\n",
        "from sklearn.model_selection import train_test_split\n",
        "from sklearn.ensemble import RandomForestRegressor\n",
        "from sklearn.metrics import mean_squared_error, r2_score\n"
      ]
    },
    {
      "cell_type": "code",
      "execution_count": null,
      "metadata": {
        "id": "_H0Hb2i5aHjL"
      },
      "outputs": [],
      "source": [
        "# Split the data into training and testing sets\n",
        "X_train, X_test, y_train, y_test = train_test_split(X, y, test_size=0.2, random_state=42)\n"
      ]
    },
    {
      "cell_type": "code",
      "execution_count": null,
      "metadata": {
        "id": "5XXmchW8ZCmN"
      },
      "outputs": [],
      "source": [
        "regressor = RandomForestRegressor(n_estimators=100, random_state=42)\n"
      ]
    },
    {
      "cell_type": "code",
      "execution_count": null,
      "metadata": {
        "colab": {
          "base_uri": "https://localhost:8080/",
          "height": 74
        },
        "id": "GPAUiHyPZL34",
        "outputId": "18b609e0-68a4-40e9-83bc-4a01298cc178"
      },
      "outputs": [
        {
          "output_type": "execute_result",
          "data": {
            "text/plain": [
              "RandomForestRegressor(random_state=42)"
            ],
            "text/html": [
              "<style>#sk-container-id-3 {color: black;background-color: white;}#sk-container-id-3 pre{padding: 0;}#sk-container-id-3 div.sk-toggleable {background-color: white;}#sk-container-id-3 label.sk-toggleable__label {cursor: pointer;display: block;width: 100%;margin-bottom: 0;padding: 0.3em;box-sizing: border-box;text-align: center;}#sk-container-id-3 label.sk-toggleable__label-arrow:before {content: \"▸\";float: left;margin-right: 0.25em;color: #696969;}#sk-container-id-3 label.sk-toggleable__label-arrow:hover:before {color: black;}#sk-container-id-3 div.sk-estimator:hover label.sk-toggleable__label-arrow:before {color: black;}#sk-container-id-3 div.sk-toggleable__content {max-height: 0;max-width: 0;overflow: hidden;text-align: left;background-color: #f0f8ff;}#sk-container-id-3 div.sk-toggleable__content pre {margin: 0.2em;color: black;border-radius: 0.25em;background-color: #f0f8ff;}#sk-container-id-3 input.sk-toggleable__control:checked~div.sk-toggleable__content {max-height: 200px;max-width: 100%;overflow: auto;}#sk-container-id-3 input.sk-toggleable__control:checked~label.sk-toggleable__label-arrow:before {content: \"▾\";}#sk-container-id-3 div.sk-estimator input.sk-toggleable__control:checked~label.sk-toggleable__label {background-color: #d4ebff;}#sk-container-id-3 div.sk-label input.sk-toggleable__control:checked~label.sk-toggleable__label {background-color: #d4ebff;}#sk-container-id-3 input.sk-hidden--visually {border: 0;clip: rect(1px 1px 1px 1px);clip: rect(1px, 1px, 1px, 1px);height: 1px;margin: -1px;overflow: hidden;padding: 0;position: absolute;width: 1px;}#sk-container-id-3 div.sk-estimator {font-family: monospace;background-color: #f0f8ff;border: 1px dotted black;border-radius: 0.25em;box-sizing: border-box;margin-bottom: 0.5em;}#sk-container-id-3 div.sk-estimator:hover {background-color: #d4ebff;}#sk-container-id-3 div.sk-parallel-item::after {content: \"\";width: 100%;border-bottom: 1px solid gray;flex-grow: 1;}#sk-container-id-3 div.sk-label:hover label.sk-toggleable__label {background-color: #d4ebff;}#sk-container-id-3 div.sk-serial::before {content: \"\";position: absolute;border-left: 1px solid gray;box-sizing: border-box;top: 0;bottom: 0;left: 50%;z-index: 0;}#sk-container-id-3 div.sk-serial {display: flex;flex-direction: column;align-items: center;background-color: white;padding-right: 0.2em;padding-left: 0.2em;position: relative;}#sk-container-id-3 div.sk-item {position: relative;z-index: 1;}#sk-container-id-3 div.sk-parallel {display: flex;align-items: stretch;justify-content: center;background-color: white;position: relative;}#sk-container-id-3 div.sk-item::before, #sk-container-id-3 div.sk-parallel-item::before {content: \"\";position: absolute;border-left: 1px solid gray;box-sizing: border-box;top: 0;bottom: 0;left: 50%;z-index: -1;}#sk-container-id-3 div.sk-parallel-item {display: flex;flex-direction: column;z-index: 1;position: relative;background-color: white;}#sk-container-id-3 div.sk-parallel-item:first-child::after {align-self: flex-end;width: 50%;}#sk-container-id-3 div.sk-parallel-item:last-child::after {align-self: flex-start;width: 50%;}#sk-container-id-3 div.sk-parallel-item:only-child::after {width: 0;}#sk-container-id-3 div.sk-dashed-wrapped {border: 1px dashed gray;margin: 0 0.4em 0.5em 0.4em;box-sizing: border-box;padding-bottom: 0.4em;background-color: white;}#sk-container-id-3 div.sk-label label {font-family: monospace;font-weight: bold;display: inline-block;line-height: 1.2em;}#sk-container-id-3 div.sk-label-container {text-align: center;}#sk-container-id-3 div.sk-container {/* jupyter's `normalize.less` sets `[hidden] { display: none; }` but bootstrap.min.css set `[hidden] { display: none !important; }` so we also need the `!important` here to be able to override the default hidden behavior on the sphinx rendered scikit-learn.org. See: https://github.com/scikit-learn/scikit-learn/issues/21755 */display: inline-block !important;position: relative;}#sk-container-id-3 div.sk-text-repr-fallback {display: none;}</style><div id=\"sk-container-id-3\" class=\"sk-top-container\"><div class=\"sk-text-repr-fallback\"><pre>RandomForestRegressor(random_state=42)</pre><b>In a Jupyter environment, please rerun this cell to show the HTML representation or trust the notebook. <br />On GitHub, the HTML representation is unable to render, please try loading this page with nbviewer.org.</b></div><div class=\"sk-container\" hidden><div class=\"sk-item\"><div class=\"sk-estimator sk-toggleable\"><input class=\"sk-toggleable__control sk-hidden--visually\" id=\"sk-estimator-id-3\" type=\"checkbox\" checked><label for=\"sk-estimator-id-3\" class=\"sk-toggleable__label sk-toggleable__label-arrow\">RandomForestRegressor</label><div class=\"sk-toggleable__content\"><pre>RandomForestRegressor(random_state=42)</pre></div></div></div></div></div>"
            ]
          },
          "metadata": {},
          "execution_count": 79
        }
      ],
      "source": [
        "# Fit the model on the training data\n",
        "regressor.fit(X_train, y_train)"
      ]
    },
    {
      "cell_type": "code",
      "execution_count": null,
      "metadata": {
        "id": "dtntRVspZSdN"
      },
      "outputs": [],
      "source": [
        "# Predict the ratings on the test data\n",
        "y_pred = regressor.predict(X_test)"
      ]
    },
    {
      "cell_type": "code",
      "execution_count": null,
      "metadata": {
        "id": "7Cd4jWUeZiXl"
      },
      "outputs": [],
      "source": [
        "mse = mean_squared_error(y_test, y_pred)\n",
        "r2 = r2_score(y_test, y_pred)"
      ]
    },
    {
      "cell_type": "code",
      "execution_count": null,
      "metadata": {
        "colab": {
          "base_uri": "https://localhost:8080/"
        },
        "id": "6q6DWBVLZmU0",
        "outputId": "3f1488c9-622a-42da-dab7-6b90a286e71a"
      },
      "outputs": [
        {
          "output_type": "stream",
          "name": "stdout",
          "text": [
            "Mean Squared Error: 0.35\n",
            "R-squared: 0.84\n"
          ]
        }
      ],
      "source": [
        "print(f\"Mean Squared Error: {mse:.2f}\")\n",
        "print(f\"R-squared: {r2:.2f}\")"
      ]
    },
    {
      "cell_type": "code",
      "execution_count": null,
      "metadata": {
        "colab": {
          "base_uri": "https://localhost:8080/",
          "height": 481
        },
        "id": "3cnMi3GBbkHG",
        "outputId": "c219ebd4-d4e2-4465-8855-a244fb6bcde6"
      },
      "outputs": [
        {
          "output_type": "display_data",
          "data": {
            "text/plain": [
              "<Figure size 640x480 with 1 Axes>"
            ],
            "image/png": "[encoded data removed]"
          },
          "metadata": {}
        }
      ],
      "source": [
        "residuals = y_test - y_pred\n",
        "\n",
        "plt.hist(residuals, bins=20)\n",
        "plt.xlabel(\"Residuals\")\n",
        "plt.ylabel(\"Frequency\")\n",
        "plt.title(\"Histogram of Residuals\")\n",
        "plt.show()\n"
      ]
    },
    {
      "cell_type": "markdown",
      "metadata": {
        "id": "3bs41P-GYL-v"
      },
      "source": [
        "**L1 Regularization**"
      ]
    },
    {
      "cell_type": "code",
      "execution_count": null,
      "metadata": {
        "id": "6epi272xUKd-"
      },
      "outputs": [],
      "source": [
        "from sklearn.linear_model import Lasso\n",
        "from sklearn.metrics import mean_squared_error"
      ]
    },
    {
      "cell_type": "code",
      "execution_count": null,
      "metadata": {
        "id": "IVYZOrT8YPOa"
      },
      "outputs": [],
      "source": [
        "lasso = Lasso(alpha=0.01)"
      ]
    },
    {
      "cell_type": "code",
      "execution_count": null,
      "metadata": {
        "colab": {
          "base_uri": "https://localhost:8080/",
          "height": 74
        },
        "id": "7hOv3d7PYSuu",
        "outputId": "5727f62c-b745-4823-9f53-74d98182cb6a"
      },
      "outputs": [
        {
          "output_type": "execute_result",
          "data": {
            "text/plain": [
              "Lasso(alpha=0.01)"
            ],
            "text/html": [
              "<style>#sk-container-id-5 {color: black;background-color: white;}#sk-container-id-5 pre{padding: 0;}#sk-container-id-5 div.sk-toggleable {background-color: white;}#sk-container-id-5 label.sk-toggleable__label {cursor: pointer;display: block;width: 100%;margin-bottom: 0;padding: 0.3em;box-sizing: border-box;text-align: center;}#sk-container-id-5 label.sk-toggleable__label-arrow:before {content: \"▸\";float: left;margin-right: 0.25em;color: #696969;}#sk-container-id-5 label.sk-toggleable__label-arrow:hover:before {color: black;}#sk-container-id-5 div.sk-estimator:hover label.sk-toggleable__label-arrow:before {color: black;}#sk-container-id-5 div.sk-toggleable__content {max-height: 0;max-width: 0;overflow: hidden;text-align: left;background-color: #f0f8ff;}#sk-container-id-5 div.sk-toggleable__content pre {margin: 0.2em;color: black;border-radius: 0.25em;background-color: #f0f8ff;}#sk-container-id-5 input.sk-toggleable__control:checked~div.sk-toggleable__content {max-height: 200px;max-width: 100%;overflow: auto;}#sk-container-id-5 input.sk-toggleable__control:checked~label.sk-toggleable__label-arrow:before {content: \"▾\";}#sk-container-id-5 div.sk-estimator input.sk-toggleable__control:checked~label.sk-toggleable__label {background-color: #d4ebff;}#sk-container-id-5 div.sk-label input.sk-toggleable__control:checked~label.sk-toggleable__label {background-color: #d4ebff;}#sk-container-id-5 input.sk-hidden--visually {border: 0;clip: rect(1px 1px 1px 1px);clip: rect(1px, 1px, 1px, 1px);height: 1px;margin: -1px;overflow: hidden;padding: 0;position: absolute;width: 1px;}#sk-container-id-5 div.sk-estimator {font-family: monospace;background-color: #f0f8ff;border: 1px dotted black;border-radius: 0.25em;box-sizing: border-box;margin-bottom: 0.5em;}#sk-container-id-5 div.sk-estimator:hover {background-color: #d4ebff;}#sk-container-id-5 div.sk-parallel-item::after {content: \"\";width: 100%;border-bottom: 1px solid gray;flex-grow: 1;}#sk-container-id-5 div.sk-label:hover label.sk-toggleable__label {background-color: #d4ebff;}#sk-container-id-5 div.sk-serial::before {content: \"\";position: absolute;border-left: 1px solid gray;box-sizing: border-box;top: 0;bottom: 0;left: 50%;z-index: 0;}#sk-container-id-5 div.sk-serial {display: flex;flex-direction: column;align-items: center;background-color: white;padding-right: 0.2em;padding-left: 0.2em;position: relative;}#sk-container-id-5 div.sk-item {position: relative;z-index: 1;}#sk-container-id-5 div.sk-parallel {display: flex;align-items: stretch;justify-content: center;background-color: white;position: relative;}#sk-container-id-5 div.sk-item::before, #sk-container-id-5 div.sk-parallel-item::before {content: \"\";position: absolute;border-left: 1px solid gray;box-sizing: border-box;top: 0;bottom: 0;left: 50%;z-index: -1;}#sk-container-id-5 div.sk-parallel-item {display: flex;flex-direction: column;z-index: 1;position: relative;background-color: white;}#sk-container-id-5 div.sk-parallel-item:first-child::after {align-self: flex-end;width: 50%;}#sk-container-id-5 div.sk-parallel-item:last-child::after {align-self: flex-start;width: 50%;}#sk-container-id-5 div.sk-parallel-item:only-child::after {width: 0;}#sk-container-id-5 div.sk-dashed-wrapped {border: 1px dashed gray;margin: 0 0.4em 0.5em 0.4em;box-sizing: border-box;padding-bottom: 0.4em;background-color: white;}#sk-container-id-5 div.sk-label label {font-family: monospace;font-weight: bold;display: inline-block;line-height: 1.2em;}#sk-container-id-5 div.sk-label-container {text-align: center;}#sk-container-id-5 div.sk-container {/* jupyter's `normalize.less` sets `[hidden] { display: none; }` but bootstrap.min.css set `[hidden] { display: none !important; }` so we also need the `!important` here to be able to override the default hidden behavior on the sphinx rendered scikit-learn.org. See: https://github.com/scikit-learn/scikit-learn/issues/21755 */display: inline-block !important;position: relative;}#sk-container-id-5 div.sk-text-repr-fallback {display: none;}</style><div id=\"sk-container-id-5\" class=\"sk-top-container\"><div class=\"sk-text-repr-fallback\"><pre>Lasso(alpha=0.01)</pre><b>In a Jupyter environment, please rerun this cell to show the HTML representation or trust the notebook. <br />On GitHub, the HTML representation is unable to render, please try loading this page with nbviewer.org.</b></div><div class=\"sk-container\" hidden><div class=\"sk-item\"><div class=\"sk-estimator sk-toggleable\"><input class=\"sk-toggleable__control sk-hidden--visually\" id=\"sk-estimator-id-5\" type=\"checkbox\" checked><label for=\"sk-estimator-id-5\" class=\"sk-toggleable__label sk-toggleable__label-arrow\">Lasso</label><div class=\"sk-toggleable__content\"><pre>Lasso(alpha=0.01)</pre></div></div></div></div></div>"
            ]
          },
          "metadata": {},
          "execution_count": 93
        }
      ],
      "source": [
        "lasso.fit(X_train, y_train)"
      ]
    },
    {
      "cell_type": "code",
      "execution_count": null,
      "metadata": {
        "id": "hAF1jtaWYWA8"
      },
      "outputs": [],
      "source": [
        "y_pred_lasso = lasso.predict(X_test)"
      ]
    },
    {
      "cell_type": "code",
      "execution_count": null,
      "metadata": {
        "colab": {
          "base_uri": "https://localhost:8080/"
        },
        "id": "X_t-u3reYZCK",
        "outputId": "adfd37a2-6a90-44e1-9d1b-735300a725e1"
      },
      "outputs": [
        {
          "output_type": "stream",
          "name": "stdout",
          "text": [
            "Lasso Mean Squared Error: 2.27\n"
          ]
        }
      ],
      "source": [
        "mse_lasso = mean_squared_error(y_test, y_pred_lasso)\n",
        "print(f\"Lasso Mean Squared Error: {mse_lasso:.2f}\")"
      ]
    },
    {
      "cell_type": "markdown",
      "metadata": {
        "id": "VI-hcUgEYnh5"
      },
      "source": [
        "**L2 Regularization**\n",
        "\n"
      ]
    },
    {
      "cell_type": "code",
      "execution_count": null,
      "metadata": {
        "id": "SO2A2-sYYeDU"
      },
      "outputs": [],
      "source": [
        "from sklearn.linear_model import Ridge\n",
        "from sklearn.metrics import mean_squared_error"
      ]
    },
    {
      "cell_type": "code",
      "execution_count": null,
      "metadata": {
        "id": "UXyksqXRYvMz"
      },
      "outputs": [],
      "source": [
        "ridge = Ridge(alpha=1.0)"
      ]
    },
    {
      "cell_type": "code",
      "execution_count": null,
      "metadata": {
        "colab": {
          "base_uri": "https://localhost:8080/",
          "height": 74
        },
        "id": "Q_UYDPV4Yx3l",
        "outputId": "f5cc7107-83b6-4182-b2fa-b4957f4a67f8"
      },
      "outputs": [
        {
          "output_type": "execute_result",
          "data": {
            "text/plain": [
              "Ridge()"
            ],
            "text/html": [
              "<style>#sk-container-id-6 {color: black;background-color: white;}#sk-container-id-6 pre{padding: 0;}#sk-container-id-6 div.sk-toggleable {background-color: white;}#sk-container-id-6 label.sk-toggleable__label {cursor: pointer;display: block;width: 100%;margin-bottom: 0;padding: 0.3em;box-sizing: border-box;text-align: center;}#sk-container-id-6 label.sk-toggleable__label-arrow:before {content: \"▸\";float: left;margin-right: 0.25em;color: #696969;}#sk-container-id-6 label.sk-toggleable__label-arrow:hover:before {color: black;}#sk-container-id-6 div.sk-estimator:hover label.sk-toggleable__label-arrow:before {color: black;}#sk-container-id-6 div.sk-toggleable__content {max-height: 0;max-width: 0;overflow: hidden;text-align: left;background-color: #f0f8ff;}#sk-container-id-6 div.sk-toggleable__content pre {margin: 0.2em;color: black;border-radius: 0.25em;background-color: #f0f8ff;}#sk-container-id-6 input.sk-toggleable__control:checked~div.sk-toggleable__content {max-height: 200px;max-width: 100%;overflow: auto;}#sk-container-id-6 input.sk-toggleable__control:checked~label.sk-toggleable__label-arrow:before {content: \"▾\";}#sk-container-id-6 div.sk-estimator input.sk-toggleable__control:checked~label.sk-toggleable__label {background-color: #d4ebff;}#sk-container-id-6 div.sk-label input.sk-toggleable__control:checked~label.sk-toggleable__label {background-color: #d4ebff;}#sk-container-id-6 input.sk-hidden--visually {border: 0;clip: rect(1px 1px 1px 1px);clip: rect(1px, 1px, 1px, 1px);height: 1px;margin: -1px;overflow: hidden;padding: 0;position: absolute;width: 1px;}#sk-container-id-6 div.sk-estimator {font-family: monospace;background-color: #f0f8ff;border: 1px dotted black;border-radius: 0.25em;box-sizing: border-box;margin-bottom: 0.5em;}#sk-container-id-6 div.sk-estimator:hover {background-color: #d4ebff;}#sk-container-id-6 div.sk-parallel-item::after {content: \"\";width: 100%;border-bottom: 1px solid gray;flex-grow: 1;}#sk-container-id-6 div.sk-label:hover label.sk-toggleable__label {background-color: #d4ebff;}#sk-container-id-6 div.sk-serial::before {content: \"\";position: absolute;border-left: 1px solid gray;box-sizing: border-box;top: 0;bottom: 0;left: 50%;z-index: 0;}#sk-container-id-6 div.sk-serial {display: flex;flex-direction: column;align-items: center;background-color: white;padding-right: 0.2em;padding-left: 0.2em;position: relative;}#sk-container-id-6 div.sk-item {position: relative;z-index: 1;}#sk-container-id-6 div.sk-parallel {display: flex;align-items: stretch;justify-content: center;background-color: white;position: relative;}#sk-container-id-6 div.sk-item::before, #sk-container-id-6 div.sk-parallel-item::before {content: \"\";position: absolute;border-left: 1px solid gray;box-sizing: border-box;top: 0;bottom: 0;left: 50%;z-index: -1;}#sk-container-id-6 div.sk-parallel-item {display: flex;flex-direction: column;z-index: 1;position: relative;background-color: white;}#sk-container-id-6 div.sk-parallel-item:first-child::after {align-self: flex-end;width: 50%;}#sk-container-id-6 div.sk-parallel-item:last-child::after {align-self: flex-start;width: 50%;}#sk-container-id-6 div.sk-parallel-item:only-child::after {width: 0;}#sk-container-id-6 div.sk-dashed-wrapped {border: 1px dashed gray;margin: 0 0.4em 0.5em 0.4em;box-sizing: border-box;padding-bottom: 0.4em;background-color: white;}#sk-container-id-6 div.sk-label label {font-family: monospace;font-weight: bold;display: inline-block;line-height: 1.2em;}#sk-container-id-6 div.sk-label-container {text-align: center;}#sk-container-id-6 div.sk-container {/* jupyter's `normalize.less` sets `[hidden] { display: none; }` but bootstrap.min.css set `[hidden] { display: none !important; }` so we also need the `!important` here to be able to override the default hidden behavior on the sphinx rendered scikit-learn.org. See: https://github.com/scikit-learn/scikit-learn/issues/21755 */display: inline-block !important;position: relative;}#sk-container-id-6 div.sk-text-repr-fallback {display: none;}</style><div id=\"sk-container-id-6\" class=\"sk-top-container\"><div class=\"sk-text-repr-fallback\"><pre>Ridge()</pre><b>In a Jupyter environment, please rerun this cell to show the HTML representation or trust the notebook. <br />On GitHub, the HTML representation is unable to render, please try loading this page with nbviewer.org.</b></div><div class=\"sk-container\" hidden><div class=\"sk-item\"><div class=\"sk-estimator sk-toggleable\"><input class=\"sk-toggleable__control sk-hidden--visually\" id=\"sk-estimator-id-6\" type=\"checkbox\" checked><label for=\"sk-estimator-id-6\" class=\"sk-toggleable__label sk-toggleable__label-arrow\">Ridge</label><div class=\"sk-toggleable__content\"><pre>Ridge()</pre></div></div></div></div></div>"
            ]
          },
          "metadata": {},
          "execution_count": 98
        }
      ],
      "source": [
        "ridge.fit(X_train, y_train)"
      ]
    },
    {
      "cell_type": "code",
      "execution_count": null,
      "metadata": {
        "id": "sn1Gnq7vY0qS"
      },
      "outputs": [],
      "source": [
        "y_pred_ridge = ridge.predict(X_test)\n"
      ]
    },
    {
      "cell_type": "code",
      "execution_count": null,
      "metadata": {
        "colab": {
          "base_uri": "https://localhost:8080/"
        },
        "id": "WtIoV4ywY3_e",
        "outputId": "a5c36f16-cc4c-443f-9c07-359cd71e60f8"
      },
      "outputs": [
        {
          "output_type": "stream",
          "name": "stdout",
          "text": [
            "Ridge Mean Squared Error: 2.27\n"
          ]
        }
      ],
      "source": [
        "mse_ridge = mean_squared_error(y_test, y_pred_ridge)\n",
        "print(f\"Ridge Mean Squared Error: {mse_ridge:.2f}\")"
      ]
    },
    {
      "cell_type": "markdown",
      "metadata": {
        "id": "pY9VtSX_qEj9"
      },
      "source": [
        "**DecisionTree Regressor**"
      ]
    },
    {
      "cell_type": "code",
      "execution_count": null,
      "metadata": {
        "id": "HLYXZuFLY67p"
      },
      "outputs": [],
      "source": [
        "from sklearn.tree import DecisionTreeRegressor\n",
        "from sklearn.metrics import mean_squared_error, r2_score"
      ]
    },
    {
      "cell_type": "code",
      "execution_count": null,
      "metadata": {
        "id": "IaYWGeKaZYoO"
      },
      "outputs": [],
      "source": [
        "regressor = DecisionTreeRegressor(random_state=42)\n"
      ]
    },
    {
      "cell_type": "code",
      "execution_count": null,
      "metadata": {
        "colab": {
          "base_uri": "https://localhost:8080/",
          "height": 74
        },
        "id": "-_V0IcCLZcc1",
        "outputId": "b5a90807-b487-4776-8223-68ef3534d53d"
      },
      "outputs": [
        {
          "output_type": "execute_result",
          "data": {
            "text/plain": [
              "DecisionTreeRegressor(random_state=42)"
            ],
            "text/html": [
              "<style>#sk-container-id-7 {color: black;background-color: white;}#sk-container-id-7 pre{padding: 0;}#sk-container-id-7 div.sk-toggleable {background-color: white;}#sk-container-id-7 label.sk-toggleable__label {cursor: pointer;display: block;width: 100%;margin-bottom: 0;padding: 0.3em;box-sizing: border-box;text-align: center;}#sk-container-id-7 label.sk-toggleable__label-arrow:before {content: \"▸\";float: left;margin-right: 0.25em;color: #696969;}#sk-container-id-7 label.sk-toggleable__label-arrow:hover:before {color: black;}#sk-container-id-7 div.sk-estimator:hover label.sk-toggleable__label-arrow:before {color: black;}#sk-container-id-7 div.sk-toggleable__content {max-height: 0;max-width: 0;overflow: hidden;text-align: left;background-color: #f0f8ff;}#sk-container-id-7 div.sk-toggleable__content pre {margin: 0.2em;color: black;border-radius: 0.25em;background-color: #f0f8ff;}#sk-container-id-7 input.sk-toggleable__control:checked~div.sk-toggleable__content {max-height: 200px;max-width: 100%;overflow: auto;}#sk-container-id-7 input.sk-toggleable__control:checked~label.sk-toggleable__label-arrow:before {content: \"▾\";}#sk-container-id-7 div.sk-estimator input.sk-toggleable__control:checked~label.sk-toggleable__label {background-color: #d4ebff;}#sk-container-id-7 div.sk-label input.sk-toggleable__control:checked~label.sk-toggleable__label {background-color: #d4ebff;}#sk-container-id-7 input.sk-hidden--visually {border: 0;clip: rect(1px 1px 1px 1px);clip: rect(1px, 1px, 1px, 1px);height: 1px;margin: -1px;overflow: hidden;padding: 0;position: absolute;width: 1px;}#sk-container-id-7 div.sk-estimator {font-family: monospace;background-color: #f0f8ff;border: 1px dotted black;border-radius: 0.25em;box-sizing: border-box;margin-bottom: 0.5em;}#sk-container-id-7 div.sk-estimator:hover {background-color: #d4ebff;}#sk-container-id-7 div.sk-parallel-item::after {content: \"\";width: 100%;border-bottom: 1px solid gray;flex-grow: 1;}#sk-container-id-7 div.sk-label:hover label.sk-toggleable__label {background-color: #d4ebff;}#sk-container-id-7 div.sk-serial::before {content: \"\";position: absolute;border-left: 1px solid gray;box-sizing: border-box;top: 0;bottom: 0;left: 50%;z-index: 0;}#sk-container-id-7 div.sk-serial {display: flex;flex-direction: column;align-items: center;background-color: white;padding-right: 0.2em;padding-left: 0.2em;position: relative;}#sk-container-id-7 div.sk-item {position: relative;z-index: 1;}#sk-container-id-7 div.sk-parallel {display: flex;align-items: stretch;justify-content: center;background-color: white;position: relative;}#sk-container-id-7 div.sk-item::before, #sk-container-id-7 div.sk-parallel-item::before {content: \"\";position: absolute;border-left: 1px solid gray;box-sizing: border-box;top: 0;bottom: 0;left: 50%;z-index: -1;}#sk-container-id-7 div.sk-parallel-item {display: flex;flex-direction: column;z-index: 1;position: relative;background-color: white;}#sk-container-id-7 div.sk-parallel-item:first-child::after {align-self: flex-end;width: 50%;}#sk-container-id-7 div.sk-parallel-item:last-child::after {align-self: flex-start;width: 50%;}#sk-container-id-7 div.sk-parallel-item:only-child::after {width: 0;}#sk-container-id-7 div.sk-dashed-wrapped {border: 1px dashed gray;margin: 0 0.4em 0.5em 0.4em;box-sizing: border-box;padding-bottom: 0.4em;background-color: white;}#sk-container-id-7 div.sk-label label {font-family: monospace;font-weight: bold;display: inline-block;line-height: 1.2em;}#sk-container-id-7 div.sk-label-container {text-align: center;}#sk-container-id-7 div.sk-container {/* jupyter's `normalize.less` sets `[hidden] { display: none; }` but bootstrap.min.css set `[hidden] { display: none !important; }` so we also need the `!important` here to be able to override the default hidden behavior on the sphinx rendered scikit-learn.org. See: https://github.com/scikit-learn/scikit-learn/issues/21755 */display: inline-block !important;position: relative;}#sk-container-id-7 div.sk-text-repr-fallback {display: none;}</style><div id=\"sk-container-id-7\" class=\"sk-top-container\"><div class=\"sk-text-repr-fallback\"><pre>DecisionTreeRegressor(random_state=42)</pre><b>In a Jupyter environment, please rerun this cell to show the HTML representation or trust the notebook. <br />On GitHub, the HTML representation is unable to render, please try loading this page with nbviewer.org.</b></div><div class=\"sk-container\" hidden><div class=\"sk-item\"><div class=\"sk-estimator sk-toggleable\"><input class=\"sk-toggleable__control sk-hidden--visually\" id=\"sk-estimator-id-7\" type=\"checkbox\" checked><label for=\"sk-estimator-id-7\" class=\"sk-toggleable__label sk-toggleable__label-arrow\">DecisionTreeRegressor</label><div class=\"sk-toggleable__content\"><pre>DecisionTreeRegressor(random_state=42)</pre></div></div></div></div></div>"
            ]
          },
          "metadata": {},
          "execution_count": 103
        }
      ],
      "source": [
        "regressor.fit(X_train, y_train)\n"
      ]
    },
    {
      "cell_type": "code",
      "execution_count": null,
      "metadata": {
        "id": "6ib8WvRxZfGu"
      },
      "outputs": [],
      "source": [
        "y_pred = regressor.predict(X_test)\n"
      ]
    },
    {
      "cell_type": "code",
      "execution_count": null,
      "metadata": {
        "id": "QnY6hk5RZiEh"
      },
      "outputs": [],
      "source": [
        "mse = mean_squared_error(y_test, y_pred)\n",
        "r2 = r2_score(y_test, y_pred)\n"
      ]
    },
    {
      "cell_type": "code",
      "execution_count": null,
      "metadata": {
        "colab": {
          "base_uri": "https://localhost:8080/"
        },
        "id": "XronSsCJZrZc",
        "outputId": "be11d59b-daf1-4971-fb2d-878018d68f50"
      },
      "outputs": [
        {
          "output_type": "stream",
          "name": "stdout",
          "text": [
            "Mean Squared Error: 0.54\n",
            "R-squared: 0.76\n"
          ]
        }
      ],
      "source": [
        "print(f\"Mean Squared Error: {mse:.2f}\")\n",
        "print(f\"R-squared: {r2:.2f}\")"
      ]
    },
    {
      "cell_type": "code",
      "execution_count": null,
      "metadata": {
        "id": "e5kwqdMBZuEo"
      },
      "outputs": [],
      "source": [
        "df_cn.to_csv('D:\\Project\\courses.csv', index=False)"
      ]
    },
    {
      "cell_type": "code",
      "source": [
        "instructors=pd.read_csv('/content/instructors.csv')\n",
        "courses=pd.read_csv('/content/courses.csv')"
      ],
      "metadata": {
        "id": "16mUsOsCO7F-"
      },
      "execution_count": null,
      "outputs": []
    },
    {
      "cell_type": "code",
      "source": [
        "print('Instructor :',instructors.shape)\n",
        "print('Courses :',courses.shape)"
      ],
      "metadata": {
        "colab": {
          "base_uri": "https://localhost:8080/"
        },
        "id": "E9w71wvgaVp-",
        "outputId": "60a0f42a-08de-4cc3-f668-9a59f63455dd"
      },
      "execution_count": null,
      "outputs": [
        {
          "output_type": "stream",
          "name": "stdout",
          "text": [
            "Instructor : (32233, 10)\n",
            "Courses : (83104, 11)\n"
          ]
        }
      ]
    },
    {
      "cell_type": "code",
      "source": [
        "instructors.dtypes"
      ],
      "metadata": {
        "colab": {
          "base_uri": "https://localhost:8080/"
        },
        "id": "l3fd34__aWRj",
        "outputId": "68c8bde5-37db-4465-d837-d50dcae344f6"
      },
      "execution_count": null,
      "outputs": [
        {
          "output_type": "execute_result",
          "data": {
            "text/plain": [
              "_class           object\n",
              "id                int64\n",
              "title            object\n",
              "name             object\n",
              "display_name     object\n",
              "job_title        object\n",
              "image_50x50      object\n",
              "image_100x100    object\n",
              "initials         object\n",
              "url              object\n",
              "dtype: object"
            ]
          },
          "metadata": {},
          "execution_count": 112
        }
      ]
    },
    {
      "cell_type": "code",
      "source": [
        "courses=courses[['id', 'title','rating', 'num_reviews', 'num_published_lectures',\n",
        "       'created', 'last_update_date', 'instructors_id']]\n",
        "\n",
        "instructors=instructors[['id', 'title', 'name', 'job_title']]"
      ],
      "metadata": {
        "id": "cksqWUiTbH9r"
      },
      "execution_count": null,
      "outputs": []
    },
    {
      "cell_type": "code",
      "source": [
        "Udemy_df=pd.merge(courses,instructors,left_on='instructors_id',right_on='id')"
      ],
      "metadata": {
        "id": "nE0d7JGabNBt"
      },
      "execution_count": null,
      "outputs": []
    },
    {
      "cell_type": "code",
      "source": [
        "Udemy_df.to_csv('D:\\Project\\Merged.csv', index=False)"
      ],
      "metadata": {
        "id": "5ZfwhIUFAdpM"
      },
      "execution_count": null,
      "outputs": []
    },
    {
      "cell_type": "code",
      "source": [
        "Udemy_df.rename(columns={'id_x':'id','title_x':'courses','title_y':'full_name'},inplace=True)\n",
        "Udemy_df.drop('id_y',axis=1,inplace=True)"
      ],
      "metadata": {
        "id": "JvRu1oNebRfr"
      },
      "execution_count": null,
      "outputs": []
    },
    {
      "cell_type": "code",
      "source": [
        "Udemy_df.head()"
      ],
      "metadata": {
        "colab": {
          "base_uri": "https://localhost:8080/",
          "height": 694
        },
        "id": "HGS661W7bUm-",
        "outputId": "f96ace3f-f873-4a0f-a895-bf73e9673e42"
      },
      "execution_count": null,
      "outputs": [
        {
          "output_type": "execute_result",
          "data": {
            "text/plain": [
              "       id                                            courses    rating  \\\n",
              "0  567828  The Complete Python Bootcamp From Zero to Hero...  4.592782   \n",
              "1  903744  Python for Data Science and Machine Learning B...  4.622137   \n",
              "2  822444  Python and Django Full Stack Web Developer Boo...  4.440449   \n",
              "3  980798         Spark and Python for Big Data with PySpark  4.541236   \n",
              "4  396876  Learning Python for Data Analysis and Visualiz...  4.323516   \n",
              "\n",
              "   num_reviews  num_published_lectures               created last_update_date  \\\n",
              "0       452973                     155  2015-07-29T00:12:23Z       2021-03-14   \n",
              "1       126984                     165  2016-07-13T05:22:58Z       2020-05-03   \n",
              "2        46528                     198  2016-04-15T03:19:00Z       2019-09-04   \n",
              "3        20838                      67  2016-10-10T21:19:56Z       2020-05-31   \n",
              "4        18789                     110  2015-01-18T00:43:49Z       2019-09-04   \n",
              "\n",
              "   instructors_id      full_name  name  \\\n",
              "0         9685726  Jose Portilla  Jose   \n",
              "1         9685726  Jose Portilla  Jose   \n",
              "2         9685726  Jose Portilla  Jose   \n",
              "3         9685726  Jose Portilla  Jose   \n",
              "4         9685726  Jose Portilla  Jose   \n",
              "\n",
              "                                  job_title  \n",
              "0  Head of Data Science at Pierian Training  \n",
              "1  Head of Data Science at Pierian Training  \n",
              "2  Head of Data Science at Pierian Training  \n",
              "3  Head of Data Science at Pierian Training  \n",
              "4  Head of Data Science at Pierian Training  "
            ],
            "text/html": [
              "\n",
              "  <div id=\"df-80e045ad-bfbe-49ed-8d6a-f2e884fc3f50\" class=\"colab-df-container\">\n",
              "    <div>\n",
              "<style scoped>\n",
              "    .dataframe tbody tr th:only-of-type {\n",
              "        vertical-align: middle;\n",
              "    }\n",
              "\n",
              "    .dataframe tbody tr th {\n",
              "        vertical-align: top;\n",
              "    }\n",
              "\n",
              "    .dataframe thead th {\n",
              "        text-align: right;\n",
              "    }\n",
              "</style>\n",
              "<table border=\"1\" class=\"dataframe\">\n",
              "  <thead>\n",
              "    <tr style=\"text-align: right;\">\n",
              "      <th></th>\n",
              "      <th>id</th>\n",
              "      <th>courses</th>\n",
              "      <th>rating</th>\n",
              "      <th>num_reviews</th>\n",
              "      <th>num_published_lectures</th>\n",
              "      <th>created</th>\n",
              "      <th>last_update_date</th>\n",
              "      <th>instructors_id</th>\n",
              "      <th>full_name</th>\n",
              "      <th>name</th>\n",
              "      <th>job_title</th>\n",
              "    </tr>\n",
              "  </thead>\n",
              "  <tbody>\n",
              "    <tr>\n",
              "      <th>0</th>\n",
              "      <td>567828</td>\n",
              "      <td>The Complete Python Bootcamp From Zero to Hero...</td>\n",
              "      <td>4.592782</td>\n",
              "      <td>452973</td>\n",
              "      <td>155</td>\n",
              "      <td>2015-07-29T00:12:23Z</td>\n",
              "      <td>2021-03-14</td>\n",
              "      <td>9685726</td>\n",
              "      <td>Jose Portilla</td>\n",
              "      <td>Jose</td>\n",
              "      <td>Head of Data Science at Pierian Training</td>\n",
              "    </tr>\n",
              "    <tr>\n",
              "      <th>1</th>\n",
              "      <td>903744</td>\n",
              "      <td>Python for Data Science and Machine Learning B...</td>\n",
              "      <td>4.622137</td>\n",
              "      <td>126984</td>\n",
              "      <td>165</td>\n",
              "      <td>2016-07-13T05:22:58Z</td>\n",
              "      <td>2020-05-03</td>\n",
              "      <td>9685726</td>\n",
              "      <td>Jose Portilla</td>\n",
              "      <td>Jose</td>\n",
              "      <td>Head of Data Science at Pierian Training</td>\n",
              "    </tr>\n",
              "    <tr>\n",
              "      <th>2</th>\n",
              "      <td>822444</td>\n",
              "      <td>Python and Django Full Stack Web Developer Boo...</td>\n",
              "      <td>4.440449</td>\n",
              "      <td>46528</td>\n",
              "      <td>198</td>\n",
              "      <td>2016-04-15T03:19:00Z</td>\n",
              "      <td>2019-09-04</td>\n",
              "      <td>9685726</td>\n",
              "      <td>Jose Portilla</td>\n",
              "      <td>Jose</td>\n",
              "      <td>Head of Data Science at Pierian Training</td>\n",
              "    </tr>\n",
              "    <tr>\n",
              "      <th>3</th>\n",
              "      <td>980798</td>\n",
              "      <td>Spark and Python for Big Data with PySpark</td>\n",
              "      <td>4.541236</td>\n",
              "      <td>20838</td>\n",
              "      <td>67</td>\n",
              "      <td>2016-10-10T21:19:56Z</td>\n",
              "      <td>2020-05-31</td>\n",
              "      <td>9685726</td>\n",
              "      <td>Jose Portilla</td>\n",
              "      <td>Jose</td>\n",
              "      <td>Head of Data Science at Pierian Training</td>\n",
              "    </tr>\n",
              "    <tr>\n",
              "      <th>4</th>\n",
              "      <td>396876</td>\n",
              "      <td>Learning Python for Data Analysis and Visualiz...</td>\n",
              "      <td>4.323516</td>\n",
              "      <td>18789</td>\n",
              "      <td>110</td>\n",
              "      <td>2015-01-18T00:43:49Z</td>\n",
              "      <td>2019-09-04</td>\n",
              "      <td>9685726</td>\n",
              "      <td>Jose Portilla</td>\n",
              "      <td>Jose</td>\n",
              "      <td>Head of Data Science at Pierian Training</td>\n",
              "    </tr>\n",
              "  </tbody>\n",
              "</table>\n",
              "</div>\n",
              "    <div class=\"colab-df-buttons\">\n",
              "\n",
              "  <div class=\"colab-df-container\">\n",
              "    <button class=\"colab-df-convert\" onclick=\"convertToInteractive('df-80e045ad-bfbe-49ed-8d6a-f2e884fc3f50')\"\n",
              "            title=\"Convert this dataframe to an interactive table.\"\n",
              "            style=\"display:none;\">\n",
              "\n",
              "  <svg xmlns=\"http://www.w3.org/2000/svg\" height=\"24px\" viewBox=\"0 -960 960 960\">\n",
              "    <path d=\"M120-120v-720h720v720H120Zm60-500h600v-160H180v160Zm220 220h160v-160H400v160Zm0 220h160v-160H400v160ZM180-400h160v-160H180v160Zm440 0h160v-160H620v160ZM180-180h160v-160H180v160Zm440 0h160v-160H620v160Z\"/>\n",
              "  </svg>\n",
              "    </button>\n",
              "\n",
              "  <style>\n",
              "    .colab-df-container {\n",
              "      display:flex;\n",
              "      gap: 12px;\n",
              "    }\n",
              "\n",
              "    .colab-df-convert {\n",
              "      background-color: #E8F0FE;\n",
              "      border: none;\n",
              "      border-radius: 50%;\n",
              "      cursor: pointer;\n",
              "      display: none;\n",
              "      fill: #1967D2;\n",
              "      height: 32px;\n",
              "      padding: 0 0 0 0;\n",
              "      width: 32px;\n",
              "    }\n",
              "\n",
              "    .colab-df-convert:hover {\n",
              "      background-color: #E2EBFA;\n",
              "      box-shadow: 0px 1px 2px rgba(60, 64, 67, 0.3), 0px 1px 3px 1px rgba(60, 64, 67, 0.15);\n",
              "      fill: #174EA6;\n",
              "    }\n",
              "\n",
              "    .colab-df-buttons div {\n",
              "      margin-bottom: 4px;\n",
              "    }\n",
              "\n",
              "    [theme=dark] .colab-df-convert {\n",
              "      background-color: #3B4455;\n",
              "      fill: #D2E3FC;\n",
              "    }\n",
              "\n",
              "    [theme=dark] .colab-df-convert:hover {\n",
              "      background-color: #434B5C;\n",
              "      box-shadow: 0px 1px 3px 1px rgba(0, 0, 0, 0.15);\n",
              "      filter: drop-shadow(0px 1px 2px rgba(0, 0, 0, 0.3));\n",
              "      fill: #FFFFFF;\n",
              "    }\n",
              "  </style>\n",
              "\n",
              "    <script>\n",
              "      const buttonEl =\n",
              "        document.querySelector('#df-80e045ad-bfbe-49ed-8d6a-f2e884fc3f50 button.colab-df-convert');\n",
              "      buttonEl.style.display =\n",
              "        google.colab.kernel.accessAllowed ? 'block' : 'none';\n",
              "\n",
              "      async function convertToInteractive(key) {\n",
              "        const element = document.querySelector('#df-80e045ad-bfbe-49ed-8d6a-f2e884fc3f50');\n",
              "        const dataTable =\n",
              "          await google.colab.kernel.invokeFunction('convertToInteractive',\n",
              "                                                    [key], {});\n",
              "        if (!dataTable) return;\n",
              "\n",
              "        const docLinkHtml = 'Like what you see? Visit the ' +\n",
              "          '<a target=\"_blank\" href=https://colab.research.google.com/notebooks/data_table.ipynb>data table notebook</a>'\n",
              "          + ' to learn more about interactive tables.';\n",
              "        element.innerHTML = '';\n",
              "        dataTable['output_type'] = 'display_data';\n",
              "        await google.colab.output.renderOutput(dataTable, element);\n",
              "        const docLink = document.createElement('div');\n",
              "        docLink.innerHTML = docLinkHtml;\n",
              "        element.appendChild(docLink);\n",
              "      }\n",
              "    </script>\n",
              "  </div>\n",
              "\n",
              "\n",
              "<div id=\"df-d430d4b5-0085-4688-b2d6-e0ef845d04db\">\n",
              "  <button class=\"colab-df-quickchart\" onclick=\"quickchart('df-d430d4b5-0085-4688-b2d6-e0ef845d04db')\"\n",
              "            title=\"Suggest charts.\"\n",
              "            style=\"display:none;\">\n",
              "\n",
              "<svg xmlns=\"http://www.w3.org/2000/svg\" height=\"24px\"viewBox=\"0 0 24 24\"\n",
              "     width=\"24px\">\n",
              "    <g>\n",
              "        <path d=\"M19 3H5c-1.1 0-2 .9-2 2v14c0 1.1.9 2 2 2h14c1.1 0 2-.9 2-2V5c0-1.1-.9-2-2-2zM9 17H7v-7h2v7zm4 0h-2V7h2v10zm4 0h-2v-4h2v4z\"/>\n",
              "    </g>\n",
              "</svg>\n",
              "  </button>\n",
              "\n",
              "<style>\n",
              "  .colab-df-quickchart {\n",
              "    background-color: #E8F0FE;\n",
              "    border: none;\n",
              "    border-radius: 50%;\n",
              "    cursor: pointer;\n",
              "    display: none;\n",
              "    fill: #1967D2;\n",
              "    height: 32px;\n",
              "    padding: 0 0 0 0;\n",
              "    width: 32px;\n",
              "  }\n",
              "\n",
              "  .colab-df-quickchart:hover {\n",
              "    background-color: #E2EBFA;\n",
              "    box-shadow: 0px 1px 2px rgba(60, 64, 67, 0.3), 0px 1px 3px 1px rgba(60, 64, 67, 0.15);\n",
              "    fill: #174EA6;\n",
              "  }\n",
              "\n",
              "  [theme=dark] .colab-df-quickchart {\n",
              "    background-color: #3B4455;\n",
              "    fill: #D2E3FC;\n",
              "  }\n",
              "\n",
              "  [theme=dark] .colab-df-quickchart:hover {\n",
              "    background-color: #434B5C;\n",
              "    box-shadow: 0px 1px 3px 1px rgba(0, 0, 0, 0.15);\n",
              "    filter: drop-shadow(0px 1px 2px rgba(0, 0, 0, 0.3));\n",
              "    fill: #FFFFFF;\n",
              "  }\n",
              "</style>\n",
              "\n",
              "  <script>\n",
              "    async function quickchart(key) {\n",
              "      const charts = await google.colab.kernel.invokeFunction(\n",
              "          'suggestCharts', [key], {});\n",
              "    }\n",
              "    (() => {\n",
              "      let quickchartButtonEl =\n",
              "        document.querySelector('#df-d430d4b5-0085-4688-b2d6-e0ef845d04db button');\n",
              "      quickchartButtonEl.style.display =\n",
              "        google.colab.kernel.accessAllowed ? 'block' : 'none';\n",
              "    })();\n",
              "  </script>\n",
              "</div>\n",
              "    </div>\n",
              "  </div>\n"
            ]
          },
          "metadata": {},
          "execution_count": 116
        }
      ]
    },
    {
      "cell_type": "code",
      "source": [
        "Udemy_df.shape"
      ],
      "metadata": {
        "colab": {
          "base_uri": "https://localhost:8080/"
        },
        "id": "dqv-QrgAbYD3",
        "outputId": "8acaf80e-2742-496a-fc05-74295a4e2a7c"
      },
      "execution_count": null,
      "outputs": [
        {
          "output_type": "execute_result",
          "data": {
            "text/plain": [
              "(83104, 11)"
            ]
          },
          "metadata": {},
          "execution_count": 117
        }
      ]
    },
    {
      "cell_type": "code",
      "source": [
        "from google.colab import drive\n",
        "drive.mount('/content/drive')"
      ],
      "metadata": {
        "colab": {
          "base_uri": "https://localhost:8080/"
        },
        "id": "CGkBgL0YHuCC",
        "outputId": "67cc19e3-4438-41a6-fa2b-f2525fe65ea4"
      },
      "execution_count": 1,
      "outputs": [
        {
          "output_type": "stream",
          "name": "stdout",
          "text": [
            "Mounted at /content/drive\n"
          ]
        }
      ]
    },
    {
      "cell_type": "code",
      "source": [
        "Udemy_df['created']=pd.to_datetime(Udemy_df['created'])\n",
        "Udemy_df['last_update_date']=pd.to_datetime(Udemy_df['last_update_date'])\n",
        "Udemy_df['created_date']=pd.to_datetime(Udemy_df['created']).dt.date\n",
        "Udemy_df['created_date']=pd.to_datetime(Udemy_df['created_date'])\n",
        "Udemy_df['created_year']=pd.to_datetime(Udemy_df['created']).dt.year\n",
        "Udemy_df['created_monthnumber']=pd.to_datetime(Udemy_df['created']).dt.month\n",
        "Udemy_df['created_monthname']=pd.to_datetime(Udemy_df['created']).dt.month_name()\n",
        "Udemy_df['rating']=Udemy_df['rating'].round(1)"
      ],
      "metadata": {
        "id": "6FeN26Ccbbut"
      },
      "execution_count": null,
      "outputs": []
    },
    {
      "cell_type": "code",
      "source": [
        "Udemy_df.isna().sum()"
      ],
      "metadata": {
        "colab": {
          "base_uri": "https://localhost:8080/"
        },
        "id": "6rguc7CRbfgM",
        "outputId": "50c0b86e-6c1e-4ed4-ccc3-a707f8e2993d"
      },
      "execution_count": null,
      "outputs": [
        {
          "output_type": "execute_result",
          "data": {
            "text/plain": [
              "id                          0\n",
              "courses                     0\n",
              "rating                      0\n",
              "num_reviews                 0\n",
              "num_published_lectures      0\n",
              "created                     0\n",
              "last_update_date           78\n",
              "instructors_id              0\n",
              "full_name                   0\n",
              "name                        9\n",
              "job_title                 155\n",
              "created_date                0\n",
              "created_year                0\n",
              "created_monthnumber         0\n",
              "created_monthname           0\n",
              "dtype: int64"
            ]
          },
          "metadata": {},
          "execution_count": 119
        }
      ]
    },
    {
      "cell_type": "code",
      "source": [
        "Udemy_df['job_title'].fillna('Other_job',inplace=True)"
      ],
      "metadata": {
        "id": "zNIbmU02biE3"
      },
      "execution_count": null,
      "outputs": []
    },
    {
      "cell_type": "code",
      "source": [
        "Udemy_df.duplicated().sum()"
      ],
      "metadata": {
        "colab": {
          "base_uri": "https://localhost:8080/"
        },
        "id": "yO9FpGvxblNZ",
        "outputId": "9134abce-3279-4982-d08d-4e8f0d5fa1ec"
      },
      "execution_count": null,
      "outputs": [
        {
          "output_type": "execute_result",
          "data": {
            "text/plain": [
              "0"
            ]
          },
          "metadata": {},
          "execution_count": 121
        }
      ]
    },
    {
      "cell_type": "markdown",
      "source": [
        "**Feature Understanding**"
      ],
      "metadata": {
        "id": "BpNbWQTybrFg"
      }
    },
    {
      "cell_type": "code",
      "source": [
        "Udemy_df.nunique(axis=0).reset_index().rename(columns={0:'Unique count'})"
      ],
      "metadata": {
        "colab": {
          "base_uri": "https://localhost:8080/",
          "height": 519
        },
        "id": "UkgINMHcbwE9",
        "outputId": "92fbf4c8-b884-40af-af79-9f20c0e4d6d2"
      },
      "execution_count": null,
      "outputs": [
        {
          "output_type": "execute_result",
          "data": {
            "text/plain": [
              "                     index  Unique count\n",
              "0                       id         83104\n",
              "1                  courses         82798\n",
              "2                   rating            42\n",
              "3              num_reviews          4143\n",
              "4   num_published_lectures           589\n",
              "5                  created         83075\n",
              "6         last_update_date          3544\n",
              "7           instructors_id         32233\n",
              "8                full_name         31991\n",
              "9                     name         16101\n",
              "10               job_title         27921\n",
              "11            created_date          3897\n",
              "12            created_year            14\n",
              "13     created_monthnumber            12\n",
              "14       created_monthname            12"
            ],
            "text/html": [
              "\n",
              "  <div id=\"df-96ef4154-6d55-4c85-8c2e-eccbdf6afd6e\" class=\"colab-df-container\">\n",
              "    <div>\n",
              "<style scoped>\n",
              "    .dataframe tbody tr th:only-of-type {\n",
              "        vertical-align: middle;\n",
              "    }\n",
              "\n",
              "    .dataframe tbody tr th {\n",
              "        vertical-align: top;\n",
              "    }\n",
              "\n",
              "    .dataframe thead th {\n",
              "        text-align: right;\n",
              "    }\n",
              "</style>\n",
              "<table border=\"1\" class=\"dataframe\">\n",
              "  <thead>\n",
              "    <tr style=\"text-align: right;\">\n",
              "      <th></th>\n",
              "      <th>index</th>\n",
              "      <th>Unique count</th>\n",
              "    </tr>\n",
              "  </thead>\n",
              "  <tbody>\n",
              "    <tr>\n",
              "      <th>0</th>\n",
              "      <td>id</td>\n",
              "      <td>83104</td>\n",
              "    </tr>\n",
              "    <tr>\n",
              "      <th>1</th>\n",
              "      <td>courses</td>\n",
              "      <td>82798</td>\n",
              "    </tr>\n",
              "    <tr>\n",
              "      <th>2</th>\n",
              "      <td>rating</td>\n",
              "      <td>42</td>\n",
              "    </tr>\n",
              "    <tr>\n",
              "      <th>3</th>\n",
              "      <td>num_reviews</td>\n",
              "      <td>4143</td>\n",
              "    </tr>\n",
              "    <tr>\n",
              "      <th>4</th>\n",
              "      <td>num_published_lectures</td>\n",
              "      <td>589</td>\n",
              "    </tr>\n",
              "    <tr>\n",
              "      <th>5</th>\n",
              "      <td>created</td>\n",
              "      <td>83075</td>\n",
              "    </tr>\n",
              "    <tr>\n",
              "      <th>6</th>\n",
              "      <td>last_update_date</td>\n",
              "      <td>3544</td>\n",
              "    </tr>\n",
              "    <tr>\n",
              "      <th>7</th>\n",
              "      <td>instructors_id</td>\n",
              "      <td>32233</td>\n",
              "    </tr>\n",
              "    <tr>\n",
              "      <th>8</th>\n",
              "      <td>full_name</td>\n",
              "      <td>31991</td>\n",
              "    </tr>\n",
              "    <tr>\n",
              "      <th>9</th>\n",
              "      <td>name</td>\n",
              "      <td>16101</td>\n",
              "    </tr>\n",
              "    <tr>\n",
              "      <th>10</th>\n",
              "      <td>job_title</td>\n",
              "      <td>27921</td>\n",
              "    </tr>\n",
              "    <tr>\n",
              "      <th>11</th>\n",
              "      <td>created_date</td>\n",
              "      <td>3897</td>\n",
              "    </tr>\n",
              "    <tr>\n",
              "      <th>12</th>\n",
              "      <td>created_year</td>\n",
              "      <td>14</td>\n",
              "    </tr>\n",
              "    <tr>\n",
              "      <th>13</th>\n",
              "      <td>created_monthnumber</td>\n",
              "      <td>12</td>\n",
              "    </tr>\n",
              "    <tr>\n",
              "      <th>14</th>\n",
              "      <td>created_monthname</td>\n",
              "      <td>12</td>\n",
              "    </tr>\n",
              "  </tbody>\n",
              "</table>\n",
              "</div>\n",
              "    <div class=\"colab-df-buttons\">\n",
              "\n",
              "  <div class=\"colab-df-container\">\n",
              "    <button class=\"colab-df-convert\" onclick=\"convertToInteractive('df-96ef4154-6d55-4c85-8c2e-eccbdf6afd6e')\"\n",
              "            title=\"Convert this dataframe to an interactive table.\"\n",
              "            style=\"display:none;\">\n",
              "\n",
              "  <svg xmlns=\"http://www.w3.org/2000/svg\" height=\"24px\" viewBox=\"0 -960 960 960\">\n",
              "    <path d=\"M120-120v-720h720v720H120Zm60-500h600v-160H180v160Zm220 220h160v-160H400v160Zm0 220h160v-160H400v160ZM180-400h160v-160H180v160Zm440 0h160v-160H620v160ZM180-180h160v-160H180v160Zm440 0h160v-160H620v160Z\"/>\n",
              "  </svg>\n",
              "    </button>\n",
              "\n",
              "  <style>\n",
              "    .colab-df-container {\n",
              "      display:flex;\n",
              "      gap: 12px;\n",
              "    }\n",
              "\n",
              "    .colab-df-convert {\n",
              "      background-color: #E8F0FE;\n",
              "      border: none;\n",
              "      border-radius: 50%;\n",
              "      cursor: pointer;\n",
              "      display: none;\n",
              "      fill: #1967D2;\n",
              "      height: 32px;\n",
              "      padding: 0 0 0 0;\n",
              "      width: 32px;\n",
              "    }\n",
              "\n",
              "    .colab-df-convert:hover {\n",
              "      background-color: #E2EBFA;\n",
              "      box-shadow: 0px 1px 2px rgba(60, 64, 67, 0.3), 0px 1px 3px 1px rgba(60, 64, 67, 0.15);\n",
              "      fill: #174EA6;\n",
              "    }\n",
              "\n",
              "    .colab-df-buttons div {\n",
              "      margin-bottom: 4px;\n",
              "    }\n",
              "\n",
              "    [theme=dark] .colab-df-convert {\n",
              "      background-color: #3B4455;\n",
              "      fill: #D2E3FC;\n",
              "    }\n",
              "\n",
              "    [theme=dark] .colab-df-convert:hover {\n",
              "      background-color: #434B5C;\n",
              "      box-shadow: 0px 1px 3px 1px rgba(0, 0, 0, 0.15);\n",
              "      filter: drop-shadow(0px 1px 2px rgba(0, 0, 0, 0.3));\n",
              "      fill: #FFFFFF;\n",
              "    }\n",
              "  </style>\n",
              "\n",
              "    <script>\n",
              "      const buttonEl =\n",
              "        document.querySelector('#df-96ef4154-6d55-4c85-8c2e-eccbdf6afd6e button.colab-df-convert');\n",
              "      buttonEl.style.display =\n",
              "        google.colab.kernel.accessAllowed ? 'block' : 'none';\n",
              "\n",
              "      async function convertToInteractive(key) {\n",
              "        const element = document.querySelector('#df-96ef4154-6d55-4c85-8c2e-eccbdf6afd6e');\n",
              "        const dataTable =\n",
              "          await google.colab.kernel.invokeFunction('convertToInteractive',\n",
              "                                                    [key], {});\n",
              "        if (!dataTable) return;\n",
              "\n",
              "        const docLinkHtml = 'Like what you see? Visit the ' +\n",
              "          '<a target=\"_blank\" href=https://colab.research.google.com/notebooks/data_table.ipynb>data table notebook</a>'\n",
              "          + ' to learn more about interactive tables.';\n",
              "        element.innerHTML = '';\n",
              "        dataTable['output_type'] = 'display_data';\n",
              "        await google.colab.output.renderOutput(dataTable, element);\n",
              "        const docLink = document.createElement('div');\n",
              "        docLink.innerHTML = docLinkHtml;\n",
              "        element.appendChild(docLink);\n",
              "      }\n",
              "    </script>\n",
              "  </div>\n",
              "\n",
              "\n",
              "<div id=\"df-1b0927a6-56b8-4bea-bb79-90b317c5332d\">\n",
              "  <button class=\"colab-df-quickchart\" onclick=\"quickchart('df-1b0927a6-56b8-4bea-bb79-90b317c5332d')\"\n",
              "            title=\"Suggest charts.\"\n",
              "            style=\"display:none;\">\n",
              "\n",
              "<svg xmlns=\"http://www.w3.org/2000/svg\" height=\"24px\"viewBox=\"0 0 24 24\"\n",
              "     width=\"24px\">\n",
              "    <g>\n",
              "        <path d=\"M19 3H5c-1.1 0-2 .9-2 2v14c0 1.1.9 2 2 2h14c1.1 0 2-.9 2-2V5c0-1.1-.9-2-2-2zM9 17H7v-7h2v7zm4 0h-2V7h2v10zm4 0h-2v-4h2v4z\"/>\n",
              "    </g>\n",
              "</svg>\n",
              "  </button>\n",
              "\n",
              "<style>\n",
              "  .colab-df-quickchart {\n",
              "    background-color: #E8F0FE;\n",
              "    border: none;\n",
              "    border-radius: 50%;\n",
              "    cursor: pointer;\n",
              "    display: none;\n",
              "    fill: #1967D2;\n",
              "    height: 32px;\n",
              "    padding: 0 0 0 0;\n",
              "    width: 32px;\n",
              "  }\n",
              "\n",
              "  .colab-df-quickchart:hover {\n",
              "    background-color: #E2EBFA;\n",
              "    box-shadow: 0px 1px 2px rgba(60, 64, 67, 0.3), 0px 1px 3px 1px rgba(60, 64, 67, 0.15);\n",
              "    fill: #174EA6;\n",
              "  }\n",
              "\n",
              "  [theme=dark] .colab-df-quickchart {\n",
              "    background-color: #3B4455;\n",
              "    fill: #D2E3FC;\n",
              "  }\n",
              "\n",
              "  [theme=dark] .colab-df-quickchart:hover {\n",
              "    background-color: #434B5C;\n",
              "    box-shadow: 0px 1px 3px 1px rgba(0, 0, 0, 0.15);\n",
              "    filter: drop-shadow(0px 1px 2px rgba(0, 0, 0, 0.3));\n",
              "    fill: #FFFFFF;\n",
              "  }\n",
              "</style>\n",
              "\n",
              "  <script>\n",
              "    async function quickchart(key) {\n",
              "      const charts = await google.colab.kernel.invokeFunction(\n",
              "          'suggestCharts', [key], {});\n",
              "    }\n",
              "    (() => {\n",
              "      let quickchartButtonEl =\n",
              "        document.querySelector('#df-1b0927a6-56b8-4bea-bb79-90b317c5332d button');\n",
              "      quickchartButtonEl.style.display =\n",
              "        google.colab.kernel.accessAllowed ? 'block' : 'none';\n",
              "    })();\n",
              "  </script>\n",
              "</div>\n",
              "    </div>\n",
              "  </div>\n"
            ]
          },
          "metadata": {},
          "execution_count": 123
        }
      ]
    },
    {
      "cell_type": "code",
      "source": [
        "Udemy_df['rating'].plot(kind='hist',bins=20,title='Rating Distribution')\n",
        "plt.xlabel('Rating')\n",
        "plt.show()"
      ],
      "metadata": {
        "colab": {
          "base_uri": "https://localhost:8080/",
          "height": 481
        },
        "id": "2pay1z8scDZ2",
        "outputId": "95cd1273-faee-4311-ac2e-1e2e61556d00"
      },
      "execution_count": null,
      "outputs": [
        {
          "output_type": "display_data",
          "data": {
            "text/plain": [
              "<Figure size 640x480 with 1 Axes>"
            ],
            "image/png": "[encoded data removed]"
          },
          "metadata": {}
        }
      ]
    },
    {
      "cell_type": "code",
      "source": [
        "Udemy_df.query('num_reviews >20000 ')['num_reviews'].plot(kind='hist',bins=20,title='Number of reviews',color='orange')\n",
        "plt.xlabel('Reviews')\n",
        "plt.show()"
      ],
      "metadata": {
        "colab": {
          "base_uri": "https://localhost:8080/",
          "height": 481
        },
        "id": "aDDq_kR8cGmr",
        "outputId": "9c6f1bdb-2b9f-46e6-de4f-92a209f96200"
      },
      "execution_count": null,
      "outputs": [
        {
          "output_type": "display_data",
          "data": {
            "text/plain": [
              "<Figure size 640x480 with 1 Axes>"
            ],
            "image/png": "[encoded data removed]"
          },
          "metadata": {}
        }
      ]
    },
    {
      "cell_type": "code",
      "source": [
        "Udemy_df['num_published_lectures'].plot(kind='hist',bins=20,title='Lectures distribution',color='grey')\n",
        "plt.xlabel('Published_lectures')\n",
        "plt.show()"
      ],
      "metadata": {
        "colab": {
          "base_uri": "https://localhost:8080/",
          "height": 481
        },
        "id": "BbhQ8P_8cJtU",
        "outputId": "cde6c637-dd81-4e49-fed3-c8405a5066d7"
      },
      "execution_count": null,
      "outputs": [
        {
          "output_type": "display_data",
          "data": {
            "text/plain": [
              "<Figure size 640x480 with 1 Axes>"
            ],
            "image/png": "[encoded data removed]"
          },
          "metadata": {}
        }
      ]
    },
    {
      "cell_type": "code",
      "source": [
        "Top10_jobtitle=Udemy_df['job_title'].value_counts()[:10].reset_index().rename(columns={'index':'job_title','job_title':'Course_count'})\n",
        "\n",
        "sns.barplot(data=Top10_jobtitle,y='job_title',x='Course_count')\n",
        "plt.title('Top 10 Job Title')\n",
        "plt.ylabel('Job Title')\n",
        "plt.xlabel('Course_count')\n",
        "plt.show()"
      ],
      "metadata": {
        "colab": {
          "base_uri": "https://localhost:8080/",
          "height": 481
        },
        "id": "p3UvLMZecMol",
        "outputId": "cfec22c1-a74e-407c-8661-99eed6a6e996"
      },
      "execution_count": null,
      "outputs": [
        {
          "output_type": "display_data",
          "data": {
            "text/plain": [
              "<Figure size 640x480 with 1 Axes>"
            ],
            "image/png": "[encoded data removed]"
          },
          "metadata": {}
        }
      ]
    },
    {
      "cell_type": "code",
      "source": [
        "Top10_instructor=Udemy_df['name'].value_counts()[:10].reset_index().rename(columns={'index':'Name','name':'Course_count'})\n",
        "\n",
        "sns.barplot(data=Top10_instructor,y='Course_count',x='Name',palette='CMRmap')\n",
        "plt.title('Top 10 Instructor')\n",
        "plt.show()\n"
      ],
      "metadata": {
        "colab": {
          "base_uri": "https://localhost:8080/",
          "height": 481
        },
        "id": "Q6GBEPzHcPnR",
        "outputId": "539bcd46-53b7-4d0a-9431-6ba7872be5fe"
      },
      "execution_count": null,
      "outputs": [
        {
          "output_type": "display_data",
          "data": {
            "text/plain": [
              "<Figure size 640x480 with 1 Axes>"
            ],
            "image/png": "[encoded data removed]"
          },
          "metadata": {}
        }
      ]
    },
    {
      "cell_type": "code",
      "source": [
        "plt.figure(figsize=(10,5))\n",
        "createdyearby_courses=Udemy_df['created_year'].value_counts().reset_index()\\\n",
        "                                              .rename(columns={'index':'Created_year','created_year':'Courses'})\n",
        "\n",
        "sns.barplot(data=createdyearby_courses,x='Created_year',y='Courses')\n",
        "plt.title('Number of courses created by years')\n",
        "plt.show()"
      ],
      "metadata": {
        "colab": {
          "base_uri": "https://localhost:8080/",
          "height": 496
        },
        "id": "WeaHKUZWcTBQ",
        "outputId": "be941d49-b649-4d55-a94c-7e2f89f6ec9b"
      },
      "execution_count": null,
      "outputs": [
        {
          "output_type": "display_data",
          "data": {
            "text/plain": [
              "<Figure size 1000x500 with 1 Axes>"
            ],
            "image/png": "[encoded data removed]"
          },
          "metadata": {}
        }
      ]
    },
    {
      "cell_type": "code",
      "source": [
        "corr_df=Udemy_df[['rating', 'num_reviews', 'num_published_lectures', 'created',\n",
        "       'last_update_date', 'created_date', 'created_year']].corr()\n",
        "corr_df"
      ],
      "metadata": {
        "colab": {
          "base_uri": "https://localhost:8080/",
          "height": 229
        },
        "id": "seCUbh6VcWA0",
        "outputId": "04a51df9-97ba-4f91-bc29-d0d005dd5c8e"
      },
      "execution_count": null,
      "outputs": [
        {
          "output_type": "stream",
          "name": "stderr",
          "text": [
            "<ipython-input-130-43e011a491d1>:2: FutureWarning: The default value of numeric_only in DataFrame.corr is deprecated. In a future version, it will default to False. Select only valid columns or specify the value of numeric_only to silence this warning.\n",
            "  'last_update_date', 'created_date', 'created_year']].corr()\n"
          ]
        },
        {
          "output_type": "execute_result",
          "data": {
            "text/plain": [
              "                          rating  num_reviews  num_published_lectures  \\\n",
              "rating                  1.000000     0.044251                0.123975   \n",
              "num_reviews             0.044251     1.000000                0.195923   \n",
              "num_published_lectures  0.123975     0.195923                1.000000   \n",
              "created_year           -0.178108    -0.092895               -0.086827   \n",
              "\n",
              "                        created_year  \n",
              "rating                     -0.178108  \n",
              "num_reviews                -0.092895  \n",
              "num_published_lectures     -0.086827  \n",
              "created_year                1.000000  "
            ],
            "text/html": [
              "\n",
              "  <div id=\"df-504a0150-65a9-42da-aebd-4285abd3ba56\" class=\"colab-df-container\">\n",
              "    <div>\n",
              "<style scoped>\n",
              "    .dataframe tbody tr th:only-of-type {\n",
              "        vertical-align: middle;\n",
              "    }\n",
              "\n",
              "    .dataframe tbody tr th {\n",
              "        vertical-align: top;\n",
              "    }\n",
              "\n",
              "    .dataframe thead th {\n",
              "        text-align: right;\n",
              "    }\n",
              "</style>\n",
              "<table border=\"1\" class=\"dataframe\">\n",
              "  <thead>\n",
              "    <tr style=\"text-align: right;\">\n",
              "      <th></th>\n",
              "      <th>rating</th>\n",
              "      <th>num_reviews</th>\n",
              "      <th>num_published_lectures</th>\n",
              "      <th>created_year</th>\n",
              "    </tr>\n",
              "  </thead>\n",
              "  <tbody>\n",
              "    <tr>\n",
              "      <th>rating</th>\n",
              "      <td>1.000000</td>\n",
              "      <td>0.044251</td>\n",
              "      <td>0.123975</td>\n",
              "      <td>-0.178108</td>\n",
              "    </tr>\n",
              "    <tr>\n",
              "      <th>num_reviews</th>\n",
              "      <td>0.044251</td>\n",
              "      <td>1.000000</td>\n",
              "      <td>0.195923</td>\n",
              "      <td>-0.092895</td>\n",
              "    </tr>\n",
              "    <tr>\n",
              "      <th>num_published_lectures</th>\n",
              "      <td>0.123975</td>\n",
              "      <td>0.195923</td>\n",
              "      <td>1.000000</td>\n",
              "      <td>-0.086827</td>\n",
              "    </tr>\n",
              "    <tr>\n",
              "      <th>created_year</th>\n",
              "      <td>-0.178108</td>\n",
              "      <td>-0.092895</td>\n",
              "      <td>-0.086827</td>\n",
              "      <td>1.000000</td>\n",
              "    </tr>\n",
              "  </tbody>\n",
              "</table>\n",
              "</div>\n",
              "    <div class=\"colab-df-buttons\">\n",
              "\n",
              "  <div class=\"colab-df-container\">\n",
              "    <button class=\"colab-df-convert\" onclick=\"convertToInteractive('df-504a0150-65a9-42da-aebd-4285abd3ba56')\"\n",
              "            title=\"Convert this dataframe to an interactive table.\"\n",
              "            style=\"display:none;\">\n",
              "\n",
              "  <svg xmlns=\"http://www.w3.org/2000/svg\" height=\"24px\" viewBox=\"0 -960 960 960\">\n",
              "    <path d=\"M120-120v-720h720v720H120Zm60-500h600v-160H180v160Zm220 220h160v-160H400v160Zm0 220h160v-160H400v160ZM180-400h160v-160H180v160Zm440 0h160v-160H620v160ZM180-180h160v-160H180v160Zm440 0h160v-160H620v160Z\"/>\n",
              "  </svg>\n",
              "    </button>\n",
              "\n",
              "  <style>\n",
              "    .colab-df-container {\n",
              "      display:flex;\n",
              "      gap: 12px;\n",
              "    }\n",
              "\n",
              "    .colab-df-convert {\n",
              "      background-color: #E8F0FE;\n",
              "      border: none;\n",
              "      border-radius: 50%;\n",
              "      cursor: pointer;\n",
              "      display: none;\n",
              "      fill: #1967D2;\n",
              "      height: 32px;\n",
              "      padding: 0 0 0 0;\n",
              "      width: 32px;\n",
              "    }\n",
              "\n",
              "    .colab-df-convert:hover {\n",
              "      background-color: #E2EBFA;\n",
              "      box-shadow: 0px 1px 2px rgba(60, 64, 67, 0.3), 0px 1px 3px 1px rgba(60, 64, 67, 0.15);\n",
              "      fill: #174EA6;\n",
              "    }\n",
              "\n",
              "    .colab-df-buttons div {\n",
              "      margin-bottom: 4px;\n",
              "    }\n",
              "\n",
              "    [theme=dark] .colab-df-convert {\n",
              "      background-color: #3B4455;\n",
              "      fill: #D2E3FC;\n",
              "    }\n",
              "\n",
              "    [theme=dark] .colab-df-convert:hover {\n",
              "      background-color: #434B5C;\n",
              "      box-shadow: 0px 1px 3px 1px rgba(0, 0, 0, 0.15);\n",
              "      filter: drop-shadow(0px 1px 2px rgba(0, 0, 0, 0.3));\n",
              "      fill: #FFFFFF;\n",
              "    }\n",
              "  </style>\n",
              "\n",
              "    <script>\n",
              "      const buttonEl =\n",
              "        document.querySelector('#df-504a0150-65a9-42da-aebd-4285abd3ba56 button.colab-df-convert');\n",
              "      buttonEl.style.display =\n",
              "        google.colab.kernel.accessAllowed ? 'block' : 'none';\n",
              "\n",
              "      async function convertToInteractive(key) {\n",
              "        const element = document.querySelector('#df-504a0150-65a9-42da-aebd-4285abd3ba56');\n",
              "        const dataTable =\n",
              "          await google.colab.kernel.invokeFunction('convertToInteractive',\n",
              "                                                    [key], {});\n",
              "        if (!dataTable) return;\n",
              "\n",
              "        const docLinkHtml = 'Like what you see? Visit the ' +\n",
              "          '<a target=\"_blank\" href=https://colab.research.google.com/notebooks/data_table.ipynb>data table notebook</a>'\n",
              "          + ' to learn more about interactive tables.';\n",
              "        element.innerHTML = '';\n",
              "        dataTable['output_type'] = 'display_data';\n",
              "        await google.colab.output.renderOutput(dataTable, element);\n",
              "        const docLink = document.createElement('div');\n",
              "        docLink.innerHTML = docLinkHtml;\n",
              "        element.appendChild(docLink);\n",
              "      }\n",
              "    </script>\n",
              "  </div>\n",
              "\n",
              "\n",
              "<div id=\"df-b10cd6e4-a6ee-4fc2-9dbc-d4cea0bc6165\">\n",
              "  <button class=\"colab-df-quickchart\" onclick=\"quickchart('df-b10cd6e4-a6ee-4fc2-9dbc-d4cea0bc6165')\"\n",
              "            title=\"Suggest charts.\"\n",
              "            style=\"display:none;\">\n",
              "\n",
              "<svg xmlns=\"http://www.w3.org/2000/svg\" height=\"24px\"viewBox=\"0 0 24 24\"\n",
              "     width=\"24px\">\n",
              "    <g>\n",
              "        <path d=\"M19 3H5c-1.1 0-2 .9-2 2v14c0 1.1.9 2 2 2h14c1.1 0 2-.9 2-2V5c0-1.1-.9-2-2-2zM9 17H7v-7h2v7zm4 0h-2V7h2v10zm4 0h-2v-4h2v4z\"/>\n",
              "    </g>\n",
              "</svg>\n",
              "  </button>\n",
              "\n",
              "<style>\n",
              "  .colab-df-quickchart {\n",
              "    background-color: #E8F0FE;\n",
              "    border: none;\n",
              "    border-radius: 50%;\n",
              "    cursor: pointer;\n",
              "    display: none;\n",
              "    fill: #1967D2;\n",
              "    height: 32px;\n",
              "    padding: 0 0 0 0;\n",
              "    width: 32px;\n",
              "  }\n",
              "\n",
              "  .colab-df-quickchart:hover {\n",
              "    background-color: #E2EBFA;\n",
              "    box-shadow: 0px 1px 2px rgba(60, 64, 67, 0.3), 0px 1px 3px 1px rgba(60, 64, 67, 0.15);\n",
              "    fill: #174EA6;\n",
              "  }\n",
              "\n",
              "  [theme=dark] .colab-df-quickchart {\n",
              "    background-color: #3B4455;\n",
              "    fill: #D2E3FC;\n",
              "  }\n",
              "\n",
              "  [theme=dark] .colab-df-quickchart:hover {\n",
              "    background-color: #434B5C;\n",
              "    box-shadow: 0px 1px 3px 1px rgba(0, 0, 0, 0.15);\n",
              "    filter: drop-shadow(0px 1px 2px rgba(0, 0, 0, 0.3));\n",
              "    fill: #FFFFFF;\n",
              "  }\n",
              "</style>\n",
              "\n",
              "  <script>\n",
              "    async function quickchart(key) {\n",
              "      const charts = await google.colab.kernel.invokeFunction(\n",
              "          'suggestCharts', [key], {});\n",
              "    }\n",
              "    (() => {\n",
              "      let quickchartButtonEl =\n",
              "        document.querySelector('#df-b10cd6e4-a6ee-4fc2-9dbc-d4cea0bc6165 button');\n",
              "      quickchartButtonEl.style.display =\n",
              "        google.colab.kernel.accessAllowed ? 'block' : 'none';\n",
              "    })();\n",
              "  </script>\n",
              "</div>\n",
              "    </div>\n",
              "  </div>\n"
            ]
          },
          "metadata": {},
          "execution_count": 130
        }
      ]
    },
    {
      "cell_type": "code",
      "source": [
        "sns.heatmap(data=corr_df,annot=True)\n",
        "plt.show()"
      ],
      "metadata": {
        "colab": {
          "base_uri": "https://localhost:8080/",
          "height": 624
        },
        "id": "dAHMtGF9cbdC",
        "outputId": "6931e9a0-d4c2-4d9d-a892-d07e1a72ee3b"
      },
      "execution_count": null,
      "outputs": [
        {
          "output_type": "display_data",
          "data": {
            "text/plain": [
              "<Figure size 640x480 with 2 Axes>"
            ],
            "image/png": "[encoded data removed]"
          },
          "metadata": {}
        }
      ]
    },
    {
      "cell_type": "code",
      "source": [
        "Mostpopularcourses=Udemy_df.groupby(['courses'])[['rating','num_reviews']]\\\n",
        "                           .max()\\\n",
        "                           .sort_values(by='num_reviews',ascending=False)[:20]\n",
        "Mostpopularcourses.style.background_gradient(cmap='viridis')"
      ],
      "metadata": {
        "colab": {
          "base_uri": "https://localhost:8080/",
          "height": 708
        },
        "id": "SfjZ9MZCce8N",
        "outputId": "6c89b9bc-7448-4199-d323-4c9b33741cd9"
      },
      "execution_count": null,
      "outputs": [
        {
          "output_type": "execute_result",
          "data": {
            "text/plain": [
              "<pandas.io.formats.style.Styler at 0x7fd2ee43eb90>"
            ],
            "text/html": [
              "<style type=\"text/css\">\n",
              "#T_1cdc6_row0_col0, #T_1cdc6_row4_col0, #T_1cdc6_row6_col0, #T_1cdc6_row7_col0, #T_1cdc6_row14_col0, #T_1cdc6_row15_col0, #T_1cdc6_row16_col0, #T_1cdc6_row17_col0 {\n",
              "  background-color: #21908d;\n",
              "  color: #f1f1f1;\n",
              "}\n",
              "#T_1cdc6_row0_col1, #T_1cdc6_row1_col0, #T_1cdc6_row2_col0, #T_1cdc6_row3_col0, #T_1cdc6_row5_col0, #T_1cdc6_row8_col0, #T_1cdc6_row9_col0, #T_1cdc6_row11_col0, #T_1cdc6_row13_col0, #T_1cdc6_row18_col0, #T_1cdc6_row19_col0 {\n",
              "  background-color: #fde725;\n",
              "  color: #000000;\n",
              "}\n",
              "#T_1cdc6_row1_col1 {\n",
              "  background-color: #54c568;\n",
              "  color: #000000;\n",
              "}\n",
              "#T_1cdc6_row2_col1 {\n",
              "  background-color: #23888e;\n",
              "  color: #f1f1f1;\n",
              "}\n",
              "#T_1cdc6_row3_col1 {\n",
              "  background-color: #26828e;\n",
              "  color: #f1f1f1;\n",
              "}\n",
              "#T_1cdc6_row4_col1 {\n",
              "  background-color: #3d4d8a;\n",
              "  color: #f1f1f1;\n",
              "}\n",
              "#T_1cdc6_row5_col1, #T_1cdc6_row6_col1 {\n",
              "  background-color: #3e4a89;\n",
              "  color: #f1f1f1;\n",
              "}\n",
              "#T_1cdc6_row7_col1 {\n",
              "  background-color: #3e4989;\n",
              "  color: #f1f1f1;\n",
              "}\n",
              "#T_1cdc6_row8_col1, #T_1cdc6_row9_col1 {\n",
              "  background-color: #414287;\n",
              "  color: #f1f1f1;\n",
              "}\n",
              "#T_1cdc6_row10_col0, #T_1cdc6_row12_col0, #T_1cdc6_row19_col1 {\n",
              "  background-color: #440154;\n",
              "  color: #f1f1f1;\n",
              "}\n",
              "#T_1cdc6_row10_col1 {\n",
              "  background-color: #424186;\n",
              "  color: #f1f1f1;\n",
              "}\n",
              "#T_1cdc6_row11_col1 {\n",
              "  background-color: #433e85;\n",
              "  color: #f1f1f1;\n",
              "}\n",
              "#T_1cdc6_row12_col1 {\n",
              "  background-color: #443b84;\n",
              "  color: #f1f1f1;\n",
              "}\n",
              "#T_1cdc6_row13_col1 {\n",
              "  background-color: #482173;\n",
              "  color: #f1f1f1;\n",
              "}\n",
              "#T_1cdc6_row14_col1 {\n",
              "  background-color: #481f70;\n",
              "  color: #f1f1f1;\n",
              "}\n",
              "#T_1cdc6_row15_col1 {\n",
              "  background-color: #481769;\n",
              "  color: #f1f1f1;\n",
              "}\n",
              "#T_1cdc6_row16_col1 {\n",
              "  background-color: #481467;\n",
              "  color: #f1f1f1;\n",
              "}\n",
              "#T_1cdc6_row17_col1 {\n",
              "  background-color: #471063;\n",
              "  color: #f1f1f1;\n",
              "}\n",
              "#T_1cdc6_row18_col1 {\n",
              "  background-color: #46085c;\n",
              "  color: #f1f1f1;\n",
              "}\n",
              "</style>\n",
              "<table id=\"T_1cdc6\" class=\"dataframe\">\n",
              "  <thead>\n",
              "    <tr>\n",
              "      <th class=\"blank level0\" >&nbsp;</th>\n",
              "      <th id=\"T_1cdc6_level0_col0\" class=\"col_heading level0 col0\" >rating</th>\n",
              "      <th id=\"T_1cdc6_level0_col1\" class=\"col_heading level0 col1\" >num_reviews</th>\n",
              "    </tr>\n",
              "    <tr>\n",
              "      <th class=\"index_name level0\" >courses</th>\n",
              "      <th class=\"blank col0\" >&nbsp;</th>\n",
              "      <th class=\"blank col1\" >&nbsp;</th>\n",
              "    </tr>\n",
              "  </thead>\n",
              "  <tbody>\n",
              "    <tr>\n",
              "      <th id=\"T_1cdc6_level0_row0\" class=\"row_heading level0 row0\" >The Complete Python Bootcamp From Zero to Hero in Python</th>\n",
              "      <td id=\"T_1cdc6_row0_col0\" class=\"data row0 col0\" >4.600000</td>\n",
              "      <td id=\"T_1cdc6_row0_col1\" class=\"data row0 col1\" >452973</td>\n",
              "    </tr>\n",
              "    <tr>\n",
              "      <th id=\"T_1cdc6_level0_row1\" class=\"row_heading level0 row1\" >Microsoft Excel - Excel from Beginner to Advanced</th>\n",
              "      <td id=\"T_1cdc6_row1_col0\" class=\"data row1 col0\" >4.700000</td>\n",
              "      <td id=\"T_1cdc6_row1_col1\" class=\"data row1 col1\" >357442</td>\n",
              "    </tr>\n",
              "    <tr>\n",
              "      <th id=\"T_1cdc6_level0_row2\" class=\"row_heading level0 row2\" >The Complete 2023 Web Development Bootcamp</th>\n",
              "      <td id=\"T_1cdc6_row2_col0\" class=\"data row2 col0\" >4.700000</td>\n",
              "      <td id=\"T_1cdc6_row2_col1\" class=\"data row2 col1\" >263152</td>\n",
              "    </tr>\n",
              "    <tr>\n",
              "      <th id=\"T_1cdc6_level0_row3\" class=\"row_heading level0 row3\" >The Web Developer Bootcamp 2023</th>\n",
              "      <td id=\"T_1cdc6_row3_col0\" class=\"data row3 col0\" >4.700000</td>\n",
              "      <td id=\"T_1cdc6_row3_col1\" class=\"data row3 col1\" >254711</td>\n",
              "    </tr>\n",
              "    <tr>\n",
              "      <th id=\"T_1cdc6_level0_row4\" class=\"row_heading level0 row4\" >Angular - The Complete Guide (2023 Edition)</th>\n",
              "      <td id=\"T_1cdc6_row4_col0\" class=\"data row4 col0\" >4.600000</td>\n",
              "      <td id=\"T_1cdc6_row4_col1\" class=\"data row4 col1\" >180257</td>\n",
              "    </tr>\n",
              "    <tr>\n",
              "      <th id=\"T_1cdc6_level0_row5\" class=\"row_heading level0 row5\" >100 Days of Code: The Complete Python Pro Bootcamp for 2023</th>\n",
              "      <td id=\"T_1cdc6_row5_col0\" class=\"data row5 col0\" >4.700000</td>\n",
              "      <td id=\"T_1cdc6_row5_col1\" class=\"data row5 col1\" >177568</td>\n",
              "    </tr>\n",
              "    <tr>\n",
              "      <th id=\"T_1cdc6_level0_row6\" class=\"row_heading level0 row6\" >Java Programming Masterclass updated to Java 17</th>\n",
              "      <td id=\"T_1cdc6_row6_col0\" class=\"data row6 col0\" >4.600000</td>\n",
              "      <td id=\"T_1cdc6_row6_col1\" class=\"data row6 col1\" >177184</td>\n",
              "    </tr>\n",
              "    <tr>\n",
              "      <th id=\"T_1cdc6_level0_row7\" class=\"row_heading level0 row7\" >React - The Complete Guide (incl Hooks, React Router, Redux)</th>\n",
              "      <td id=\"T_1cdc6_row7_col0\" class=\"data row7 col0\" >4.600000</td>\n",
              "      <td id=\"T_1cdc6_row7_col1\" class=\"data row7 col1\" >176452</td>\n",
              "    </tr>\n",
              "    <tr>\n",
              "      <th id=\"T_1cdc6_level0_row8\" class=\"row_heading level0 row8\" >Ultimate AWS Certified Solutions Architect Associate SAA-C03</th>\n",
              "      <td id=\"T_1cdc6_row8_col0\" class=\"data row8 col0\" >4.700000</td>\n",
              "      <td id=\"T_1cdc6_row8_col1\" class=\"data row8 col1\" >168032</td>\n",
              "    </tr>\n",
              "    <tr>\n",
              "      <th id=\"T_1cdc6_level0_row9\" class=\"row_heading level0 row9\" >The Complete JavaScript Course 2023: From Zero to Expert!</th>\n",
              "      <td id=\"T_1cdc6_row9_col0\" class=\"data row9 col0\" >4.700000</td>\n",
              "      <td id=\"T_1cdc6_row9_col1\" class=\"data row9 col1\" >167670</td>\n",
              "    </tr>\n",
              "    <tr>\n",
              "      <th id=\"T_1cdc6_level0_row10\" class=\"row_heading level0 row10\" >Machine Learning A-Z™: Python & R in Data Science [2023]</th>\n",
              "      <td id=\"T_1cdc6_row10_col0\" class=\"data row10 col0\" >4.500000</td>\n",
              "      <td id=\"T_1cdc6_row10_col1\" class=\"data row10 col1\" >166138</td>\n",
              "    </tr>\n",
              "    <tr>\n",
              "      <th id=\"T_1cdc6_level0_row11\" class=\"row_heading level0 row11\" >The Complete SQL Bootcamp: Go from Zero to Hero</th>\n",
              "      <td id=\"T_1cdc6_row11_col0\" class=\"data row11 col0\" >4.700000</td>\n",
              "      <td id=\"T_1cdc6_row11_col1\" class=\"data row11 col1\" >162903</td>\n",
              "    </tr>\n",
              "    <tr>\n",
              "      <th id=\"T_1cdc6_level0_row12\" class=\"row_heading level0 row12\" >The Complete Digital Marketing Course - 12 Courses in 1</th>\n",
              "      <td id=\"T_1cdc6_row12_col0\" class=\"data row12 col0\" >4.500000</td>\n",
              "      <td id=\"T_1cdc6_row12_col1\" class=\"data row12 col1\" >160133</td>\n",
              "    </tr>\n",
              "    <tr>\n",
              "      <th id=\"T_1cdc6_level0_row13\" class=\"row_heading level0 row13\" >[NEW] Ultimate AWS Certified Cloud Practitioner - 2023</th>\n",
              "      <td id=\"T_1cdc6_row13_col0\" class=\"data row13 col0\" >4.700000</td>\n",
              "      <td id=\"T_1cdc6_row13_col1\" class=\"data row13 col1\" >130312</td>\n",
              "    </tr>\n",
              "    <tr>\n",
              "      <th id=\"T_1cdc6_level0_row14\" class=\"row_heading level0 row14\" >Python for Data Science and Machine Learning Bootcamp</th>\n",
              "      <td id=\"T_1cdc6_row14_col0\" class=\"data row14 col0\" >4.600000</td>\n",
              "      <td id=\"T_1cdc6_row14_col1\" class=\"data row14 col1\" >126984</td>\n",
              "    </tr>\n",
              "    <tr>\n",
              "      <th id=\"T_1cdc6_level0_row15\" class=\"row_heading level0 row15\" >The Data Science Course 2023: Complete Data Science Bootcamp</th>\n",
              "      <td id=\"T_1cdc6_row15_col0\" class=\"data row15 col0\" >4.600000</td>\n",
              "      <td id=\"T_1cdc6_row15_col1\" class=\"data row15 col1\" >119504</td>\n",
              "    </tr>\n",
              "    <tr>\n",
              "      <th id=\"T_1cdc6_level0_row16\" class=\"row_heading level0 row16\" >The Ultimate Drawing Course - Beginner to Advanced</th>\n",
              "      <td id=\"T_1cdc6_row16_col0\" class=\"data row16 col0\" >4.600000</td>\n",
              "      <td id=\"T_1cdc6_row16_col1\" class=\"data row16 col1\" >117185</td>\n",
              "    </tr>\n",
              "    <tr>\n",
              "      <th id=\"T_1cdc6_level0_row17\" class=\"row_heading level0 row17\" >Learn Ethical Hacking From Scratch</th>\n",
              "      <td id=\"T_1cdc6_row17_col0\" class=\"data row17 col0\" >4.600000</td>\n",
              "      <td id=\"T_1cdc6_row17_col1\" class=\"data row17 col1\" >112354</td>\n",
              "    </tr>\n",
              "    <tr>\n",
              "      <th id=\"T_1cdc6_level0_row18\" class=\"row_heading level0 row18\" >Automate the Boring Stuff with Python Programming</th>\n",
              "      <td id=\"T_1cdc6_row18_col0\" class=\"data row18 col0\" >4.700000</td>\n",
              "      <td id=\"T_1cdc6_row18_col1\" class=\"data row18 col1\" >105532</td>\n",
              "    </tr>\n",
              "    <tr>\n",
              "      <th id=\"T_1cdc6_level0_row19\" class=\"row_heading level0 row19\" >Complete C# Unity Game Developer 2D</th>\n",
              "      <td id=\"T_1cdc6_row19_col0\" class=\"data row19 col0\" >4.700000</td>\n",
              "      <td id=\"T_1cdc6_row19_col1\" class=\"data row19 col1\" >97785</td>\n",
              "    </tr>\n",
              "  </tbody>\n",
              "</table>\n"
            ]
          },
          "metadata": {},
          "execution_count": 132
        }
      ]
    },
    {
      "cell_type": "code",
      "source": [
        "MostPopulerInstuctor=Udemy_df.groupby(['full_name','courses'])[['rating','num_reviews']]\\\n",
        "                             .max()\\\n",
        "                             .sort_values(by='num_reviews',ascending=False)[:20]\n",
        "\n",
        "MostPopulerInstuctor.style.background_gradient(cmap='viridis')"
      ],
      "metadata": {
        "colab": {
          "base_uri": "https://localhost:8080/",
          "height": 812
        },
        "id": "_ek2DyOucirD",
        "outputId": "0133ad73-98b9-479f-cae0-5e9023ea219e"
      },
      "execution_count": null,
      "outputs": [
        {
          "output_type": "execute_result",
          "data": {
            "text/plain": [
              "<pandas.io.formats.style.Styler at 0x7fd2ee43e110>"
            ],
            "text/html": [
              "<style type=\"text/css\">\n",
              "#T_bf22b_row0_col0, #T_bf22b_row4_col0, #T_bf22b_row6_col0, #T_bf22b_row7_col0, #T_bf22b_row14_col0, #T_bf22b_row15_col0, #T_bf22b_row16_col0, #T_bf22b_row17_col0 {\n",
              "  background-color: #21908d;\n",
              "  color: #f1f1f1;\n",
              "}\n",
              "#T_bf22b_row0_col1, #T_bf22b_row1_col0, #T_bf22b_row2_col0, #T_bf22b_row3_col0, #T_bf22b_row5_col0, #T_bf22b_row8_col0, #T_bf22b_row9_col0, #T_bf22b_row11_col0, #T_bf22b_row13_col0, #T_bf22b_row18_col0, #T_bf22b_row19_col0 {\n",
              "  background-color: #fde725;\n",
              "  color: #000000;\n",
              "}\n",
              "#T_bf22b_row1_col1 {\n",
              "  background-color: #54c568;\n",
              "  color: #000000;\n",
              "}\n",
              "#T_bf22b_row2_col1 {\n",
              "  background-color: #23888e;\n",
              "  color: #f1f1f1;\n",
              "}\n",
              "#T_bf22b_row3_col1 {\n",
              "  background-color: #26828e;\n",
              "  color: #f1f1f1;\n",
              "}\n",
              "#T_bf22b_row4_col1 {\n",
              "  background-color: #3d4d8a;\n",
              "  color: #f1f1f1;\n",
              "}\n",
              "#T_bf22b_row5_col1, #T_bf22b_row6_col1 {\n",
              "  background-color: #3e4a89;\n",
              "  color: #f1f1f1;\n",
              "}\n",
              "#T_bf22b_row7_col1 {\n",
              "  background-color: #3e4989;\n",
              "  color: #f1f1f1;\n",
              "}\n",
              "#T_bf22b_row8_col1, #T_bf22b_row9_col1 {\n",
              "  background-color: #414287;\n",
              "  color: #f1f1f1;\n",
              "}\n",
              "#T_bf22b_row10_col0, #T_bf22b_row12_col0, #T_bf22b_row19_col1 {\n",
              "  background-color: #440154;\n",
              "  color: #f1f1f1;\n",
              "}\n",
              "#T_bf22b_row10_col1 {\n",
              "  background-color: #424186;\n",
              "  color: #f1f1f1;\n",
              "}\n",
              "#T_bf22b_row11_col1 {\n",
              "  background-color: #433e85;\n",
              "  color: #f1f1f1;\n",
              "}\n",
              "#T_bf22b_row12_col1 {\n",
              "  background-color: #443b84;\n",
              "  color: #f1f1f1;\n",
              "}\n",
              "#T_bf22b_row13_col1 {\n",
              "  background-color: #482173;\n",
              "  color: #f1f1f1;\n",
              "}\n",
              "#T_bf22b_row14_col1 {\n",
              "  background-color: #481f70;\n",
              "  color: #f1f1f1;\n",
              "}\n",
              "#T_bf22b_row15_col1 {\n",
              "  background-color: #481769;\n",
              "  color: #f1f1f1;\n",
              "}\n",
              "#T_bf22b_row16_col1 {\n",
              "  background-color: #481467;\n",
              "  color: #f1f1f1;\n",
              "}\n",
              "#T_bf22b_row17_col1 {\n",
              "  background-color: #471063;\n",
              "  color: #f1f1f1;\n",
              "}\n",
              "#T_bf22b_row18_col1 {\n",
              "  background-color: #46085c;\n",
              "  color: #f1f1f1;\n",
              "}\n",
              "</style>\n",
              "<table id=\"T_bf22b\" class=\"dataframe\">\n",
              "  <thead>\n",
              "    <tr>\n",
              "      <th class=\"blank\" >&nbsp;</th>\n",
              "      <th class=\"blank level0\" >&nbsp;</th>\n",
              "      <th id=\"T_bf22b_level0_col0\" class=\"col_heading level0 col0\" >rating</th>\n",
              "      <th id=\"T_bf22b_level0_col1\" class=\"col_heading level0 col1\" >num_reviews</th>\n",
              "    </tr>\n",
              "    <tr>\n",
              "      <th class=\"index_name level0\" >full_name</th>\n",
              "      <th class=\"index_name level1\" >courses</th>\n",
              "      <th class=\"blank col0\" >&nbsp;</th>\n",
              "      <th class=\"blank col1\" >&nbsp;</th>\n",
              "    </tr>\n",
              "  </thead>\n",
              "  <tbody>\n",
              "    <tr>\n",
              "      <th id=\"T_bf22b_level0_row0\" class=\"row_heading level0 row0\" >Jose Portilla</th>\n",
              "      <th id=\"T_bf22b_level1_row0\" class=\"row_heading level1 row0\" >The Complete Python Bootcamp From Zero to Hero in Python</th>\n",
              "      <td id=\"T_bf22b_row0_col0\" class=\"data row0 col0\" >4.600000</td>\n",
              "      <td id=\"T_bf22b_row0_col1\" class=\"data row0 col1\" >452973</td>\n",
              "    </tr>\n",
              "    <tr>\n",
              "      <th id=\"T_bf22b_level0_row1\" class=\"row_heading level0 row1\" >Kyle Pew</th>\n",
              "      <th id=\"T_bf22b_level1_row1\" class=\"row_heading level1 row1\" >Microsoft Excel - Excel from Beginner to Advanced</th>\n",
              "      <td id=\"T_bf22b_row1_col0\" class=\"data row1 col0\" >4.700000</td>\n",
              "      <td id=\"T_bf22b_row1_col1\" class=\"data row1 col1\" >357442</td>\n",
              "    </tr>\n",
              "    <tr>\n",
              "      <th id=\"T_bf22b_level0_row2\" class=\"row_heading level0 row2\" >Dr. Angela Yu</th>\n",
              "      <th id=\"T_bf22b_level1_row2\" class=\"row_heading level1 row2\" >The Complete 2023 Web Development Bootcamp</th>\n",
              "      <td id=\"T_bf22b_row2_col0\" class=\"data row2 col0\" >4.700000</td>\n",
              "      <td id=\"T_bf22b_row2_col1\" class=\"data row2 col1\" >263152</td>\n",
              "    </tr>\n",
              "    <tr>\n",
              "      <th id=\"T_bf22b_level0_row3\" class=\"row_heading level0 row3\" >Colt Steele</th>\n",
              "      <th id=\"T_bf22b_level1_row3\" class=\"row_heading level1 row3\" >The Web Developer Bootcamp 2023</th>\n",
              "      <td id=\"T_bf22b_row3_col0\" class=\"data row3 col0\" >4.700000</td>\n",
              "      <td id=\"T_bf22b_row3_col1\" class=\"data row3 col1\" >254711</td>\n",
              "    </tr>\n",
              "    <tr>\n",
              "      <th id=\"T_bf22b_level0_row4\" class=\"row_heading level0 row4\" >Maximilian Schwarzmüller</th>\n",
              "      <th id=\"T_bf22b_level1_row4\" class=\"row_heading level1 row4\" >Angular - The Complete Guide (2023 Edition)</th>\n",
              "      <td id=\"T_bf22b_row4_col0\" class=\"data row4 col0\" >4.600000</td>\n",
              "      <td id=\"T_bf22b_row4_col1\" class=\"data row4 col1\" >180257</td>\n",
              "    </tr>\n",
              "    <tr>\n",
              "      <th id=\"T_bf22b_level0_row5\" class=\"row_heading level0 row5\" >Dr. Angela Yu</th>\n",
              "      <th id=\"T_bf22b_level1_row5\" class=\"row_heading level1 row5\" >100 Days of Code: The Complete Python Pro Bootcamp for 2023</th>\n",
              "      <td id=\"T_bf22b_row5_col0\" class=\"data row5 col0\" >4.700000</td>\n",
              "      <td id=\"T_bf22b_row5_col1\" class=\"data row5 col1\" >177568</td>\n",
              "    </tr>\n",
              "    <tr>\n",
              "      <th id=\"T_bf22b_level0_row6\" class=\"row_heading level0 row6\" >Tim Buchalka</th>\n",
              "      <th id=\"T_bf22b_level1_row6\" class=\"row_heading level1 row6\" >Java Programming Masterclass updated to Java 17</th>\n",
              "      <td id=\"T_bf22b_row6_col0\" class=\"data row6 col0\" >4.600000</td>\n",
              "      <td id=\"T_bf22b_row6_col1\" class=\"data row6 col1\" >177184</td>\n",
              "    </tr>\n",
              "    <tr>\n",
              "      <th id=\"T_bf22b_level0_row7\" class=\"row_heading level0 row7\" >Academind by Maximilian Schwarzmüller</th>\n",
              "      <th id=\"T_bf22b_level1_row7\" class=\"row_heading level1 row7\" >React - The Complete Guide (incl Hooks, React Router, Redux)</th>\n",
              "      <td id=\"T_bf22b_row7_col0\" class=\"data row7 col0\" >4.600000</td>\n",
              "      <td id=\"T_bf22b_row7_col1\" class=\"data row7 col1\" >176452</td>\n",
              "    </tr>\n",
              "    <tr>\n",
              "      <th id=\"T_bf22b_level0_row8\" class=\"row_heading level0 row8\" >Stephane Maarek | AWS Certified Cloud Practitioner,Solutions Architect,Developer</th>\n",
              "      <th id=\"T_bf22b_level1_row8\" class=\"row_heading level1 row8\" >Ultimate AWS Certified Solutions Architect Associate SAA-C03</th>\n",
              "      <td id=\"T_bf22b_row8_col0\" class=\"data row8 col0\" >4.700000</td>\n",
              "      <td id=\"T_bf22b_row8_col1\" class=\"data row8 col1\" >168032</td>\n",
              "    </tr>\n",
              "    <tr>\n",
              "      <th id=\"T_bf22b_level0_row9\" class=\"row_heading level0 row9\" >Jonas Schmedtmann</th>\n",
              "      <th id=\"T_bf22b_level1_row9\" class=\"row_heading level1 row9\" >The Complete JavaScript Course 2023: From Zero to Expert!</th>\n",
              "      <td id=\"T_bf22b_row9_col0\" class=\"data row9 col0\" >4.700000</td>\n",
              "      <td id=\"T_bf22b_row9_col1\" class=\"data row9 col1\" >167670</td>\n",
              "    </tr>\n",
              "    <tr>\n",
              "      <th id=\"T_bf22b_level0_row10\" class=\"row_heading level0 row10\" >Kirill Eremenko</th>\n",
              "      <th id=\"T_bf22b_level1_row10\" class=\"row_heading level1 row10\" >Machine Learning A-Z™: Python & R in Data Science [2023]</th>\n",
              "      <td id=\"T_bf22b_row10_col0\" class=\"data row10 col0\" >4.500000</td>\n",
              "      <td id=\"T_bf22b_row10_col1\" class=\"data row10 col1\" >166138</td>\n",
              "    </tr>\n",
              "    <tr>\n",
              "      <th id=\"T_bf22b_level0_row11\" class=\"row_heading level0 row11\" >Jose Portilla</th>\n",
              "      <th id=\"T_bf22b_level1_row11\" class=\"row_heading level1 row11\" >The Complete SQL Bootcamp: Go from Zero to Hero</th>\n",
              "      <td id=\"T_bf22b_row11_col0\" class=\"data row11 col0\" >4.700000</td>\n",
              "      <td id=\"T_bf22b_row11_col1\" class=\"data row11 col1\" >162903</td>\n",
              "    </tr>\n",
              "    <tr>\n",
              "      <th id=\"T_bf22b_level0_row12\" class=\"row_heading level0 row12\" >Rob Percival</th>\n",
              "      <th id=\"T_bf22b_level1_row12\" class=\"row_heading level1 row12\" >The Complete Digital Marketing Course - 12 Courses in 1</th>\n",
              "      <td id=\"T_bf22b_row12_col0\" class=\"data row12 col0\" >4.500000</td>\n",
              "      <td id=\"T_bf22b_row12_col1\" class=\"data row12 col1\" >160133</td>\n",
              "    </tr>\n",
              "    <tr>\n",
              "      <th id=\"T_bf22b_level0_row13\" class=\"row_heading level0 row13\" >Stephane Maarek | AWS Certified Cloud Practitioner,Solutions Architect,Developer</th>\n",
              "      <th id=\"T_bf22b_level1_row13\" class=\"row_heading level1 row13\" >[NEW] Ultimate AWS Certified Cloud Practitioner - 2023</th>\n",
              "      <td id=\"T_bf22b_row13_col0\" class=\"data row13 col0\" >4.700000</td>\n",
              "      <td id=\"T_bf22b_row13_col1\" class=\"data row13 col1\" >130312</td>\n",
              "    </tr>\n",
              "    <tr>\n",
              "      <th id=\"T_bf22b_level0_row14\" class=\"row_heading level0 row14\" >Jose Portilla</th>\n",
              "      <th id=\"T_bf22b_level1_row14\" class=\"row_heading level1 row14\" >Python for Data Science and Machine Learning Bootcamp</th>\n",
              "      <td id=\"T_bf22b_row14_col0\" class=\"data row14 col0\" >4.600000</td>\n",
              "      <td id=\"T_bf22b_row14_col1\" class=\"data row14 col1\" >126984</td>\n",
              "    </tr>\n",
              "    <tr>\n",
              "      <th id=\"T_bf22b_level0_row15\" class=\"row_heading level0 row15\" >365 Careers</th>\n",
              "      <th id=\"T_bf22b_level1_row15\" class=\"row_heading level1 row15\" >The Data Science Course 2023: Complete Data Science Bootcamp</th>\n",
              "      <td id=\"T_bf22b_row15_col0\" class=\"data row15 col0\" >4.600000</td>\n",
              "      <td id=\"T_bf22b_row15_col1\" class=\"data row15 col1\" >119504</td>\n",
              "    </tr>\n",
              "    <tr>\n",
              "      <th id=\"T_bf22b_level0_row16\" class=\"row_heading level0 row16\" >Jaysen Batchelor</th>\n",
              "      <th id=\"T_bf22b_level1_row16\" class=\"row_heading level1 row16\" >The Ultimate Drawing Course - Beginner to Advanced</th>\n",
              "      <td id=\"T_bf22b_row16_col0\" class=\"data row16 col0\" >4.600000</td>\n",
              "      <td id=\"T_bf22b_row16_col1\" class=\"data row16 col1\" >117185</td>\n",
              "    </tr>\n",
              "    <tr>\n",
              "      <th id=\"T_bf22b_level0_row17\" class=\"row_heading level0 row17\" >Zaid Sabih</th>\n",
              "      <th id=\"T_bf22b_level1_row17\" class=\"row_heading level1 row17\" >Learn Ethical Hacking From Scratch</th>\n",
              "      <td id=\"T_bf22b_row17_col0\" class=\"data row17 col0\" >4.600000</td>\n",
              "      <td id=\"T_bf22b_row17_col1\" class=\"data row17 col1\" >112354</td>\n",
              "    </tr>\n",
              "    <tr>\n",
              "      <th id=\"T_bf22b_level0_row18\" class=\"row_heading level0 row18\" >Al Sweigart</th>\n",
              "      <th id=\"T_bf22b_level1_row18\" class=\"row_heading level1 row18\" >Automate the Boring Stuff with Python Programming</th>\n",
              "      <td id=\"T_bf22b_row18_col0\" class=\"data row18 col0\" >4.700000</td>\n",
              "      <td id=\"T_bf22b_row18_col1\" class=\"data row18 col1\" >105532</td>\n",
              "    </tr>\n",
              "    <tr>\n",
              "      <th id=\"T_bf22b_level0_row19\" class=\"row_heading level0 row19\" >GameDev.tv Team</th>\n",
              "      <th id=\"T_bf22b_level1_row19\" class=\"row_heading level1 row19\" >Complete C# Unity Game Developer 2D</th>\n",
              "      <td id=\"T_bf22b_row19_col0\" class=\"data row19 col0\" >4.700000</td>\n",
              "      <td id=\"T_bf22b_row19_col1\" class=\"data row19 col1\" >97785</td>\n",
              "    </tr>\n",
              "  </tbody>\n",
              "</table>\n"
            ]
          },
          "metadata": {},
          "execution_count": 133
        }
      ]
    },
    {
      "cell_type": "code",
      "source": [
        "coursespopularbyinstructor=Udemy_df.groupby('courses')[['full_name','rating','num_reviews','num_published_lectures']]\\\n",
        "                                   .max()\\\n",
        "                                   .sort_values(['rating','num_reviews'],ascending=False)[:20]\n",
        "coursespopularbyinstructor.style.background_gradient(cmap='viridis')"
      ],
      "metadata": {
        "colab": {
          "base_uri": "https://localhost:8080/",
          "height": 708
        },
        "id": "Qa1f6OE6cmKJ",
        "outputId": "837727bb-3f1e-4dbf-ff25-2c4dc9d13c84"
      },
      "execution_count": null,
      "outputs": [
        {
          "output_type": "execute_result",
          "data": {
            "text/plain": [
              "<pandas.io.formats.style.Styler at 0x7fd308834130>"
            ],
            "text/html": [
              "<style type=\"text/css\">\n",
              "#T_01e73_row0_col1, #T_01e73_row1_col1, #T_01e73_row2_col1, #T_01e73_row2_col3, #T_01e73_row3_col1, #T_01e73_row4_col1, #T_01e73_row5_col1, #T_01e73_row6_col1, #T_01e73_row7_col1, #T_01e73_row8_col1, #T_01e73_row9_col1, #T_01e73_row10_col1, #T_01e73_row11_col1, #T_01e73_row12_col1, #T_01e73_row13_col1, #T_01e73_row14_col1, #T_01e73_row15_col1, #T_01e73_row16_col1, #T_01e73_row17_col1, #T_01e73_row17_col2, #T_01e73_row18_col1, #T_01e73_row18_col2, #T_01e73_row19_col1, #T_01e73_row19_col2 {\n",
              "  background-color: #440154;\n",
              "  color: #f1f1f1;\n",
              "}\n",
              "#T_01e73_row0_col2, #T_01e73_row7_col3 {\n",
              "  background-color: #fde725;\n",
              "  color: #000000;\n",
              "}\n",
              "#T_01e73_row0_col3 {\n",
              "  background-color: #93d741;\n",
              "  color: #000000;\n",
              "}\n",
              "#T_01e73_row1_col2 {\n",
              "  background-color: #1fa088;\n",
              "  color: #f1f1f1;\n",
              "}\n",
              "#T_01e73_row1_col3, #T_01e73_row11_col2 {\n",
              "  background-color: #471365;\n",
              "  color: #f1f1f1;\n",
              "}\n",
              "#T_01e73_row2_col2 {\n",
              "  background-color: #29798e;\n",
              "  color: #f1f1f1;\n",
              "}\n",
              "#T_01e73_row3_col2 {\n",
              "  background-color: #2d718e;\n",
              "  color: #f1f1f1;\n",
              "}\n",
              "#T_01e73_row3_col3 {\n",
              "  background-color: #481f70;\n",
              "  color: #f1f1f1;\n",
              "}\n",
              "#T_01e73_row4_col2 {\n",
              "  background-color: #32658e;\n",
              "  color: #f1f1f1;\n",
              "}\n",
              "#T_01e73_row4_col3, #T_01e73_row5_col2, #T_01e73_row6_col2 {\n",
              "  background-color: #39568c;\n",
              "  color: #f1f1f1;\n",
              "}\n",
              "#T_01e73_row5_col3 {\n",
              "  background-color: #3aba76;\n",
              "  color: #f1f1f1;\n",
              "}\n",
              "#T_01e73_row6_col3 {\n",
              "  background-color: #22a884;\n",
              "  color: #f1f1f1;\n",
              "}\n",
              "#T_01e73_row7_col2 {\n",
              "  background-color: #3b528b;\n",
              "  color: #f1f1f1;\n",
              "}\n",
              "#T_01e73_row8_col2 {\n",
              "  background-color: #3f4788;\n",
              "  color: #f1f1f1;\n",
              "}\n",
              "#T_01e73_row8_col3 {\n",
              "  background-color: #482979;\n",
              "  color: #f1f1f1;\n",
              "}\n",
              "#T_01e73_row9_col2 {\n",
              "  background-color: #472c7a;\n",
              "  color: #f1f1f1;\n",
              "}\n",
              "#T_01e73_row9_col3, #T_01e73_row10_col2 {\n",
              "  background-color: #481a6c;\n",
              "  color: #f1f1f1;\n",
              "}\n",
              "#T_01e73_row10_col3 {\n",
              "  background-color: #277f8e;\n",
              "  color: #f1f1f1;\n",
              "}\n",
              "#T_01e73_row11_col3 {\n",
              "  background-color: #482374;\n",
              "  color: #f1f1f1;\n",
              "}\n",
              "#T_01e73_row12_col2 {\n",
              "  background-color: #471063;\n",
              "  color: #f1f1f1;\n",
              "}\n",
              "#T_01e73_row12_col3 {\n",
              "  background-color: #3a538b;\n",
              "  color: #f1f1f1;\n",
              "}\n",
              "#T_01e73_row13_col2, #T_01e73_row14_col2 {\n",
              "  background-color: #460a5d;\n",
              "  color: #f1f1f1;\n",
              "}\n",
              "#T_01e73_row13_col3 {\n",
              "  background-color: #3b518b;\n",
              "  color: #f1f1f1;\n",
              "}\n",
              "#T_01e73_row14_col3 {\n",
              "  background-color: #404688;\n",
              "  color: #f1f1f1;\n",
              "}\n",
              "#T_01e73_row15_col2, #T_01e73_row16_col2 {\n",
              "  background-color: #450559;\n",
              "  color: #f1f1f1;\n",
              "}\n",
              "#T_01e73_row15_col3 {\n",
              "  background-color: #46c06f;\n",
              "  color: #f1f1f1;\n",
              "}\n",
              "#T_01e73_row16_col3, #T_01e73_row17_col3 {\n",
              "  background-color: #33638d;\n",
              "  color: #f1f1f1;\n",
              "}\n",
              "#T_01e73_row18_col3 {\n",
              "  background-color: #460b5e;\n",
              "  color: #f1f1f1;\n",
              "}\n",
              "#T_01e73_row19_col3 {\n",
              "  background-color: #355e8d;\n",
              "  color: #f1f1f1;\n",
              "}\n",
              "</style>\n",
              "<table id=\"T_01e73\" class=\"dataframe\">\n",
              "  <thead>\n",
              "    <tr>\n",
              "      <th class=\"blank level0\" >&nbsp;</th>\n",
              "      <th id=\"T_01e73_level0_col0\" class=\"col_heading level0 col0\" >full_name</th>\n",
              "      <th id=\"T_01e73_level0_col1\" class=\"col_heading level0 col1\" >rating</th>\n",
              "      <th id=\"T_01e73_level0_col2\" class=\"col_heading level0 col2\" >num_reviews</th>\n",
              "      <th id=\"T_01e73_level0_col3\" class=\"col_heading level0 col3\" >num_published_lectures</th>\n",
              "    </tr>\n",
              "    <tr>\n",
              "      <th class=\"index_name level0\" >courses</th>\n",
              "      <th class=\"blank col0\" >&nbsp;</th>\n",
              "      <th class=\"blank col1\" >&nbsp;</th>\n",
              "      <th class=\"blank col2\" >&nbsp;</th>\n",
              "      <th class=\"blank col3\" >&nbsp;</th>\n",
              "    </tr>\n",
              "  </thead>\n",
              "  <tbody>\n",
              "    <tr>\n",
              "      <th id=\"T_01e73_level0_row0\" class=\"row_heading level0 row0\" >The Complete ARKit Course - Build 11 Augmented Reality Apps</th>\n",
              "      <td id=\"T_01e73_row0_col0\" class=\"data row0 col0\" >Codestars • over 2 million students worldwide!</td>\n",
              "      <td id=\"T_01e73_row0_col1\" class=\"data row0 col1\" >5.000000</td>\n",
              "      <td id=\"T_01e73_row0_col2\" class=\"data row0 col2\" >2234</td>\n",
              "      <td id=\"T_01e73_row0_col3\" class=\"data row0 col3\" >94</td>\n",
              "    </tr>\n",
              "    <tr>\n",
              "      <th id=\"T_01e73_level0_row1\" class=\"row_heading level0 row1\" >Abdomen Definido y Fuerte - Buff Academy</th>\n",
              "      <td id=\"T_01e73_row1_col0\" class=\"data row1 col0\" >Vadym Cavalera</td>\n",
              "      <td id=\"T_01e73_row1_col1\" class=\"data row1 col1\" >5.000000</td>\n",
              "      <td id=\"T_01e73_row1_col2\" class=\"data row1 col2\" >1468</td>\n",
              "      <td id=\"T_01e73_row1_col3\" class=\"data row1 col3\" >11</td>\n",
              "    </tr>\n",
              "    <tr>\n",
              "      <th id=\"T_01e73_level0_row2\" class=\"row_heading level0 row2\" >StichMethod Blues Master Class Part 1.</th>\n",
              "      <td id=\"T_01e73_row2_col0\" class=\"data row2 col0\" >Ian Stich</td>\n",
              "      <td id=\"T_01e73_row2_col1\" class=\"data row2 col1\" >5.000000</td>\n",
              "      <td id=\"T_01e73_row2_col2\" class=\"data row2 col2\" >1182</td>\n",
              "      <td id=\"T_01e73_row2_col3\" class=\"data row2 col3\" >6</td>\n",
              "    </tr>\n",
              "    <tr>\n",
              "      <th id=\"T_01e73_level0_row3\" class=\"row_heading level0 row3\" >Reiki, Usui, Kahuna, Tibetano - Nível 3A</th>\n",
              "      <td id=\"T_01e73_row3_col0\" class=\"data row3 col0\" >Joao Caputo e Oliveira</td>\n",
              "      <td id=\"T_01e73_row3_col1\" class=\"data row3 col1\" >5.000000</td>\n",
              "      <td id=\"T_01e73_row3_col2\" class=\"data row3 col2\" >1125</td>\n",
              "      <td id=\"T_01e73_row3_col3\" class=\"data row3 col3\" >15</td>\n",
              "    </tr>\n",
              "    <tr>\n",
              "      <th id=\"T_01e73_level0_row4\" class=\"row_heading level0 row4\" >Lower Back Pain: Relaxation and Therapeutic Exercise</th>\n",
              "      <td id=\"T_01e73_row4_col0\" class=\"data row4 col0\" >Uzzal's Learning School</td>\n",
              "      <td id=\"T_01e73_row4_col1\" class=\"data row4 col1\" >5.000000</td>\n",
              "      <td id=\"T_01e73_row4_col2\" class=\"data row4 col2\" >1042</td>\n",
              "      <td id=\"T_01e73_row4_col3\" class=\"data row4 col3\" >34</td>\n",
              "    </tr>\n",
              "    <tr>\n",
              "      <th id=\"T_01e73_level0_row5\" class=\"row_heading level0 row5\" >3D Modeling Piped Systems in AutoCAD</th>\n",
              "      <td id=\"T_01e73_row5_col0\" class=\"data row5 col0\" >Paul Lynn</td>\n",
              "      <td id=\"T_01e73_row5_col1\" class=\"data row5 col1\" >5.000000</td>\n",
              "      <td id=\"T_01e73_row5_col2\" class=\"data row5 col2\" >942</td>\n",
              "      <td id=\"T_01e73_row5_col3\" class=\"data row5 col3\" >77</td>\n",
              "    </tr>\n",
              "    <tr>\n",
              "      <th id=\"T_01e73_level0_row6\" class=\"row_heading level0 row6\" >Forex & Financial Market Trading Tutorial- Online Strategies</th>\n",
              "      <td id=\"T_01e73_row6_col0\" class=\"data row6 col0\" >PFOREX COM</td>\n",
              "      <td id=\"T_01e73_row6_col1\" class=\"data row6 col1\" >5.000000</td>\n",
              "      <td id=\"T_01e73_row6_col2\" class=\"data row6 col2\" >941</td>\n",
              "      <td id=\"T_01e73_row6_col3\" class=\"data row6 col3\" >69</td>\n",
              "    </tr>\n",
              "    <tr>\n",
              "      <th id=\"T_01e73_level0_row7\" class=\"row_heading level0 row7\" >IEC Paradigms (Level 4)</th>\n",
              "      <td id=\"T_01e73_row7_col0\" class=\"data row7 col0\" >Paul Lynn</td>\n",
              "      <td id=\"T_01e73_row7_col1\" class=\"data row7 col1\" >5.000000</td>\n",
              "      <td id=\"T_01e73_row7_col2\" class=\"data row7 col2\" >914</td>\n",
              "      <td id=\"T_01e73_row7_col3\" class=\"data row7 col3\" >111</td>\n",
              "    </tr>\n",
              "    <tr>\n",
              "      <th id=\"T_01e73_level0_row8\" class=\"row_heading level0 row8\" >Creare video con la fotocamera Reflex</th>\n",
              "      <td id=\"T_01e73_row8_col0\" class=\"data row8 col0\" >Davide Vasta</td>\n",
              "      <td id=\"T_01e73_row8_col1\" class=\"data row8 col1\" >5.000000</td>\n",
              "      <td id=\"T_01e73_row8_col2\" class=\"data row8 col2\" >851</td>\n",
              "      <td id=\"T_01e73_row8_col3\" class=\"data row8 col3\" >18</td>\n",
              "    </tr>\n",
              "    <tr>\n",
              "      <th id=\"T_01e73_level0_row9\" class=\"row_heading level0 row9\" >Dreamweaver - Coding your first website using Dreamweaver</th>\n",
              "      <td id=\"T_01e73_row9_col0\" class=\"data row9 col0\" >Daniel Walter Scott</td>\n",
              "      <td id=\"T_01e73_row9_col1\" class=\"data row9 col1\" >5.000000</td>\n",
              "      <td id=\"T_01e73_row9_col2\" class=\"data row9 col2\" >691</td>\n",
              "      <td id=\"T_01e73_row9_col3\" class=\"data row9 col3\" >13</td>\n",
              "    </tr>\n",
              "    <tr>\n",
              "      <th id=\"T_01e73_level0_row10\" class=\"row_heading level0 row10\" >Watches: How to Design, Manufacture and Build a Brand</th>\n",
              "      <td id=\"T_01e73_row10_col0\" class=\"data row10 col0\" >Jahn Karsybaev</td>\n",
              "      <td id=\"T_01e73_row10_col1\" class=\"data row10 col1\" >5.000000</td>\n",
              "      <td id=\"T_01e73_row10_col2\" class=\"data row10 col2\" >596</td>\n",
              "      <td id=\"T_01e73_row10_col3\" class=\"data row10 col3\" >51</td>\n",
              "    </tr>\n",
              "    <tr>\n",
              "      <th id=\"T_01e73_level0_row11\" class=\"row_heading level0 row11\" >Level 2 The Definitive Guide To Trance Psychic Mediumship</th>\n",
              "      <td id=\"T_01e73_row11_col0\" class=\"data row11 col0\" >Julian Jenkins</td>\n",
              "      <td id=\"T_01e73_row11_col1\" class=\"data row11 col1\" >5.000000</td>\n",
              "      <td id=\"T_01e73_row11_col2\" class=\"data row11 col2\" >558</td>\n",
              "      <td id=\"T_01e73_row11_col3\" class=\"data row11 col3\" >16</td>\n",
              "    </tr>\n",
              "    <tr>\n",
              "      <th id=\"T_01e73_level0_row12\" class=\"row_heading level0 row12\" >Producción Musical & Music Business</th>\n",
              "      <td id=\"T_01e73_row12_col0\" class=\"data row12 col0\" >CLAVEDIGITAL Training Center</td>\n",
              "      <td id=\"T_01e73_row12_col1\" class=\"data row12 col1\" >5.000000</td>\n",
              "      <td id=\"T_01e73_row12_col2\" class=\"data row12 col2\" >544</td>\n",
              "      <td id=\"T_01e73_row12_col3\" class=\"data row12 col3\" >33</td>\n",
              "    </tr>\n",
              "    <tr>\n",
              "      <th id=\"T_01e73_level0_row13\" class=\"row_heading level0 row13\" >Animação no PowerPoint: Slides Animados e Efeitos Incríveis</th>\n",
              "      <td id=\"T_01e73_row13_col0\" class=\"data row13 col0\" >Ismar Souza</td>\n",
              "      <td id=\"T_01e73_row13_col1\" class=\"data row13 col1\" >5.000000</td>\n",
              "      <td id=\"T_01e73_row13_col2\" class=\"data row13 col2\" >520</td>\n",
              "      <td id=\"T_01e73_row13_col3\" class=\"data row13 col3\" >32</td>\n",
              "    </tr>\n",
              "    <tr>\n",
              "      <th id=\"T_01e73_level0_row14\" class=\"row_heading level0 row14\" >The Talking Dead - Basics of Spirit Communication</th>\n",
              "      <td id=\"T_01e73_row14_col0\" class=\"data row14 col0\" >Stacey Tallitsch</td>\n",
              "      <td id=\"T_01e73_row14_col1\" class=\"data row14 col1\" >5.000000</td>\n",
              "      <td id=\"T_01e73_row14_col2\" class=\"data row14 col2\" >516</td>\n",
              "      <td id=\"T_01e73_row14_col3\" class=\"data row14 col3\" >28</td>\n",
              "    </tr>\n",
              "    <tr>\n",
              "      <th id=\"T_01e73_level0_row15\" class=\"row_heading level0 row15\" >Learn Ethical Hacking & Reverse Engineering</th>\n",
              "      <td id=\"T_01e73_row15_col0\" class=\"data row15 col0\" >Paul Chin</td>\n",
              "      <td id=\"T_01e73_row15_col1\" class=\"data row15 col1\" >5.000000</td>\n",
              "      <td id=\"T_01e73_row15_col2\" class=\"data row15 col2\" >496</td>\n",
              "      <td id=\"T_01e73_row15_col3\" class=\"data row15 col3\" >80</td>\n",
              "    </tr>\n",
              "    <tr>\n",
              "      <th id=\"T_01e73_level0_row16\" class=\"row_heading level0 row16\" >Photography - Become a Better Photographer - Part II</th>\n",
              "      <td id=\"T_01e73_row16_col0\" class=\"data row16 col0\" >Bernie Raffe AMPA</td>\n",
              "      <td id=\"T_01e73_row16_col1\" class=\"data row16 col1\" >5.000000</td>\n",
              "      <td id=\"T_01e73_row16_col2\" class=\"data row16 col2\" >495</td>\n",
              "      <td id=\"T_01e73_row16_col3\" class=\"data row16 col3\" >39</td>\n",
              "    </tr>\n",
              "    <tr>\n",
              "      <th id=\"T_01e73_level0_row17\" class=\"row_heading level0 row17\" >Acoustic Guitar For Beginners</th>\n",
              "      <td id=\"T_01e73_row17_col0\" class=\"data row17 col0\" >Varun Olimattel</td>\n",
              "      <td id=\"T_01e73_row17_col1\" class=\"data row17 col1\" >5.000000</td>\n",
              "      <td id=\"T_01e73_row17_col2\" class=\"data row17 col2\" >473</td>\n",
              "      <td id=\"T_01e73_row17_col3\" class=\"data row17 col3\" >39</td>\n",
              "    </tr>\n",
              "    <tr>\n",
              "      <th id=\"T_01e73_level0_row18\" class=\"row_heading level0 row18\" >Como Conseguir Fotos, Ilustrações e Vídeos Gratuitos na Web</th>\n",
              "      <td id=\"T_01e73_row18_col0\" class=\"data row18 col0\" >Paulo Andrade, Ph.D.</td>\n",
              "      <td id=\"T_01e73_row18_col1\" class=\"data row18 col1\" >5.000000</td>\n",
              "      <td id=\"T_01e73_row18_col2\" class=\"data row18 col2\" >473</td>\n",
              "      <td id=\"T_01e73_row18_col3\" class=\"data row18 col3\" >9</td>\n",
              "    </tr>\n",
              "    <tr>\n",
              "      <th id=\"T_01e73_level0_row19\" class=\"row_heading level0 row19\" >Investimentos em Fundos Imobiliários (FIIs) na Bolsa</th>\n",
              "      <td id=\"T_01e73_row19_col0\" class=\"data row19 col0\" >Allekes Meurer</td>\n",
              "      <td id=\"T_01e73_row19_col1\" class=\"data row19 col1\" >5.000000</td>\n",
              "      <td id=\"T_01e73_row19_col2\" class=\"data row19 col2\" >473</td>\n",
              "      <td id=\"T_01e73_row19_col3\" class=\"data row19 col3\" >37</td>\n",
              "    </tr>\n",
              "  </tbody>\n",
              "</table>\n"
            ]
          },
          "metadata": {},
          "execution_count": 134
        }
      ]
    },
    {
      "cell_type": "code",
      "source": [
        "Udemy_df['created_monthname'] = pd.Categorical(Udemy_df['created_monthname'],categories=['January', 'February', 'March', 'April', 'May', 'June','July', 'August', 'September', 'October', 'November', 'December'],ordered=True)\n",
        "Monthwise_No_of_reviews=Udemy_df.groupby('created_monthname')['num_reviews'].sum().reset_index().sort_values(by='created_monthname',ascending=True)"
      ],
      "metadata": {
        "id": "jUj01yMVcpvM"
      },
      "execution_count": null,
      "outputs": []
    },
    {
      "cell_type": "code",
      "source": [
        "plt.figure(figsize=(15,5))\n",
        "sns.lineplot(x='created_monthname',y='num_reviews',data=Monthwise_No_of_reviews,color='blue')\n",
        "plt.title('Reviews over Months')\n",
        "plt.show()"
      ],
      "metadata": {
        "colab": {
          "base_uri": "https://localhost:8080/",
          "height": 446
        },
        "id": "EP4PPkqDcwmT",
        "outputId": "4105496d-b5cb-430e-df94-568ff142e75a"
      },
      "execution_count": null,
      "outputs": [
        {
          "output_type": "display_data",
          "data": {
            "text/plain": [
              "<Figure size 1500x500 with 1 Axes>"
            ],
            "image/png": "[encoded data removed]"
          },
          "metadata": {}
        }
      ]
    },
    {
      "cell_type": "code",
      "source": [],
      "metadata": {
        "id": "Z6UueHESczNW"
      },
      "execution_count": null,
      "outputs": []
    }
  ],
  "metadata": {
    "colab": {
      "provenance": []
    },
    "kernelspec": {
      "display_name": "Python 3",
      "name": "python3"
    },
    "language_info": {
      "name": "python"
    }
  },
  "nbformat": 4,
  "nbformat_minor": 0
}